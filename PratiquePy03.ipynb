{
  "nbformat": 4,
  "nbformat_minor": 0,
  "metadata": {
    "colab": {
      "name": "PratiquePy03",
      "provenance": [],
      "collapsed_sections": [],
      "include_colab_link": true
    },
    "kernelspec": {
      "name": "python3",
      "display_name": "Python 3"
    },
    "language_info": {
      "name": "python"
    }
  },
  "cells": [
    {
      "cell_type": "markdown",
      "metadata": {
        "id": "view-in-github",
        "colab_type": "text"
      },
      "source": [
        "<a href=\"https://colab.research.google.com/github/CodeParlance/PyLabs/blob/main/PratiquePy03.ipynb\" target=\"_parent\"><img src=\"https://colab.research.google.com/assets/colab-badge.svg\" alt=\"Open In Colab\"/></a>"
      ]
    },
    {
      "cell_type": "markdown",
      "metadata": {
        "id": "YnWkTRM9HsCY"
      },
      "source": [
        "#Exercícios Resolvidos e Comentados#\n",
        "\n",
        "##Soluções 'Recursivas' e 'Iterativas'##\n",
        "\n",
        "Como vimos funções em Python, faremos alguns exercícios que envolverão o uso de técnicas de repetição, decisão e funções - cobrindo integralmente o raciocínio algorítmico para resolver problemas.\n",
        "\n",
        "**R1. Escreva uma função para calcular o fatorial de um número natural não negativo. Teste a função para alguns valores de N, por exemplo 5, 11, 25.**\n",
        "\n",
        "Ora, ao pensar sobre a questão você deve imaginar que uma linguagem como Python já deve ter 'embutida' uma função que calcule o fatorial de um número. Sim, você acertou. Essa função é a 'factorial' e faz parte nativamente de python (biblioteca padrão da linguagem). \n",
        "\n",
        "Todavia o exercício propõe que você aplique o conceito matemático de fatorial e faça o algoritmo que resolve a função, apenas para exercitar seu raciocínio. Vamos ao problema.\n",
        "\n",
        "\n",
        "Como é definida a função fatorial:\n",
        "\n",
        "(I) Seja $x \\in 𝚴$ então $f(x) = 1$, se $x = 0$ e $f(x) = x.f(x-1)$, se $x > 0$.\n",
        "\n",
        "Observamos algo interessante nessa definição matemática. Note que a função fatorial f [no primeiro membro], chama a própria função [em f(x-1)] numa 'instância menor' de x [(x-1)] lá no segundo membro.\n",
        "\n",
        "Funções que possuem esse comportamento recorrente, chamando a si própria, são conhecidas na matemática e na computação pelo nome de **funções recursivas**, pois recorrem a elas mesmas para serem resolvidas quando aplicadas a domínios (ou subdomínios) mais restritos.\n",
        "\n",
        "Exploraremos mais o conceito de recursividade em alguns outros problemas e veremos que esse conceito matemático é muito poderoso na resolução de alguns problemas, pois utiliza a 'redução de dimensionalidade' para achar soluções simples para problemas complexos, como veremos nesse caso do fatorial.\n",
        "\n"
      ]
    },
    {
      "cell_type": "code",
      "metadata": {
        "id": "JSbDDW81FWnk"
      },
      "source": [
        "# Resolvendo o fatorial de um número - primeira versão.\n",
        "\n",
        "``` \n",
        "#Algoritmo do Fatorial de um número x\n",
        "definir Fatorial (x)\n",
        "  Se x == 0 Então Retornar 1\n",
        "  Senão\n",
        "     Retornar (x*Fatorial(x-1))\n",
        "```"
      ],
      "execution_count": null,
      "outputs": []
    },
    {
      "cell_type": "markdown",
      "metadata": {
        "id": "VugJwdiqLFl7"
      },
      "source": [
        "Acima pensamos em termos algorítmicos para definir uma função passo a passo com base na definição do fatorial do ponto de vista matemático. Mas como seria em Python? Chamamos o 'rascunho de um algoritmo' numa linguagem, como o português, acima de \"pseudocódigo\", pois ele cria o passo enquanto raciocinamos sobre o problema de forma natural. Todavia é um passo que só auxilia a raciocinar, pois logo em seguida - devemos abandoná-lo para desenvolver o algoritmo na linguagem de programação que adotamos para resolver problemas (nesse caso, o Python 3)"
      ]
    },
    {
      "cell_type": "code",
      "metadata": {
        "id": "xQ8FzvWxJqM8"
      },
      "source": [
        "# Algoritmo do Fatorial usando Python\n",
        "\n",
        "def Fatorial (x):\n",
        "  if x == 0:                                                   # verifica se x é zero \n",
        "    return(1)                                                        # retorna 1, se verdade. \n",
        "  elif x > 0:                                                  # senão, verificar se x > 0\n",
        "    return (x*Fatorial(x-1))                                         # retornar o fatorial por recursividade\n",
        "  elif x < 0:                                                  # se for informado um número negativo\n",
        "    print (\"Erro! Não existe fatorial de número negativo!!\")         # informe um erro, pois x DEVE ser não negativo."
      ],
      "execution_count": null,
      "outputs": []
    },
    {
      "cell_type": "markdown",
      "metadata": {
        "id": "trStXg0UVLBK"
      },
      "source": [
        "Que tal testar o que foi feito, para checar se está tudo em conformidade com a definição matemática e com o programa/algoritmo acima? Não esqueça de executar antes o código acima para que o 'Interpretador do Python' execute a função e a\n",
        "reconheça a partir desse ponto. Nunca esqueça ao definir ou modificar uma função, execute o código antes de usá-lo ou testá-lo."
      ]
    },
    {
      "cell_type": "code",
      "metadata": {
        "colab": {
          "base_uri": "https://localhost:8080/"
        },
        "id": "DMMyAI7HVKom",
        "outputId": "59a258a0-b574-4bce-a48b-05e4e346658d"
      },
      "source": [
        "# testando a função Fatorial com argumento x = 5\n",
        "print(Fatorial(5))\n",
        "# testando a função Fatorial com argumento x = 10\n",
        "print(Fatorial(10))\n",
        "# testando a função Fatorial com argumento x = 15\n",
        "print(Fatorial(15))"
      ],
      "execution_count": null,
      "outputs": [
        {
          "output_type": "stream",
          "name": "stdout",
          "text": [
            "120\n",
            "3628800\n",
            "1307674368000\n"
          ]
        }
      ]
    },
    {
      "cell_type": "markdown",
      "metadata": {
        "id": "Hl6LJTXZjpUI"
      },
      "source": [
        "Resolvemos o problema do Fatorial(x) de forma simples e elegante a partir da própria definição matemática da função. Mas tente calcular, por exemplo o \n",
        "fatorial de 1000 (?!!!)..."
      ]
    },
    {
      "cell_type": "code",
      "metadata": {
        "id": "i5ol87yXkd8D"
      },
      "source": [
        "# calculando o Fatorial(100)\n",
        "print(Fatorial(1000))"
      ],
      "execution_count": null,
      "outputs": []
    },
    {
      "cell_type": "markdown",
      "metadata": {
        "id": "QuFaH2g8k3iE"
      },
      "source": [
        "Se você obteve uma mensagem de erro semelhante a que aparece na figura abaixo, ainda não entre em desespero (eu disse, ainda). Na verdade o Python reclama\n",
        "que a 'profundidade máxima de recursão' foi atingida e que não pode evoluir\n",
        "no cálculo a partir daí. Para evitar uma explicação técnica longa, foi dar um exemplo para que você entenda rápido o problema. \n",
        "\n",
        "![ErroDePilhaRecursividade.PNG](data:image/png;base64,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)\n",
        "\n",
        "Imagine que você tem um apartamento cujo pé direito é uma medida padrão de 2,70 metros (distância do solo ao teto). Você tem uma mesa com altura de 0,70 metros, restando 2 metros da mesa ao solo. Você precisa agora empilhar bandejas na mesa e óbvio você só pode empilhá-las até os 2 metros que lhe restam (até o teto), ao empilhar a última bandeja não lhe resta mais espaço naquela pilha e você tem de parar a operação por falta de espaço para armazenar mais uma bandeja.\n",
        "\n",
        "É exatamente isso que esse erro lhe diz. O espaço para as chamadas à própria função na memória do computador foi exaurido e o Python não pode mais 'empilhar' chamadas recursivas à própria função, retornando um erro de \"stack overflow\" que em bom português significa \"Pilha Cheia\", outra forma de dizer que a memória para esse tipo de operação, no Python, esgotou!\n"
      ]
    },
    {
      "cell_type": "markdown",
      "metadata": {
        "id": "TNPRxkS1Qr7O"
      },
      "source": [
        "Como vimos, um problema com funções ou soluções recursivas é que podemos ter vários níveis de profundidade, dependendo do argumento da função. Se o argumento\n",
        "exige várias chamadas à própria função, pode não haver memória (RAM) suficiente\n",
        "para calcular a função naquele argumento.\n",
        "\n",
        "Nesse caso podemos elaborar uma outra solução para o  mesmo problema que em vez de chamadas recorrentes, pode usar repetições (com 'for' ou 'while') para chamadas mais eficientes aos procedimentos ou funções que solucionam o problema.\n",
        "Vejamos o caso do fatorial de novo.\n",
        "\n"
      ]
    },
    {
      "cell_type": "code",
      "metadata": {
        "id": "fXL6FkR8QQtb"
      },
      "source": [
        "```\n",
        "Algoritmo Iterativo para o Fatorial de x, x >= 0.\n",
        "\n",
        "Definir Função FatorialX (x)\n",
        "  faça fat=1                      # inicie com fatorial igual a 1\n",
        "  para i no intervalo (1,x) faça  # para os números de 1 até x calcule:\n",
        "     fat = fat * i                #    acumule o produto sucessivo de i até x\n",
        "                                  #    guardando em fat, a cada passo i\n",
        "  retornar fat                    # ao terminar a repetição acima...\n",
        "                                  # imprimir o fatorial armazenado em fat.\n",
        "                                  # fim do algoritmo\n",
        "```\n"
      ],
      "execution_count": null,
      "outputs": []
    },
    {
      "cell_type": "code",
      "metadata": {
        "id": "TNqY_LGsXmQG"
      },
      "source": [
        "# O algoritmo 'desenhado' acima é programado em Python como...\n",
        "\n",
        "def fatorialX (x):\n",
        "  fat = 1\n",
        "  for i in range(1,x+1):\n",
        "    fat=fat*i\n",
        "  return(fat)"
      ],
      "execution_count": null,
      "outputs": []
    },
    {
      "cell_type": "code",
      "metadata": {
        "colab": {
          "base_uri": "https://localhost:8080/"
        },
        "id": "7WyQFg5eZDNY",
        "outputId": "c5c4badb-60d5-46c0-d5c3-937819ddf250"
      },
      "source": [
        "# testando o algoritmo com vários valores\n",
        "\n",
        "# calcule o fat de zero\n",
        "print(fatorialX(0))\n",
        "\n",
        "# calcule o fat de 1\n",
        "print(fatorialX(1))\n",
        "\n",
        "# calcule o fat de0 4\n",
        "print(fatorialX(4))\n",
        "\n",
        "# calcule o fat de 1000 - observe a velocidade do cálculo agora\n",
        "print(fatorialX(1000))"
      ],
      "execution_count": null,
      "outputs": [
        {
          "output_type": "stream",
          "name": "stdout",
          "text": [
            "1\n",
            "1\n",
            "24\n",
            "402387260077093773543702433923003985719374864210714632543799910429938512398629020592044208486969404800479988610197196058631666872994808558901323829669944590997424504087073759918823627727188732519779505950995276120874975462497043601418278094646496291056393887437886487337119181045825783647849977012476632889835955735432513185323958463075557409114262417474349347553428646576611667797396668820291207379143853719588249808126867838374559731746136085379534524221586593201928090878297308431392844403281231558611036976801357304216168747609675871348312025478589320767169132448426236131412508780208000261683151027341827977704784635868170164365024153691398281264810213092761244896359928705114964975419909342221566832572080821333186116811553615836546984046708975602900950537616475847728421889679646244945160765353408198901385442487984959953319101723355556602139450399736280750137837615307127761926849034352625200015888535147331611702103968175921510907788019393178114194545257223865541461062892187960223838971476088506276862967146674697562911234082439208160153780889893964518263243671616762179168909779911903754031274622289988005195444414282012187361745992642956581746628302955570299024324153181617210465832036786906117260158783520751516284225540265170483304226143974286933061690897968482590125458327168226458066526769958652682272807075781391858178889652208164348344825993266043367660176999612831860788386150279465955131156552036093988180612138558600301435694527224206344631797460594682573103790084024432438465657245014402821885252470935190620929023136493273497565513958720559654228749774011413346962715422845862377387538230483865688976461927383814900140767310446640259899490222221765904339901886018566526485061799702356193897017860040811889729918311021171229845901641921068884387121855646124960798722908519296819372388642614839657382291123125024186649353143970137428531926649875337218940694281434118520158014123344828015051399694290153483077644569099073152433278288269864602789864321139083506217095002597389863554277196742822248757586765752344220207573630569498825087968928162753848863396909959826280956121450994871701244516461260379029309120889086942028510640182154399457156805941872748998094254742173582401063677404595741785160829230135358081840096996372524230560855903700624271243416909004153690105933983835777939410970027753472000000000000000000000000000000000000000000000000000000000000000000000000000000000000000000000000000000000000000000000000000000000000000000000000000000000000000000000000000000000000000000000000000000000000000000000000000000000000000000000000000000000\n"
          ]
        }
      ]
    },
    {
      "cell_type": "markdown",
      "metadata": {
        "id": "PBzZ8_N-tld1"
      },
      "source": [
        "**Os números primos e os segredos mundiais!**\n",
        "\n",
        "O que os números primos têm a ver com segredos e porque eles são tão importantes para qualquer tipo de segurança e privacidade na era da Internet? Ora, ainda quando estávamos no ensino fundamental nossos professores de matemática nos ensinaram que 'todo número inteiro maior que 1, pode ser expresso\n",
        "como um produto de números primos' [clique aqui para saber mais](https://pt.wikipedia.org/wiki/Teorema_fundamental_da_aritmética).\n",
        "\n",
        "Essa informação leva a uma característica importante para os algoritmos que permitem criptografia, que números obtidos de produtos de números primos gigantes podem funcionar como 'chaves seguras' cuja probabilidade de quebrar é muito difícil (mas  não impossível).[Quer saber mais? clique aqui](https://bit.ly/3rsjGAW). Ou seja, saber gerar números primos é importante para o mundo contemporâneo, principalmente porque os algoritmos que controlam nossas vidas dependem deles para nos dar segurança.\n",
        "\n",
        "Mas nesse momento estamos interessados em primos para aprender como resolver problemas algorítmicos e o problema a seguir nos dará a oportunidade de pensar sobre isso.\n",
        "\n",
        "**R2. Considere que estamos interessados em gerar todos os números primos num\n",
        "determinado intervalo tal que: $ inf \\leq p \\leq sup $. Escreva um algoritmo que gere e conte todos os primos num intervalo (inf, sup) qualquer!**\n",
        "\n",
        "\n",
        "Como já dissemos para criar expertise e dominar o 'pensamento algorítmico' para se resolver problemas é suficiente entender o que se pede claramente e desenhar um 'passo a passo' do processo de solução.\n",
        "\n",
        "A primeira pergunta que fazemos é \"O que é um número primo?\" ou seja, qual é a sua definição matemática?! Esse é o nosso ponto de partida para resolver efetivamente o problema.\n",
        "\n",
        "Por definição x é um primo se é um natural maior ou igual a 2 e tem como divisores **apenas** o número 1 e o próprio número.\n",
        "\n",
        "Essa definição já é a metade da resposta que procuramos, veja se não...\n",
        "\n",
        "Tudo que temos que fazer agora é criar um 'procedimento' ou uma 'função' que ao 'percorrer' o intervalo aberto de naturais (inf, sup) verifique sucessivamente se cada número tem divisores próprios (ou seja, se é dividido por outros números que não ele mesmo).\n",
        "\n",
        "Que tal criar uma 'função' que faça isso? E nessa função podemos retornar verdadeiro ou falso, ao 'perguntar se o número tem divisor próprio' e se ele número não tiver divisor próprio vai para o nosso 'balaio dos primos'. Quando terminarmos de varrer o intervalo, nosso 'balaio dos primos' terá pescado se existem primos naquele intervalo e nesse caso quem são! Bom, essa é a ideia!\n",
        "Vejamos se funcionar. Para isso temos que desenhar esse algoritmo e experimentar com ele em intervalos quaisquer, implementando nossa ideia em Python.\n",
        "\n",
        "Mãos à obra, ou melhor - mãos no teclado - vamos desenvolver algoritmos...\n"
      ]
    },
    {
      "cell_type": "markdown",
      "metadata": {
        "id": "4ftPOlFSDwRJ"
      },
      "source": [
        ""
      ]
    },
    {
      "cell_type": "code",
      "metadata": {
        "id": "bSjz4rq8vNGq"
      },
      "source": [
        "´´´ Algoritmo Procura Divisores Próprios de um número\n",
        "definir TemDivisorProprio(x)\n",
        "   se x == 1 OU x == 2 faça   \n",
        "      retornar falso\n",
        "   para i em intervalo [2,x[ faça\n",
        "     se x%i == 0, então\n",
        "       retornar verdadeiro\n",
        "   retornar falso\n",
        "\n",
        "´´´ "
      ],
      "execution_count": null,
      "outputs": []
    },
    {
      "cell_type": "code",
      "metadata": {
        "id": "xbDKLvwrDwuM"
      },
      "source": [
        "# Em Python, Teremos nossa função que diz se um número x tem divisor ou não\n",
        "\n",
        "def TemDivisorProprio(x):\n",
        "  if (x == 1) or (x == 2):        # Por definição 1 e 2 não tem divisores\n",
        "    return(False)                 # então retorne Falso\n",
        "  else:                           # Por outro lado\n",
        "    for i in range(2,x):          # Para qualquer outro número, vamos caçar ... \n",
        "      if x%i == 0:                # se existe algum divisor no intervalo (2,x)       \n",
        "       return(True)                  # retorne verdade\n",
        "    return(False)                 # Não encontrei divisores próprios\n",
        "  "
      ],
      "execution_count": null,
      "outputs": []
    },
    {
      "cell_type": "code",
      "metadata": {
        "colab": {
          "base_uri": "https://localhost:8080/"
        },
        "id": "DvGuaGGkEV05",
        "outputId": "058285be-bb85-4f22-dbe5-f58a6200f25e"
      },
      "source": [
        "# testando a função TemDivisorProprio(x)\n",
        "\n",
        "print(TemDivisorProprio(2))\n",
        "\n",
        "print(TemDivisorProprio(3))\n",
        "\n",
        "print(TemDivisorProprio(4))\n",
        "\n",
        "print(TemDivisorProprio(5))\n",
        "\n",
        "print(TemDivisorProprio(27))\n",
        "\n"
      ],
      "execution_count": null,
      "outputs": [
        {
          "output_type": "stream",
          "name": "stdout",
          "text": [
            "False\n",
            "False\n",
            "True\n",
            "False\n",
            "True\n",
            "True\n",
            "False\n",
            "False\n",
            "False\n"
          ]
        }
      ]
    },
    {
      "cell_type": "markdown",
      "metadata": {
        "id": "AUjFzT7tLtwW"
      },
      "source": [
        "Agora temos a nossa 'vara de pescar primos' em qualquer intervalo natural. Basta aplicar a função acima a qualquer intervalo e vamos descobrir \n",
        "quem é primo e quem não é. Ou seja quem não tem divisores próprios e quem tem, pois se um número tem divisores próprios, por definição não é primo!"
      ]
    },
    {
      "cell_type": "code",
      "metadata": {
        "colab": {
          "base_uri": "https://localhost:8080/"
        },
        "id": "s7I1F_ySGkvM",
        "outputId": "4d6a633a-40d2-43e3-a155-aaf884a62345"
      },
      "source": [
        "´´´ Gerando primos num intervalo natural (a,b) qualquer\n",
        "\n",
        "definir função GerarPrimos (a,b)\n",
        "  contarPrimos = 0                          # No início não há primos\n",
        "  se (b - a > 1) e (a > 0) e (b > a) faça   # garanta que estamos trabalhando com\n",
        "                                            # um intervalo válido\n",
        "     para i em (a+1, b-1) faça              # defina o intervalo de busca\n",
        "       se i == 2 então faça                 # Se o número i é 2, esse é primo\n",
        "        contarPrimos = 1                     # conte um primo\n",
        "        imprimir(i)                          # imprimir tal número\n",
        "       senão                                # não foi o 2\n",
        "          se não TemDivisorProprio (i)      # se i não TemDivisorPróprio\n",
        "          contarPrimos = contarPrimos + 1   # ele é primo\n",
        "          imprimir (i)                      # exiba esse número i\n",
        "       se contarPrimos == 0 então faça      # mas se não encontrou nenhum\n",
        "          imprimir (\"Não há primos entre \", a, \"e \", b) # diga isso\n",
        "  senão:                                    # se chegou aqui é porque não\n",
        "     imprimir (\"O intervalo informado não é válido\") # houve intervalo válido\n",
        "´´´\n",
        "\n"
      ],
      "execution_count": null,
      "outputs": [
        {
          "output_type": "execute_result",
          "data": {
            "text/plain": [
              "0"
            ]
          },
          "metadata": {},
          "execution_count": 32
        }
      ]
    },
    {
      "cell_type": "code",
      "metadata": {
        "id": "D4C88LoNSAgc"
      },
      "source": [
        "# E vamos ver como implementamo isso em Python\n",
        "\n",
        "def GerarPrimos(a,b):\n",
        "  contarPrimos = 0\n",
        "  if (b - a) > 1 and (a > 0) and (b > a):\n",
        "    for i in range(a+1,b):\n",
        "      if i == 2:\n",
        "        contarPrimos = 1\n",
        "        print(2)\n",
        "      else:\n",
        "        if not TemDivisorProprio(i):\n",
        "           contarPrimos = contarPrimos + 1\n",
        "           print(i)\n",
        "    if contarPrimos == 0:\n",
        "      print(\"Não há primos entre \", a, \"e \", b)\n",
        "  else:\n",
        "     print(\"Erro: Seu intervalo é inconsistente com a definição\")"
      ],
      "execution_count": null,
      "outputs": []
    },
    {
      "cell_type": "code",
      "metadata": {
        "id": "8IEs_ymWSARE"
      },
      "source": [
        "# Vamos testar o nosso algoritmo caçador de números primos num intervalo (1,100)\n",
        "GerarPrimos(1,100)\n"
      ],
      "execution_count": null,
      "outputs": []
    },
    {
      "cell_type": "code",
      "metadata": {
        "colab": {
          "base_uri": "https://localhost:8080/"
        },
        "id": "PkgBFCQJUXTh",
        "outputId": "ff033776-5ff5-475c-c2d7-f98bdb60fe1c"
      },
      "source": [
        "# Também num intervalo mais curto\n",
        "GerarPrimos(101,192)"
      ],
      "execution_count": null,
      "outputs": [
        {
          "output_type": "stream",
          "name": "stdout",
          "text": [
            "103\n",
            "107\n",
            "109\n",
            "113\n",
            "127\n",
            "131\n",
            "137\n",
            "139\n",
            "149\n",
            "151\n",
            "157\n",
            "163\n",
            "167\n",
            "173\n",
            "179\n",
            "181\n",
            "191\n"
          ]
        }
      ]
    },
    {
      "cell_type": "code",
      "metadata": {
        "colab": {
          "base_uri": "https://localhost:8080/"
        },
        "id": "irqtFKPVUcSP",
        "outputId": "a571dab4-5270-4c5c-9c74-77d50be908b0"
      },
      "source": [
        "# Testar intervalos estranhos e mal definidos...\n",
        "GerarPrimos (-3,10)"
      ],
      "execution_count": null,
      "outputs": [
        {
          "output_type": "stream",
          "name": "stdout",
          "text": [
            "Erro: Seu intervalo é inconsistente com a definição\n"
          ]
        }
      ]
    },
    {
      "cell_type": "code",
      "metadata": {
        "colab": {
          "base_uri": "https://localhost:8080/"
        },
        "id": "7Ph9sQYoVFCL",
        "outputId": "e8cbc892-b880-4cfc-f503-0815b62ecfc8"
      },
      "source": [
        "GerarPrimos (1,2)"
      ],
      "execution_count": null,
      "outputs": [
        {
          "output_type": "stream",
          "name": "stdout",
          "text": [
            "Erro: Seu intervalo é inconsistente com a definição\n"
          ]
        }
      ]
    },
    {
      "cell_type": "code",
      "metadata": {
        "colab": {
          "base_uri": "https://localhost:8080/"
        },
        "id": "_4QWx90VVPl4",
        "outputId": "f07a0907-c0e5-4080-c6fe-bf09ac0c3634"
      },
      "source": [
        "GerarPrimos (1,3)"
      ],
      "execution_count": null,
      "outputs": [
        {
          "output_type": "stream",
          "name": "stdout",
          "text": [
            "2\n"
          ]
        }
      ]
    }
  ]
}