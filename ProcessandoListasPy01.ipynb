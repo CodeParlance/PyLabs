{
  "cells": [
    {
      "cell_type": "markdown",
      "metadata": {
        "id": "view-in-github",
        "colab_type": "text"
      },
      "source": [
        "<a href=\"https://colab.research.google.com/github/CodeParlance/PyLabs/blob/main/ProcessandoListasPy01.ipynb\" target=\"_parent\"><img src=\"https://colab.research.google.com/assets/colab-badge.svg\" alt=\"Open In Colab\"/></a>"
      ]
    },
    {
      "cell_type": "markdown",
      "id": "370c8f21-6b0a-4cb3-a270-854d823677b3",
      "metadata": {
        "tags": [],
        "id": "370c8f21-6b0a-4cb3-a270-854d823677b3"
      },
      "source": [
        "## Algoritmos e Estruturas de Dados com Python\n",
        "\n",
        "### Unidade: Abordando Listas\n",
        "\n",
        "A lista é um tipo de estrutura de dados em python que permite representar coleções de objetos. Há outros\n",
        "tipos semelhantes, mas abordaremos primeiro como construímos listas e em seguida como realizar operações\n",
        "sobre elas. A utilidade delas será vistas em problemas.\n",
        "\n",
        "Para definir listas no Python usamos o 'abre e fecha' colchetes '[,]' e dentro deles representamos a \n",
        "coleção de objetos que desejamos armazenar. Exemplos seguem...\n",
        "\n"
      ]
    },
    {
      "cell_type": "code",
      "execution_count": null,
      "id": "fe0c9ee2-4387-4588-916d-31c2ffe0f813",
      "metadata": {
        "id": "fe0c9ee2-4387-4588-916d-31c2ffe0f813"
      },
      "outputs": [],
      "source": [
        ""
      ]
    },
    {
      "cell_type": "code",
      "execution_count": null,
      "id": "48b5a037-413f-4815-9be5-6780f45ebaa0",
      "metadata": {
        "id": "48b5a037-413f-4815-9be5-6780f45ebaa0"
      },
      "outputs": [],
      "source": [
        "Vazia = []\n",
        "ListaX = [2,-2,4,5]\n",
        "AlgunsEstados = [\"Alagoas\", \"Bahia\", \"Sergipe\", \"Pernambuco\"]\n",
        "Booleanos = [True, False]\n",
        "MistaX = [True, \"Roberio\", -3]"
      ]
    },
    {
      "cell_type": "markdown",
      "id": "6bd98ed4-66a6-4115-89f2-75aca4b9299a",
      "metadata": {
        "id": "6bd98ed4-66a6-4115-89f2-75aca4b9299a"
      },
      "source": [
        "Observe que podemos ter listas de vários tipos de dados primitivos. Ou seja, podemos ter listas cujos tipos são textos, números ou variáveis lógicas ou uma combinação de todos eles. \n",
        "\n",
        "As listas possuem índices. Ou seja, cada objeto em seu interior tem associado a ele uma posição, que começa do *índice zero* até a última posição da lista. Então lembre-se que ao procurar n-ésimo elemento da lista a posição deve ser n - 1 já que a primeira posição é o índice 0."
      ]
    },
    {
      "cell_type": "code",
      "execution_count": null,
      "id": "f170e39b-783d-42a7-ad37-5456fc9575cf",
      "metadata": {
        "id": "f170e39b-783d-42a7-ad37-5456fc9575cf",
        "outputId": "35512f1c-e075-4a86-bc69-f065ea8db1a3"
      },
      "outputs": [
        {
          "data": {
            "text/plain": [
              "5"
            ]
          },
          "execution_count": 2,
          "metadata": {},
          "output_type": "execute_result"
        }
      ],
      "source": [
        "# indexando elementos numa lista\n",
        "posL = [-2,0,3,5,7]\n",
        "primos = [2,3,5,7,11]\n",
        "# length\n",
        "len(primos)"
      ]
    },
    {
      "cell_type": "markdown",
      "id": "6658afcb-0ef6-449f-8d65-792f1bebf40e",
      "metadata": {
        "id": "6658afcb-0ef6-449f-8d65-792f1bebf40e"
      },
      "source": [
        "Se podemos criar listas com qualquer tipo de dado, também podemos realizar operações sobre as listas criadas que chamamos de métodos de operação, ou simplesmente métodos. Por exemplo suponha que eu queira inserir ou remover objetos numa lista iniciada, como faço?"
      ]
    },
    {
      "cell_type": "code",
      "execution_count": null,
      "id": "53413ab9-d386-4fb4-8f7f-0105ea43de38",
      "metadata": {
        "id": "53413ab9-d386-4fb4-8f7f-0105ea43de38",
        "outputId": "a298804c-7ff8-4665-de42-19c3c2147274"
      },
      "outputs": [
        {
          "data": {
            "text/plain": [
              "[2, 3, 5]"
            ]
          },
          "execution_count": 4,
          "metadata": {},
          "output_type": "execute_result"
        }
      ],
      "source": [
        "# Operando com listas. Operações básicas.\n",
        "\n",
        "# adicionar um elemento no fim da lista - método append\n",
        "\n",
        "Primos = []\n",
        "Primos.append(2)\n",
        "Primos.append(3)\n",
        "Primos.append(5)\n",
        "Primos"
      ]
    },
    {
      "cell_type": "code",
      "execution_count": null,
      "id": "75d2d35b-554a-40ea-8f73-b1b90f3f5a68",
      "metadata": {
        "id": "75d2d35b-554a-40ea-8f73-b1b90f3f5a68",
        "outputId": "0392e669-ea49-43a6-9c98-4dad7ef66082"
      },
      "outputs": [
        {
          "data": {
            "text/plain": [
              "5"
            ]
          },
          "execution_count": 9,
          "metadata": {},
          "output_type": "execute_result"
        }
      ],
      "source": [
        "Primos[2]"
      ]
    },
    {
      "cell_type": "code",
      "execution_count": null,
      "id": "e10cabbe-7770-44ba-83b5-288d747eadd3",
      "metadata": {
        "id": "e10cabbe-7770-44ba-83b5-288d747eadd3",
        "outputId": "3983f682-fb22-4036-c95a-d192c88cafc0"
      },
      "outputs": [
        {
          "name": "stdout",
          "output_type": "stream",
          "text": [
            "[1, 2, 3, 6, 4, 5]\n"
          ]
        }
      ],
      "source": [
        "# Operando com listas.\n",
        "\n",
        "# Inserir um elemento numa posição dada, com o método insert\n",
        "\n",
        "Num = [1,2,3,4,5]\n",
        "Num.insert(3,6)\n",
        "print(Num)"
      ]
    },
    {
      "cell_type": "markdown",
      "id": "b6e90b94-3e97-4e67-8567-fadd403828e6",
      "metadata": {
        "id": "b6e90b94-3e97-4e67-8567-fadd403828e6"
      },
      "source": [
        "Da mesma forma, podemos remover objetos das listas como pelo menos dois comandos. Vejamos"
      ]
    },
    {
      "cell_type": "code",
      "execution_count": null,
      "id": "b6cd0d9d-ce86-4910-b216-8c8976a07d8e",
      "metadata": {
        "id": "b6cd0d9d-ce86-4910-b216-8c8976a07d8e",
        "outputId": "b3566164-6f87-46ce-df6f-298e10e10cfe"
      },
      "outputs": [
        {
          "name": "stdout",
          "output_type": "stream",
          "text": [
            "[1, 2, 6, 3, 4]\n"
          ]
        }
      ],
      "source": [
        "# Usando o método 'pop' para remover o 'último elemento' da lista\n",
        "Num.pop() \n",
        "print(Num)"
      ]
    },
    {
      "cell_type": "code",
      "execution_count": null,
      "id": "36bff527-3405-4d7b-801f-37afdad1a1ca",
      "metadata": {
        "id": "36bff527-3405-4d7b-801f-37afdad1a1ca",
        "outputId": "5517a119-bf12-485c-eabf-a82b0f31fa68"
      },
      "outputs": [
        {
          "name": "stdout",
          "output_type": "stream",
          "text": [
            "['abacaxi', 'uva', 'banana', 'manga', 'caju', 'manga']\n",
            "['abacaxi', 'uva', 'banana', 'caju', 'manga']\n"
          ]
        }
      ],
      "source": [
        "# Usando o método 'remove' para remover a 'primeira' instância de um elemento que ocorre numa lista\n",
        "\n",
        "Frutas = [\"abacaxi\", \"uva\", \"banana\", \"manga\", \"caju\", \"manga\"]\n",
        "print(Frutas)\n",
        "Frutas.remove(\"manga\")\n",
        "print(Frutas)"
      ]
    },
    {
      "cell_type": "code",
      "execution_count": null,
      "id": "b9651db6-1fad-4bc1-9bd0-7ea13727923d",
      "metadata": {
        "id": "b9651db6-1fad-4bc1-9bd0-7ea13727923d",
        "outputId": "ebfb7381-2b36-4491-8ff9-a6345e8a209a"
      },
      "outputs": [
        {
          "data": {
            "text/plain": [
              "['planejamento', 'orçamento', 'execução', 'acompanhamento', 'avaliação']"
            ]
          },
          "execution_count": 15,
          "metadata": {},
          "output_type": "execute_result"
        }
      ],
      "source": [
        "# Usando o comando \"pop\" para remover um elemento em um dado índice\n",
        "\n",
        "Atividades = [\"planejamento\", \"orçamento\", \"execução\", \"controle\", \"acompanhamento\", \"avaliação\"]\n",
        "\n",
        "# Queremos retirar a atividade na quarta posição, ou seja, no índice 3\n",
        "Atividades.pop(3)\n",
        "Atividades"
      ]
    },
    {
      "cell_type": "code",
      "execution_count": null,
      "id": "2ed89717-04c2-4938-964d-38fe6506162c",
      "metadata": {
        "id": "2ed89717-04c2-4938-964d-38fe6506162c",
        "outputId": "0b25a380-c940-4783-ecf7-99ef717d3024"
      },
      "outputs": [
        {
          "data": {
            "text/plain": [
              "['orçamento', 'execução', 'acompanhamento', 'avaliação']"
            ]
          },
          "execution_count": 16,
          "metadata": {},
          "output_type": "execute_result"
        }
      ],
      "source": [
        "# Há um outro comando semelhante a 'pop', o método 'del' apaga o elemento num índice dado\n",
        "\n",
        "del Atividades[0]\n",
        "Atividades"
      ]
    },
    {
      "cell_type": "markdown",
      "id": "c623fe6e-22f9-42b8-baf8-f823d258fb81",
      "metadata": {
        "id": "c623fe6e-22f9-42b8-baf8-f823d258fb81"
      },
      "source": [
        "Um detalhe sobre os índices de uma lista é que você pode se referir a eles na forma reversa, indicando o índice como um número negativo. Veja os exemplos..."
      ]
    },
    {
      "cell_type": "code",
      "execution_count": null,
      "id": "f7e3c4c4-3719-43a5-9bff-6a6fdf6c64d2",
      "metadata": {
        "id": "f7e3c4c4-3719-43a5-9bff-6a6fdf6c64d2",
        "outputId": "775caca0-7c4e-4757-9a1e-df7578d7f49a"
      },
      "outputs": [
        {
          "name": "stdout",
          "output_type": "stream",
          "text": [
            "10\n",
            "6\n"
          ]
        }
      ],
      "source": [
        "ListaPares = [2,4,6,8,10]\n",
        "print(ListaPares[-1]) # lista o último elemento, em ordem reversa da lista\n",
        "print(ListaPares[-3]) # lista o terceiro elemento em ordem reversa"
      ]
    },
    {
      "cell_type": "markdown",
      "id": "491bdb8d-d9c0-4d1d-ba65-841e043dbd66",
      "metadata": {
        "id": "491bdb8d-d9c0-4d1d-ba65-841e043dbd66"
      },
      "source": [
        "Para ordenar uma lista em ordem (cardinal) direta ou reversa ou em ordem alfabética, temos o método 'sort'. Em qualquer situação de ordenação podemos usá-lo. Vejamos exemplos..."
      ]
    },
    {
      "cell_type": "code",
      "execution_count": null,
      "id": "bf20024b-61ad-459b-8c72-5a8e56a1175e",
      "metadata": {
        "id": "bf20024b-61ad-459b-8c72-5a8e56a1175e",
        "outputId": "24e563e7-47da-4656-aa8f-dce218f66146"
      },
      "outputs": [
        {
          "name": "stdout",
          "output_type": "stream",
          "text": [
            "[-5, -2, -1, 2, 3, 4, 5]\n"
          ]
        }
      ],
      "source": [
        "Num = [-1,2,3,-2,4,-5,5]\n",
        "Num.sort()\n",
        "print(Num)"
      ]
    },
    {
      "cell_type": "markdown",
      "id": "2cd5016a-108a-40ef-a4a5-bd826efa746c",
      "metadata": {
        "id": "2cd5016a-108a-40ef-a4a5-bd826efa746c"
      },
      "source": [
        "O comprimento de uma lista, ou seja, o número de objetos é dado pelo método (ou função) len()."
      ]
    },
    {
      "cell_type": "code",
      "execution_count": null,
      "id": "e0fb904b-3dd5-4983-b840-020038940cfb",
      "metadata": {
        "id": "e0fb904b-3dd5-4983-b840-020038940cfb",
        "outputId": "2c6ce572-4a74-4a95-a6d7-f5b11dde2350"
      },
      "outputs": [
        {
          "data": {
            "text/plain": [
              "4"
            ]
          },
          "execution_count": 6,
          "metadata": {},
          "output_type": "execute_result"
        }
      ],
      "source": [
        "Todo = ['tarefa1', 'tarefa2', 'tarefa3', 'tarefa4']\n",
        "# len abreviatura do inglês length (comprimento)\n",
        "len(Todo)"
      ]
    },
    {
      "cell_type": "markdown",
      "id": "44cbb4dc-f50c-46fe-98b8-3655244047f5",
      "metadata": {
        "id": "44cbb4dc-f50c-46fe-98b8-3655244047f5"
      },
      "source": [
        "Exercícios:\n",
        "\n",
        "Q1. Leia uma lista de números qualquer e calcule a média dos números fornecidos. Imprima a média.\n",
        "\n",
        "Q2. Leia uma lista de números quaiquer de tamanho N e imprima quantos números negativos e positivos foram lidos."
      ]
    },
    {
      "cell_type": "markdown",
      "id": "73345085-99c1-4b37-83b0-65c681b87464",
      "metadata": {
        "id": "73345085-99c1-4b37-83b0-65c681b87464"
      },
      "source": [
        "Vamos resolver a questão Q1 e para resolver vamos 'dividir para conquistar'. A questão pede para LER e CALCULAR, ou seja, de uma lista de números que devemos LER, queremos CALCULAR a média. Então nosso algoritmo deve:\n",
        "1. Ler uma lista de números\n",
        "2. Calcular a média da lista lida\n",
        "e finalmente...\n",
        "3. Imprimir o resultado"
      ]
    },
    {
      "cell_type": "code",
      "execution_count": null,
      "id": "0f43dd94-3d56-40ee-b813-5c073df4a765",
      "metadata": {
        "id": "0f43dd94-3d56-40ee-b813-5c073df4a765"
      },
      "outputs": [],
      "source": [
        "# 1. Lendo uma lista de números e calculando a média dos números\n",
        "\n",
        "def doLerLista():\n",
        "    Lista = [] # iniciamos com uma lista vazia\n",
        "    FIM = False # variável vai indicar o final da lista\n",
        "    Mensagem1 = \"Para finalizar digite algo não numérico\" # mensagem para o usuário\n",
        "    print(Mensagem1)\n",
        "    while not FIM:  # enquanto não for o fim da lista faça\n",
        "        elemento = input(\"digite um número: \") # leia um número\n",
        "        if (elemento.isalpha()): # se for algo diferente de um número\n",
        "            FIM = True  # indiquer que chegamos ao final\n",
        "        else: # se for um número\n",
        "            elemento = float(elemento) # converta para um real de ponto flutuante\n",
        "            Lista.append(elemento) # adicione ao final da lista e prossiga\n",
        "    return(Lista) # A lista está pronta, retorne a lista obtida neste processo\n"
      ]
    },
    {
      "cell_type": "code",
      "execution_count": null,
      "id": "329391ce-6927-4675-aabd-35fc2404bbea",
      "metadata": {
        "id": "329391ce-6927-4675-aabd-35fc2404bbea"
      },
      "outputs": [],
      "source": [
        ""
      ]
    },
    {
      "cell_type": "code",
      "execution_count": null,
      "id": "9d6ee3d1-92b9-41fe-a664-82a8883a8a88",
      "metadata": {
        "id": "9d6ee3d1-92b9-41fe-a664-82a8883a8a88",
        "outputId": "302c2b1b-1a04-4fdf-8441-2684c346794c"
      },
      "outputs": [
        {
          "name": "stdout",
          "output_type": "stream",
          "text": [
            "Para finalizar digite algo não numérico\n"
          ]
        },
        {
          "name": "stdin",
          "output_type": "stream",
          "text": [
            "digite um número:  -2\n",
            "digite um número:  1\n",
            "digite um número:  0\n",
            "digite um número:  3\n",
            "digite um número:  4\n",
            "digite um número:  -10\n",
            "digite um número:  5\n",
            "digite um número:  pare\n"
          ]
        },
        {
          "data": {
            "text/plain": [
              "[-2.0, 1.0, 0.0, 3.0, 4.0, -10.0, 5.0]"
            ]
          },
          "execution_count": 10,
          "metadata": {},
          "output_type": "execute_result"
        }
      ],
      "source": [
        "# testando o procedimento acima\n",
        "doLerLista()"
      ]
    },
    {
      "cell_type": "markdown",
      "id": "05d3f9a3-1f06-429f-abb2-354cad2da969",
      "metadata": {
        "id": "05d3f9a3-1f06-429f-abb2-354cad2da969"
      },
      "source": [
        "A novidade acima é que nos valemos de uma função ou método que trata ou testa se uma cadeia \n",
        "de caracteres (texto) fornecida pelo usuário é ou não um dado numérico. Quando lemos o elemento\n",
        "com a função input, sabemos que receberemos um texto, mas antes de convertê-lo para um número\n",
        "precisamos saber se o usuário não digitou algo diferente. A *função isalpha()* verifica se o texto\n",
        "é 'alfabético' e se for usaremos para finalizar a leitura da lista, fazendo *FIM = True*. Caso contrário o texto é um número, convertemos para um real e adicionamos a lista, prosseguindo na leitura e construção da lista. Aproveite para ler mais sobre os métodos aplicados a 'strings' em https://www.w3schools.com/python/python_strings_methods.asp ou guarde a referência para exercícios futuros.\n"
      ]
    },
    {
      "cell_type": "code",
      "execution_count": null,
      "id": "c264eb4d-69dc-4e3f-a3de-b37739358687",
      "metadata": {
        "id": "c264eb4d-69dc-4e3f-a3de-b37739358687"
      },
      "outputs": [],
      "source": [
        "#2. Calculando a média da lista lida\n",
        "\n",
        "def doMediaLista (listaLida): # função recebe a lista para calcular a média\n",
        "    tamanho = len(listaLida)  # o tamanho da lista é calculado\n",
        "    soma = 0 # a soma que será acumulada é iniciada com zero\n",
        "    for num in listaLida: # cada número na lista é lido\n",
        "        soma = soma + num # o somatório dos números da lista é feito a cada passo\n",
        "    media = soma/tamanho # após o término do somatório a média é calculada\n",
        "    return(media) # o cálculo da média é retornado"
      ]
    },
    {
      "cell_type": "code",
      "execution_count": null,
      "id": "c9d773c5-e59a-4b74-9910-9880fb281526",
      "metadata": {
        "id": "c9d773c5-e59a-4b74-9910-9880fb281526",
        "outputId": "f277170b-ed7a-4f3d-c4e6-a5ec0786e75f"
      },
      "outputs": [
        {
          "name": "stdout",
          "output_type": "stream",
          "text": [
            "Para finalizar digite algo não numérico\n"
          ]
        },
        {
          "name": "stdin",
          "output_type": "stream",
          "text": [
            "digite um número:  2\n",
            "digite um número:  10\n",
            "digite um número:  90\n",
            "digite um número:  3\n",
            "digite um número:  -1\n",
            "digite um número:  jose\n"
          ]
        },
        {
          "name": "stdout",
          "output_type": "stream",
          "text": [
            "20.8\n"
          ]
        }
      ],
      "source": [
        "#print(doMediaLista(doLerLista())) <- solução compondo funções f(g(x))\n",
        "ListaNum = doLerLista() # Leia uma lista de números\n",
        "MediaLista=doMediaLista(ListaNum) # Calcule a média da lista lida (em ListaNum)\n",
        "print(MediaLista) # Imprima a média da lista lida (imprimir MediaLista)"
      ]
    },
    {
      "cell_type": "markdown",
      "id": "ad0b5981-dddb-414e-9f70-ff8d4975338c",
      "metadata": {
        "id": "ad0b5981-dddb-414e-9f70-ff8d4975338c"
      },
      "source": [
        "**Q2. Leia uma lista de números quaisquer, de tamanho N, e imprima quantos números negativos e positivos foram lidos.**\n",
        "\n",
        "Nesta questão temos uma variante em relação à anterior. O tamanho da lista foi fornecido. O tamanho passa a ser um parâmetro para finalizar a leitura. Sendo assim, nossa função que ler lista sofrerá\n",
        "mudanças e faremos um 'upgrade' no código fonte, reutilizando o existente...\n"
      ]
    },
    {
      "cell_type": "code",
      "execution_count": null,
      "id": "2787a7fe-0338-471c-b6b0-e72301f9b6ef",
      "metadata": {
        "id": "2787a7fe-0338-471c-b6b0-e72301f9b6ef"
      },
      "outputs": [],
      "source": [
        "def doLerListaTam(n): # chamamos a função passando o tamanho n da lista\n",
        "    Lista = [] # iniciamos com uma lista vazia\n",
        "    for i in range (0,n):\n",
        "            elemento = float(input(\"Digite um número: \"))\n",
        "            Lista.append(elemento) # adicione ao final da lista e prossiga\n",
        "    print(\"Lista lida, com \", n, \"elementos!\")\n",
        "    return(Lista) # A lista está pronta, retorne a lista obtida neste processo"
      ]
    },
    {
      "cell_type": "code",
      "execution_count": null,
      "id": "c412d5ec-72d2-4eaa-bb28-a2562d1770dc",
      "metadata": {
        "id": "c412d5ec-72d2-4eaa-bb28-a2562d1770dc",
        "outputId": "53c296c9-ffda-4ba4-8878-913f0b02bc11"
      },
      "outputs": [
        {
          "name": "stdin",
          "output_type": "stream",
          "text": [
            "Digite um número:  1\n",
            "Digite um número:  2\n",
            "Digite um número:  3\n",
            "Digite um número:  4\n",
            "Digite um número:  5\n"
          ]
        },
        {
          "name": "stdout",
          "output_type": "stream",
          "text": [
            "Lista lida, com  5 elementos!\n"
          ]
        },
        {
          "data": {
            "text/plain": [
              "[1.0, 2.0, 3.0, 4.0, 5.0]"
            ]
          },
          "execution_count": 54,
          "metadata": {},
          "output_type": "execute_result"
        }
      ],
      "source": [
        "doLerListaTam(5)"
      ]
    },
    {
      "cell_type": "markdown",
      "id": "1e6a468a-9516-48c8-a52b-1f1b6f73ed97",
      "metadata": {
        "id": "1e6a468a-9516-48c8-a52b-1f1b6f73ed97"
      },
      "source": [
        "Agora vamos reusar a função que calcula a média da lista dada, e o melhor: não precisamos \n",
        "alterar basicamente nada no código dela. Vejamos.."
      ]
    },
    {
      "cell_type": "code",
      "execution_count": null,
      "id": "88d1d7bd-08b7-44a2-b774-cb7877b415f7",
      "metadata": {
        "id": "88d1d7bd-08b7-44a2-b774-cb7877b415f7"
      },
      "outputs": [],
      "source": [
        "# Revendo a função doMediaLista\n",
        "def doMediaLista (listaLida): # função recebe a lista para calcular a média\n",
        "    tamanho = len(listaLida)  # o tamanho da lista é calculado\n",
        "    soma = 0 # a soma que será acumulada é iniciada com zero\n",
        "    for num in listaLida: # cada número na lista é lido\n",
        "        soma = soma + num # o somatório dos números da lista é feito a cada passo\n",
        "    media = soma/tamanho # após o término do somatório a média é calculada\n",
        "    return(media) # o cálculo da média é retornado"
      ]
    },
    {
      "cell_type": "code",
      "execution_count": null,
      "id": "beed9269-e69b-4584-adc6-9e9eaa47b702",
      "metadata": {
        "id": "beed9269-e69b-4584-adc6-9e9eaa47b702",
        "outputId": "83627be6-391f-476d-af7d-be57089733f5"
      },
      "outputs": [
        {
          "name": "stdin",
          "output_type": "stream",
          "text": [
            "Digite um número:  4\n",
            "Digite um número:  5\n",
            "Digite um número:  6\n"
          ]
        },
        {
          "name": "stdout",
          "output_type": "stream",
          "text": [
            "Lista lida, com  3 elementos!\n",
            "5.0 é a média da lista lida!\n"
          ]
        }
      ],
      "source": [
        "# Imprimindo a média dos elementos lidos\n",
        "print(doMediaLista(doLerListaTam(3)), \"é a média da lista lida!\")"
      ]
    },
    {
      "cell_type": "markdown",
      "source": [
        "Nesta seção vimos como interagir com listas em Python. As listas possuem vários métodos\n",
        "inerentes úteis em muitas situações. Vale a pena conferir alguns deles em: \n",
        "https://www.w3schools.com/python/python_lists_methods.asp que podem ser úteis em exercícios\n",
        "ou atividades futuras. De forma mais aprofundada [veja listas nessa documentação](https://docs.python.org/pt-br/3/tutorial/datastructures.html).\n"
      ],
      "metadata": {
        "id": "ZD1IlkH44ZRv"
      },
      "id": "ZD1IlkH44ZRv"
    }
  ],
  "metadata": {
    "kernelspec": {
      "display_name": "Python 3 (ipykernel)",
      "language": "python",
      "name": "python3"
    },
    "language_info": {
      "codemirror_mode": {
        "name": "ipython",
        "version": 3
      },
      "file_extension": ".py",
      "mimetype": "text/x-python",
      "name": "python",
      "nbconvert_exporter": "python",
      "pygments_lexer": "ipython3",
      "version": "3.8.12"
    },
    "colab": {
      "name": "ProcessandoListasPy01.ipynb",
      "provenance": [],
      "collapsed_sections": [],
      "include_colab_link": true
    }
  },
  "nbformat": 4,
  "nbformat_minor": 5
}