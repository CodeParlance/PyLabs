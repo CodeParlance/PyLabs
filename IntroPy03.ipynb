{
  "nbformat": 4,
  "nbformat_minor": 0,
  "metadata": {
    "colab": {
      "name": " IntroPy03.ipynb",
      "provenance": [],
      "include_colab_link": true
    },
    "kernelspec": {
      "name": "python3",
      "display_name": "Python 3"
    },
    "language_info": {
      "name": "python"
    }
  },
  "cells": [
    {
      "cell_type": "markdown",
      "metadata": {
        "id": "view-in-github",
        "colab_type": "text"
      },
      "source": [
        "<a href=\"https://colab.research.google.com/github/CodeParlance/PyLabs/blob/main/IntroPy03.ipynb\" target=\"_parent\"><img src=\"https://colab.research.google.com/assets/colab-badge.svg\" alt=\"Open In Colab\"/></a>"
      ]
    },
    {
      "cell_type": "code",
      "metadata": {
        "id": "7LKrkkYhDFda"
      },
      "source": [
        ""
      ],
      "execution_count": null,
      "outputs": []
    },
    {
      "cell_type": "markdown",
      "metadata": {
        "id": "DyCUzFPfDJea"
      },
      "source": [
        "## Funções em Python 3\n",
        "\n",
        "## Relembrando as funções da matemática\n",
        "\n",
        "Python é considerada uma das linguagens de programação (LP) mais versáteis do planeta. Há código de python rodando até fora da terra, nas sondas e rovers da NASA, por exemplo nos robôs oportunity e ingenuity que percorrem a superfície do planeta vermelho coletando informações.\n",
        "\n",
        "Boa parte da versatilidade de Python deve-se a facilidade de se estender as funções pré-definidas (builtin functions) através de pacotes e bibliotecas (coleção de funções ou de objetos) que são adequadamente e convenientemente programadas para executar tarefas específicas.\n",
        "\n",
        "Tamanha versatilidade de Python deve-se ao caráter funcional da linguagem, permitindo representar funções (matemática ou não matemáticas) que executam tarefas específicas e que podem ser combinadas ou compostas entre si resultando em soluções para muitos problemas complexos (Python também permite lidar com outro paradigma poderoso - o da orientação a objetos, mas isso é um assunto que vamos explorar mais adiante)\n",
        "\n",
        "Imagine-se tendo que operar um equipamento de engenharia remotamente (no fundo do mar, por exemplo) ao mesmo tempo em que aciona uma câmera que verifica uma rocha salina e ativa uma sonda que vai coletar amostra da rocha para que o robô traga a superfície e os engenheiros junto com os geólogos examinem parâmetros e variáveis de viscosidade e resistividade da rocha submarina, cujos dados foram coletados por você a milhares de km do fundo do mar, operando o dispositivo em seu laboratório de análise de solos, no continente (por exemplo, na sua Universidade).\n",
        "\n",
        "Esse conjunto de tarefas executadas pelo robô nada mais é do que um conjunto de funções programadas e executadas rodando em seus chips ou placas onboard [veja as jetson nano da nvidia, por exemplo] (https://www.nvidia.com/en-us/autonomous-machines/embedded-systems/jetson-nano/)).\n",
        "\n",
        "Cada função pode executar um algoritmo. Ou seja, a descrição de uma tarefa passo a passo, visualizada com um bloco de comandos que completamente a tarefa, em função das condições de entrada (lista de variáveis, ou parâmetro da função). \n",
        "\n",
        "É a velha mágica que você já conhece, quando aprendeu o conceito de função em matemática. Todo Y é uma resposta a uma condição (variável) X de entrada. Ou seja $Y = f(X)$. Uma função nada mais é do que um resultado, uma operação definida sobre uma entrada $X$ que resulta numa resposta $Y$. \n",
        "\n",
        "Python tem além de suas palavras reservadas (que definem a linguagem em si) inúmeras funções pré-definidas que nos auxiliam na resolução de inúmeras tarefas comuns nas áreas das engenharias, das ciências exatas e naturais ou ciências sociais. É tão usada para calcular o equilíbrio estático de estruturas em civil, quanto para calcular e verificar a evolução de um processo produtivo no chão de fábrica. \n",
        "\n",
        "Tão útil para simular a viscosidade de um fluido numa barragem, quanto para fazer um drone descobrir focos de incêndio numa floresta tropical e acionar uma brigada, através de geo-localização. E tudo isso reside no poder dos algoritmos que são definidos usando a capacidade da linguagem de manipular funções e variáveis (além de outras estruturas como objetos e seus métodos, quando lidamos com outras estruturas chamadas de 'classes').\n",
        "\n",
        "Mas, como definimos funções em Python?!\n",
        "\n",
        "### Funções em Python\n",
        "\n",
        "Para definir uma função em python, precisamos de 3 elementos. O comando (ou palavra reservada) 'def', um nome para a função, digamos 'minhafunc', e uma lista de variáveis (chamadas aqui de argumentos da função) entre parênteses. Ou seja, de forma simples:\n",
        "\n",
        "\n",
        "\n",
        "```\n",
        "# Formato de função\n",
        "def minhafunc (lista-de-variáveis):\n",
        "    comando1\n",
        "    comando2\n",
        "    ...\n",
        "    comdandoN\n",
        "    return(TarefaCalculada)\n",
        "\n",
        "```\n",
        "\n",
        "onde minhafunc é um nome qualquer que você deu a sua função. Observe que \n",
        "na prática a função é um bloco de operações, cálculos ou procedimentos que\n",
        "você pode realizar sobre uma lista de  variáveis de entrada, resultando por fim num resultado ou resposta pretendida.\n",
        "\n",
        "\n",
        "Abaixo daremos alguns exemplos. Vejamos os código que seguem:\n",
        "\n",
        "\n",
        "\n",
        "\n",
        "\n",
        "\n",
        "\n",
        "\n",
        "\n",
        "\n",
        "\n",
        "\n",
        "\n",
        "\n",
        "\n",
        "\n",
        "\n",
        "\n"
      ]
    },
    {
      "cell_type": "code",
      "metadata": {
        "id": "H_FG7DMsGYu-"
      },
      "source": [
        "# Calculando o resultando de uma base A elevada a potência B, com valores quaisquer de A e B.\n",
        "\n",
        "def potencia (base, expoente):\n",
        "  return (base**expoente)"
      ],
      "execution_count": null,
      "outputs": []
    },
    {
      "cell_type": "code",
      "source": [
        "potencia(3,3)"
      ],
      "metadata": {
        "colab": {
          "base_uri": "https://localhost:8080/"
        },
        "id": "lVT0P9fvwUii",
        "outputId": "1c4b295b-06ce-40fd-c948-429573618a8f"
      },
      "execution_count": null,
      "outputs": [
        {
          "output_type": "execute_result",
          "data": {
            "text/plain": [
              "27"
            ]
          },
          "metadata": {},
          "execution_count": 3
        }
      ]
    },
    {
      "cell_type": "code",
      "metadata": {
        "id": "nrCSxMtcM29C"
      },
      "source": [
        "# Calculando uma função quadrática, de parâmetros a, b, c, com a != 0, num ponto x qualquer\n",
        "# y=ax^2+bx+c\n",
        "\n",
        "def quadratica (a, b, c, x):\n",
        "  yx = a*(x**2)+ b*x + c\n",
        "  return(yx)\n"
      ],
      "execution_count": null,
      "outputs": []
    },
    {
      "cell_type": "code",
      "metadata": {
        "id": "1m4CzQPWNbXr"
      },
      "source": [
        "# Calculando uma função linear do tipo y = ax + b\n",
        "\n",
        "def ylinear (a, b):\n",
        "  x = float(input(\"Digite o ponto x: \"))\n",
        "  return (a*x+ b)"
      ],
      "execution_count": null,
      "outputs": []
    },
    {
      "cell_type": "code",
      "source": [
        "ylinear(2,1,0)"
      ],
      "metadata": {
        "colab": {
          "base_uri": "https://localhost:8080/"
        },
        "id": "XQ0xssEjxbU-",
        "outputId": "3e6ad125-7517-494c-c65d-2b0d2ffbbfa8"
      },
      "execution_count": null,
      "outputs": [
        {
          "output_type": "execute_result",
          "data": {
            "text/plain": [
              "1"
            ]
          },
          "metadata": {},
          "execution_count": 8
        }
      ]
    },
    {
      "cell_type": "markdown",
      "metadata": {
        "id": "5d8E1xVgN846"
      },
      "source": [
        "Observe que nos exemplos anteriores o Python precisa saber onde 'começa' e onde 'termina' o bloco de comandos da função e por isso, quando digitamos ':' logo após a lista de variáveis entre parênteses, o python\n",
        "cria um 'bloco' avançando uma tabulação para a direita, no sentido de \n",
        "'demarcar' que ali começa um bloco de comandos da função. Esse processo\n",
        "se repete toda vez que você 'juntar ou aninhar' comandos num bloco qualquer de novos comandos no seu código em python. Sobre isso veremos mais quando discutirmos 'algoritmos completos em python' ou 'fluxo de controle' na lógica de programação nas próximas aulas.\n",
        "\n",
        "Também, nas funções dos nossos exemplos, evitamos fazer testes e checagem da entrada de dados, algo bastante importante na programação, mas momentaneamente dispensável enquanto você dar os seus primeiros passos. Voltaremos a essa questão noutro momento.\n",
        "\n",
        "Como recomendação de leitura e avanço, para o aluno mais curioso e com desejo de aprender mais profundamentente, [deixamos o link](https://docs.python.org/pt-br/3/tutorial/controlflow.html#defining-functions). "
      ]
    },
    {
      "cell_type": "code",
      "metadata": {
        "id": "SFDRPpZcOvr5"
      },
      "source": [
        ""
      ],
      "execution_count": null,
      "outputs": []
    }
  ]
}