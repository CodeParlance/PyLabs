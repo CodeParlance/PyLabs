{
  "cells": [
    {
      "cell_type": "markdown",
      "metadata": {
        "id": "view-in-github",
        "colab_type": "text"
      },
      "source": [
        "<a href=\"https://colab.research.google.com/github/CodeParlance/PyLabs/blob/main/LibsPy01.ipynb\" target=\"_parent\"><img src=\"https://colab.research.google.com/assets/colab-badge.svg\" alt=\"Open In Colab\"/></a>"
      ]
    },
    {
      "cell_type": "markdown",
      "id": "41e16e28-41e2-4513-89a4-7a85885ed063",
      "metadata": {
        "id": "41e16e28-41e2-4513-89a4-7a85885ed063"
      },
      "source": [
        "# Algoritmos com Python, para Iniciantes #\n",
        "\n",
        "## Bibliotecas/Módulos Fundamentais ##\n",
        "\n",
        "\n",
        "\n",
        "## 1. Uma visão genérica de módulos do Python ##\n",
        "\n",
        "Sempre que estudamos uma linguagem de programação, precisamos dela para resolver\n",
        "problemas com um interesse específico. Por exemplo, você pode estar interessado\n",
        "em estatística da qualidade, métodos dos elementos finitos, mecânica dos fluidos\n",
        "ou hidráulica, ergonomia, etc. Cada uma dessas áreas têm problemas específicos e\n",
        "isso significa que os profissionais estudam objetos e métodos mais relacionados\n",
        "com os problemas que querem resolver.\n",
        "\n",
        "Em programação acontece o mesmo. Para cada necessidade específica é necessário\n",
        "buscar um módulo ou biblioteca, onde o conhecimento especializado para resolver\n",
        "uma 'classe de problemas' esteja ali, numa biblioteca ou módulo. Nessa seção nos\n",
        "interessa apenas os módulos matemáticos ou numéricos que usamos para nossos cál\n",
        "culos diários manipulando funções, recursos e métodos úteis.\n",
        "\n",
        "Aqui vamos abordar alguns dos recursos disponíveis em python e que podem ser\n",
        "acessados em sua documentação na referência: https://docs.python.org/pt-br/3/library/numeric.html\n",
        "\n",
        "Em Python, os módulos são conjuntos de objetos e métodos que podemos chamar\n",
        "ou invocar quando precisamos através de declarações no código como segue:"
      ]
    },
    {
      "cell_type": "code",
      "execution_count": null,
      "id": "86708660-b4da-4993-9959-f781830d0543",
      "metadata": {
        "id": "86708660-b4da-4993-9959-f781830d0543"
      },
      "outputs": [],
      "source": [
        ""
      ]
    },
    {
      "cell_type": "code",
      "execution_count": null,
      "id": "5680b233-a88e-4ce0-9904-3e4b1abf528b",
      "metadata": {
        "id": "5680b233-a88e-4ce0-9904-3e4b1abf528b"
      },
      "outputs": [],
      "source": [
        "# carregando a biblioteca/módulo de objetos matemáticos de maneira geral\n",
        "import math\n"
      ]
    },
    {
      "cell_type": "markdown",
      "id": "589f251c-e27a-4eab-adca-c31942a01222",
      "metadata": {
        "id": "589f251c-e27a-4eab-adca-c31942a01222"
      },
      "source": [
        "A linha acima dar a instrução ao python para carregar todos os objetos da biblioteca matemática. Para saber quais são esses objetos, de forma abrangente, consulte a documentação do python em: https://docs.python.org/pt-br/3/library/math.html#module-math"
      ]
    },
    {
      "cell_type": "code",
      "execution_count": null,
      "id": "cdbc57b1-03e6-4a2e-956e-9db813e8a7a7",
      "metadata": {
        "id": "cdbc57b1-03e6-4a2e-956e-9db813e8a7a7"
      },
      "outputs": [],
      "source": [
        "Todavia, em geral não precisamos carregar de uma vez só todos os objetos, podemos\n",
        "especificar quais aqueles que iremos utilizar na resolução de um problema. \n",
        "Por exemplo\n"
      ]
    },
    {
      "cell_type": "code",
      "execution_count": null,
      "id": "1e465e56-bc12-40df-bc5b-1a3cbbfa6a0b",
      "metadata": {
        "id": "1e465e56-bc12-40df-bc5b-1a3cbbfa6a0b",
        "outputId": "c82539de-41ea-43f2-89ec-36f1b373d487"
      },
      "outputs": [
        {
          "name": "stdout",
          "output_type": "stream",
          "text": [
            "32.0\n"
          ]
        }
      ],
      "source": [
        "# carrega a função raiz quadrada do módulo math\n",
        "from math import sqrt\n",
        "num = 1024\n",
        "raiz = sqrt(num)\n",
        "print(raiz)"
      ]
    },
    {
      "cell_type": "code",
      "execution_count": null,
      "id": "fcba3ae6-dea0-407e-84e0-57cc800b3ebe",
      "metadata": {
        "id": "fcba3ae6-dea0-407e-84e0-57cc800b3ebe",
        "outputId": "23b6e93d-81fa-4311-b70a-7e0137aade77"
      },
      "outputs": [
        {
          "data": {
            "text/plain": [
              "5.916079783099616"
            ]
          },
          "execution_count": 4,
          "metadata": {},
          "output_type": "execute_result"
        }
      ],
      "source": [
        "# Outra forma seria ...\n",
        "import math\n",
        "num = 35\n",
        "# modulo.método\n",
        "math.sqrt(num)\n",
        "\n"
      ]
    },
    {
      "cell_type": "code",
      "execution_count": null,
      "id": "5638d184-2821-4951-9801-3f1bcdc3cb32",
      "metadata": {
        "id": "5638d184-2821-4951-9801-3f1bcdc3cb32",
        "outputId": "92b40984-2ed1-42b7-86c0-53b0eff6a6b1"
      },
      "outputs": [
        {
          "data": {
            "text/plain": [
              "3.0"
            ]
          },
          "execution_count": 5,
          "metadata": {},
          "output_type": "execute_result"
        }
      ],
      "source": [
        "# Uma outra maneira válida ...\n",
        "import math as mt\n",
        "num = 9\n",
        "mt.sqrt(num)"
      ]
    },
    {
      "cell_type": "code",
      "execution_count": null,
      "id": "4067df47-ecda-4e70-9036-7acb2fb49c7e",
      "metadata": {
        "id": "4067df47-ecda-4e70-9036-7acb2fb49c7e",
        "outputId": "e73d7126-ee15-443f-fad5-140a2a3a3780"
      },
      "outputs": [
        {
          "name": "stdout",
          "output_type": "stream",
          "text": [
            "1.10364\n"
          ]
        }
      ],
      "source": [
        "# uma forma mais geral, para importar todos os objetos num módulo\n",
        "from math import *\n",
        "num = 9\n",
        "angulo = pi/2\n",
        "calcule = (sqrt(num))*sin(angulo)*exp(-1)\n",
        "print(round(calcule,5))"
      ]
    },
    {
      "cell_type": "markdown",
      "id": "4ca84497-8c28-486f-99e8-2f15c8413b1b",
      "metadata": {
        "id": "4ca84497-8c28-486f-99e8-2f15c8413b1b"
      },
      "source": [
        "No cálculo acima, note que usamos vários objetos da biblioteca matemática do python, tais\n",
        "como o 'pi', a função seno 'sin', a função exponencial 'exp' e a função raiz quadrada \n",
        "'sqrt'. Poderíamos usar qualquer outra da vasta biblioteca 'math' do python."
      ]
    },
    {
      "cell_type": "markdown",
      "id": "5595747f-20d1-4d75-973c-e6d5db9102e5",
      "metadata": {
        "id": "5595747f-20d1-4d75-973c-e6d5db9102e5"
      },
      "source": [
        "## 2. A Biblioteca 'math' do Python. ##\n",
        "\n",
        "Embora o python tenha de forma nativa muitas funcionalidades matemáticas, por exemplo a função de arredondamento 'round' é nativa do Python, ou seja não precisamos chamar nenhum módulo para usá-la."
      ]
    },
    {
      "cell_type": "code",
      "execution_count": null,
      "id": "53d5b87e-d68e-49ce-9783-96c5d9fb79d5",
      "metadata": {
        "id": "53d5b87e-d68e-49ce-9783-96c5d9fb79d5",
        "outputId": "cc1e3eaa-d1c6-4e11-df28-d2d0a6d2b2d7"
      },
      "outputs": [
        {
          "name": "stdout",
          "output_type": "stream",
          "text": [
            "1.7320508075688772\n",
            "1.73205\n"
          ]
        }
      ],
      "source": [
        "# a função 'round' arredonda para um certo número de casas decimais, qualquer número \n",
        "# fracionário\n",
        "\n",
        "num = 3**(1/2)\n",
        "print(num)\n",
        "# arredondamento para três casas decimais\n",
        "print(round(num,5))"
      ]
    },
    {
      "cell_type": "markdown",
      "id": "a1afe231-087c-47bb-81f0-352503f733bf",
      "metadata": {
        "id": "a1afe231-087c-47bb-81f0-352503f733bf"
      },
      "source": [
        "Todavia uma função para simplesmente truncar a parte inteira da francionária, não\n",
        "está disponível nativamente no Python, mas está disponível na biblioteca 'math',\n",
        "logo para usá-la temos que chamar esse módulo (ou biblioteca)..."
      ]
    },
    {
      "cell_type": "code",
      "execution_count": null,
      "id": "3dbc5ca5-bd3a-4d49-8daa-63f94287369f",
      "metadata": {
        "id": "3dbc5ca5-bd3a-4d49-8daa-63f94287369f",
        "outputId": "a122dffd-8234-4b2c-d789-118b3cd968e1"
      },
      "outputs": [
        {
          "name": "stdout",
          "output_type": "stream",
          "text": [
            "1.732\n",
            "1\n"
          ]
        }
      ],
      "source": [
        "# calcula a raiz de 2, trunca a parte fracionária e imprime a inteira\n",
        "import math as mt\n",
        "num = mt.sqrt(3)\n",
        "print(round(num,3))\n",
        "print(trunc(num))"
      ]
    },
    {
      "cell_type": "markdown",
      "id": "39910fde-25d4-46c3-ba6c-db3ea55319a9",
      "metadata": {
        "id": "39910fde-25d4-46c3-ba6c-db3ea55319a9"
      },
      "source": [
        "### 2.1 Constantes Fundamentais ###\n",
        "\n",
        "Que tal apresentar o número pi e o número de euler em Python. Veja o código a seguir..."
      ]
    },
    {
      "cell_type": "code",
      "execution_count": null,
      "id": "6666f238-fb83-416d-96ac-3a562f53e859",
      "metadata": {
        "id": "6666f238-fb83-416d-96ac-3a562f53e859",
        "outputId": "272352bc-bf76-484f-85e8-9623e750cf2c"
      },
      "outputs": [
        {
          "name": "stdout",
          "output_type": "stream",
          "text": [
            "3.1415926536\n",
            "2.7182818285\n"
          ]
        }
      ],
      "source": [
        "import math as mt\n",
        "num1 = mt.pi\n",
        "num2 = mt.e\n",
        "print(round(num1,10))\n",
        "print(round(num2,10))\n",
        "\n"
      ]
    },
    {
      "cell_type": "markdown",
      "id": "0ccd0520-1092-4f3d-9b84-502a405b4825",
      "metadata": {
        "id": "0ccd0520-1092-4f3d-9b84-502a405b4825"
      },
      "source": [
        "### 2.2 Ângulos: Graus e Radianos ###\n",
        "\n",
        "Antes de apresentarmos as funções trigonométricas existentes na 'math' library (biblioteca)\n",
        "vamos tratar ângulos em python, usando o módulo 'math'..."
      ]
    },
    {
      "cell_type": "code",
      "execution_count": null,
      "id": "97bd573b-3d68-453b-8256-4b13267aaec5",
      "metadata": {
        "id": "97bd573b-3d68-453b-8256-4b13267aaec5",
        "outputId": "d0624022-30b2-4da3-826f-5d1c65894860"
      },
      "outputs": [
        {
          "name": "stdout",
          "output_type": "stream",
          "text": [
            "0.79 radianos expresso em graus fica: ~ 45.26\n",
            "90 graus expresso em radianos fica: ~ 1.57\n"
          ]
        }
      ],
      "source": [
        "# Convertendo de radianos para graus\n",
        "import math as mt\n",
        "emRadianos = round(pi/4,2)\n",
        "emGraus=round(mt.degrees(emRadianos),2)\n",
        "print(emRadianos, \"radianos expresso em graus fica: ~\", emGraus)\n",
        "# Convertendo de graus para radianos\n",
        "emGraus_1 = 90\n",
        "emRadianos_1 = round(mt.radians(emGraus_1),2)\n",
        "print(emGraus_1, \"graus expresso em radianos fica: ~\", emRadianos_1)"
      ]
    },
    {
      "cell_type": "markdown",
      "id": "1d2891e4-9064-4d40-aba6-9b74485b97d8",
      "metadata": {
        "id": "1d2891e4-9064-4d40-aba6-9b74485b97d8"
      },
      "source": [
        "Nunca será demais lembrar que as funções trigonométricas em python trabalham com radianos e portanto a conversão é necessária sempre que você preferir trabalhar com graus."
      ]
    },
    {
      "cell_type": "markdown",
      "id": "057efdeb-83b4-4551-8a48-19ee5104ab71",
      "metadata": {
        "id": "057efdeb-83b4-4551-8a48-19ee5104ab71"
      },
      "source": [
        "### Senos, cossenos e tangentes ###\n",
        "\n",
        "'Math' dispõe de todas as funções trigonométricas clássicas, bem como as hiperbólicas\n",
        "também, vejamos alguns exemplos..."
      ]
    },
    {
      "cell_type": "code",
      "execution_count": null,
      "id": "f51f6461-50b9-451b-be76-1d0a73322c29",
      "metadata": {
        "id": "f51f6461-50b9-451b-be76-1d0a73322c29",
        "outputId": "0a7503ba-eed6-4157-a260-234bdbbfae30"
      },
      "outputs": [
        {
          "name": "stdout",
          "output_type": "stream",
          "text": [
            "Seno de 1.5707963267948966 é: 1.0\n",
            "Cosseno de 0 é: 1.0\n"
          ]
        }
      ],
      "source": [
        "# Calculando senos e cossenos\n",
        "import math as mt\n",
        "rads1=pi/2\n",
        "seno90 = mt.sin(rads1)\n",
        "rads2=0\n",
        "cos0 = mt.cos(rads2)\n",
        "print(\"Seno de\", rads1, \"é:\", seno90)\n",
        "print(\"Cosseno de\", rads2, \"é:\", cos0)"
      ]
    },
    {
      "cell_type": "code",
      "execution_count": null,
      "id": "588172a0-8338-493c-89a0-f6cdbd2af00e",
      "metadata": {
        "id": "588172a0-8338-493c-89a0-f6cdbd2af00e",
        "outputId": "a3c47ca9-cd92-4b15-e89c-382c7c0adba4"
      },
      "outputs": [
        {
          "name": "stdout",
          "output_type": "stream",
          "text": [
            "1.0\n",
            "1.73\n"
          ]
        }
      ],
      "source": [
        "# Calculando tangentes\n",
        "\n",
        "import math as mt\n",
        "# angulos em radianos\n",
        "ang45 = pi/4\n",
        "ang60 = pi/3\n",
        "# chama tangentes em math\n",
        "tan60 = mt.tan(ang60)\n",
        "tan45 = mt.tan(ang45)\n",
        "# imprime valores das tangentes nos arcos dados\n",
        "print(round(tan45,2))\n",
        "print(round(tan60,2))"
      ]
    },
    {
      "cell_type": "markdown",
      "id": "2a16690c-bfee-4c11-9c60-7d845d7290f2",
      "metadata": {
        "id": "2a16690c-bfee-4c11-9c60-7d845d7290f2"
      },
      "source": [
        "Tente fazer alguns cálculos semelhantes e explore também as outras funções trignométricas\n",
        "tais como arco seno 'asin', arco cosseno 'acos' e arco tangente 'atan'.\n",
        "\n",
        "Além dessas, explore as funções hiperbólicas dadas  em: https://docs.python.org/pt-br/3/library/math.html#trigonometric-functions"
      ]
    },
    {
      "cell_type": "markdown",
      "id": "1bfa3995-eb85-4eba-9254-9f1bfccd31a4",
      "metadata": {
        "id": "1bfa3995-eb85-4eba-9254-9f1bfccd31a4"
      },
      "source": [
        "### 2.3 Funções Potência e Logaritmos ###\n",
        "\n",
        "E quando precisamos lidar com exponenciações e logaritmos a biblioteca 'math' também nos auxilia muito com diversas funções úteis para os nossos cálculos, vejamos exemplos..."
      ]
    },
    {
      "cell_type": "code",
      "execution_count": null,
      "id": "da74e11d-91c6-4a64-81c3-5d24fc48462c",
      "metadata": {
        "id": "da74e11d-91c6-4a64-81c3-5d24fc48462c",
        "outputId": "7958c9b5-9a86-4b1d-cb20-08084dfeae6c"
      },
      "outputs": [
        {
          "name": "stdout",
          "output_type": "stream",
          "text": [
            "9\n"
          ]
        }
      ],
      "source": [
        "ax = 3**2\n",
        "print(ax)"
      ]
    },
    {
      "cell_type": "code",
      "execution_count": null,
      "id": "e7c33261-de79-42de-8d71-8c4f9052e5c8",
      "metadata": {
        "id": "e7c33261-de79-42de-8d71-8c4f9052e5c8",
        "outputId": "00023130-5711-4428-e1bb-0c47a68892f3"
      },
      "outputs": [
        {
          "name": "stdout",
          "output_type": "stream",
          "text": [
            "8.0\n",
            "2.718281828459045\n",
            "1.0\n",
            "0.30102999566398114\n",
            "0.3010299956639812\n"
          ]
        }
      ],
      "source": [
        "# função potência\n",
        "import math as mt\n",
        "expo=3\n",
        "base=2\n",
        "# power abreviado vira pow\n",
        "res=mt.pow(base,expo)\n",
        "print(res)\n",
        "# função exponencial exp(x)\n",
        "num_euler=mt.exp(1)\n",
        "print(num_euler)\n",
        "# função logaritmo natural ln = log (x)\n",
        "# log(x,base). Base omitida significa base = num_euler\n",
        "out1 = log(e)\n",
        "print(out1)\n",
        "# log(x,base). Com base definida, por exemplo base = 10\n",
        "out2 = log(2,10)\n",
        "print(out2)\n",
        "# especificamente, temos o log10(x), log de x, na base 10\n",
        "out3 = log10(2)\n",
        "print(out3)\n"
      ]
    },
    {
      "cell_type": "markdown",
      "id": "76486643-91ba-4e2b-b4bc-11021b3c6b95",
      "metadata": {
        "id": "76486643-91ba-4e2b-b4bc-11021b3c6b95"
      },
      "source": [
        "### 2.4 Outras funções úteis ###\n",
        "\n",
        "Há inúmeras outras funções na lib math, mas é claro que métodos ou funções numa biblioteca só são úteis quando precisam ser utilizadas. Algumas outras funções\n",
        "desta biblioteca que aparecem com frequência em nossos cálculos são vistas no código abaixo:\n",
        "\n",
        "\n",
        "\n"
      ]
    },
    {
      "cell_type": "code",
      "execution_count": 5,
      "id": "858a267f-f6e3-4af3-b0ea-dc3b0ed143f4",
      "metadata": {
        "id": "858a267f-f6e3-4af3-b0ea-dc3b0ed143f4",
        "outputId": "c8d909a3-afcd-4bd9-a38b-dacc68a1302f",
        "colab": {
          "base_uri": "https://localhost:8080/"
        }
      },
      "outputs": [
        {
          "output_type": "stream",
          "name": "stdout",
          "text": [
            "O fatorial de 0 é 1\n",
            "O fatorial de 1 é 1\n",
            "O fatorial de 2 é 2\n",
            "O fatorial de 3 é 6\n",
            "O fatorial de 4 é 24\n",
            "O fatorial de 5 é 120\n",
            "O fatorial de 6 é 720\n",
            "O fatorial de 7 é 5040\n",
            "O fatorial de 8 é 40320\n",
            "O fatorial de 9 é 362880\n",
            "O fatorial de 10 é 3628800\n",
            "O fatorial de 11 é 39916800\n",
            "O fatorial de 12 é 479001600\n",
            "O fatorial de 13 é 6227020800\n",
            "O fatorial de 14 é 87178291200\n",
            "O fatorial de 15 é 1307674368000\n",
            "O fatorial de 16 é 20922789888000\n",
            "O fatorial de 17 é 355687428096000\n",
            "O fatorial de 18 é 6402373705728000\n",
            "O fatorial de 19 é 121645100408832000\n",
            "O fatorial de 20 é 2432902008176640000\n",
            "O fatorial de 21 é 51090942171709440000\n",
            "O fatorial de 22 é 1124000727777607680000\n",
            "O fatorial de 23 é 25852016738884976640000\n",
            "O fatorial de 24 é 620448401733239439360000\n",
            "O fatorial de 25 é 15511210043330985984000000\n",
            "O fatorial de 26 é 403291461126605635584000000\n",
            "O fatorial de 27 é 10888869450418352160768000000\n",
            "O fatorial de 28 é 304888344611713860501504000000\n",
            "O fatorial de 29 é 8841761993739701954543616000000\n",
            "O fatorial de 30 é 265252859812191058636308480000000\n",
            "O fatorial de 31 é 8222838654177922817725562880000000\n",
            "O fatorial de 32 é 263130836933693530167218012160000000\n",
            "O fatorial de 33 é 8683317618811886495518194401280000000\n",
            "O fatorial de 34 é 295232799039604140847618609643520000000\n",
            "O fatorial de 35 é 10333147966386144929666651337523200000000\n",
            "O fatorial de 36 é 371993326789901217467999448150835200000000\n",
            "O fatorial de 37 é 13763753091226345046315979581580902400000000\n",
            "O fatorial de 38 é 523022617466601111760007224100074291200000000\n",
            "O fatorial de 39 é 20397882081197443358640281739902897356800000000\n",
            "O fatorial de 40 é 815915283247897734345611269596115894272000000000\n",
            "O fatorial de 41 é 33452526613163807108170062053440751665152000000000\n",
            "O fatorial de 42 é 1405006117752879898543142606244511569936384000000000\n",
            "O fatorial de 43 é 60415263063373835637355132068513997507264512000000000\n",
            "O fatorial de 44 é 2658271574788448768043625811014615890319638528000000000\n",
            "O fatorial de 45 é 119622220865480194561963161495657715064383733760000000000\n",
            "O fatorial de 46 é 5502622159812088949850305428800254892961651752960000000000\n",
            "O fatorial de 47 é 258623241511168180642964355153611979969197632389120000000000\n",
            "O fatorial de 48 é 12413915592536072670862289047373375038521486354677760000000000\n",
            "O fatorial de 49 é 608281864034267560872252163321295376887552831379210240000000000\n",
            "O fatorial de 50 é 30414093201713378043612608166064768844377641568960512000000000000\n"
          ]
        }
      ],
      "source": [
        "# a função fatorial - calculando para 1 a 50\n",
        "import math as mt\n",
        "for i in range(51):\n",
        "    print(\"O fatorial de\", i, \"é\", mt.factorial(i))"
      ]
    },
    {
      "cell_type": "code",
      "execution_count": null,
      "id": "ada5d008-5576-4590-84f6-e351a73c9a68",
      "metadata": {
        "id": "ada5d008-5576-4590-84f6-e351a73c9a68",
        "outputId": "cb9d2d2a-2ae5-4973-95e2-b1ec938997cc"
      },
      "outputs": [
        {
          "name": "stdout",
          "output_type": "stream",
          "text": [
            "120\n"
          ]
        }
      ],
      "source": [
        "# para calcular combinações (sem ordem e sem repetição) de n elementos k organizados\n",
        "# comb(n,k)= n!/(k! * (n - k)!) temos\n",
        "import math as mt\n",
        "n1 = 10\n",
        "k1 = 3\n",
        "comb1 = mt.comb(n1,k1)\n",
        "print(comb1)"
      ]
    },
    {
      "cell_type": "code",
      "execution_count": null,
      "id": "d28a77d5-4a54-4483-baaf-818819e295c2",
      "metadata": {
        "id": "d28a77d5-4a54-4483-baaf-818819e295c2",
        "outputId": "9d43cb87-ab4a-4366-e4d1-f6fb71a530da"
      },
      "outputs": [
        {
          "name": "stdout",
          "output_type": "stream",
          "text": [
            "3\n",
            "4\n",
            "2.33\n"
          ]
        }
      ],
      "source": [
        "# calculando o piso de x, com floor(x), ou seja o maior inteiro que não supera x\n",
        "import math as mt\n",
        "pisox = mt.floor(3.6)\n",
        "# calculando o teto de x, com ceil(x), ou seja o menor inteiro que supera x\n",
        "tetox = mt.ceil(3.6)\n",
        "print(pisox)\n",
        "print(tetox)\n",
        "# calculando o valor absoluto de um num\n",
        "num = -2.33\n",
        "print(fabs(num))"
      ]
    },
    {
      "cell_type": "code",
      "execution_count": null,
      "id": "8a0e89b2-835e-4b10-bfe9-e4e6672efaa9",
      "metadata": {
        "id": "8a0e89b2-835e-4b10-bfe9-e4e6672efaa9"
      },
      "outputs": [],
      "source": [
        "###2.5 Funções matemáticas para números complexos ###\n",
        "\n",
        "A biblioteca 'math' possuem um módulo análogo para manipulação de operações com números\n",
        "complexos: é a biblioteca 'cmath'. \n",
        "ver https://docs.python.org/pt-br/3/library/cmath.html#module-cmath\n",
        "\n",
        "Números complexos em pytho são definidos pela sua *parte real a*, *parte imaginária b* e\n",
        "o *formato z = a + bj*, logo temos códigos tais que:"
      ]
    },
    {
      "cell_type": "code",
      "execution_count": null,
      "id": "ab975f1c-1766-4415-afba-5d5d3685bc4f",
      "metadata": {
        "id": "ab975f1c-1766-4415-afba-5d5d3685bc4f",
        "outputId": "7fa5b929-190d-496e-ecad-70cabee2487f"
      },
      "outputs": [
        {
          "name": "stdout",
          "output_type": "stream",
          "text": [
            "3j\n",
            "4.0\n",
            "-2.0\n",
            "(2+2j)\n",
            "(-1+1.2246467991473532e-16j)\n"
          ]
        }
      ],
      "source": [
        "# carga da cmath\n",
        "import cmath as mc\n",
        "print(mc.sqrt(-9)) # calculando raiz de número negativo\n",
        "#\n",
        "z = 4 - 2j  # definindo um complexo por extensão\n",
        "#\n",
        "print(z.real) # recupeando a parte real\n",
        "print(z.imag) # recuperando a parte imaginária\n",
        "#\n",
        "zp=complex(2,2) # definindo um complexo\n",
        "print(zp)\n",
        "## e^i*pi + 1 = 0\n",
        "xp = mc.exp(1j*pi) # cálculo de e^(i*pi) ~ -1\n",
        "print(xp)\n"
      ]
    },
    {
      "cell_type": "markdown",
      "id": "1a0c2066-3452-42c1-9068-a7892e7937c7",
      "metadata": {
        "id": "1a0c2066-3452-42c1-9068-a7892e7937c7"
      },
      "source": [
        "## 3 . A biblioteca de números aleatórios random ##\n",
        "\n",
        "### 3.1 Porquê números aleatórios? ###\n",
        "\n",
        "Em problemas de engenharia, como noutras áreas, necessitamos fazer experimentos com base\n",
        "em dados. Muitas vezes não temos acesso direto aos dados, mas sabemos algo sobre o \n",
        "comportamento deles e nesse caso podemos simular tais dados e fazer uso deles em nossos\n",
        "cálculos. Você saberá mais sobre isso após estudar estatística e probabilidades, por hora\n",
        "nosso interesse nesses números é na possibilidade de gerá-los em computador.\n",
        "\n",
        "### 3.2 Geradores de números aleatórios ###\n",
        "\n",
        "Já imaginou o que acontece com, digamos, o seu aplicativo do spotify, dizzer ou amazon music\n",
        "quando você acionar o modo de escolha aleatória de músicas numa playlist? Agora você vai \n",
        "descobrir a matemática por trás disso."
      ]
    },
    {
      "cell_type": "code",
      "execution_count": null,
      "id": "93a2c7b1-ccc8-421f-aa53-519ba25dea42",
      "metadata": {
        "id": "93a2c7b1-ccc8-421f-aa53-519ba25dea42",
        "outputId": "c8b92f21-55be-4b33-addf-0e751ce1be81"
      },
      "outputs": [
        {
          "name": "stdout",
          "output_type": "stream",
          "text": [
            "58\n",
            "97\n",
            "53\n",
            "60\n",
            "62\n",
            "66\n",
            "87\n",
            "99\n",
            "7\n",
            "85\n"
          ]
        }
      ],
      "source": [
        "import random as rd\n",
        "for i in range(10):\n",
        " print (rd.randint(0,100))"
      ]
    },
    {
      "cell_type": "code",
      "execution_count": null,
      "id": "0cc58287-6771-4985-a145-49c818b9b1cd",
      "metadata": {
        "id": "0cc58287-6771-4985-a145-49c818b9b1cd",
        "outputId": "f0b79a01-da39-4615-c79a-2981418e0fc3"
      },
      "outputs": [
        {
          "name": "stdout",
          "output_type": "stream",
          "text": [
            "7\n",
            "New Rules/Dua Lipa\n"
          ]
        }
      ],
      "source": [
        "# gerando números aleatórios em python\n",
        "import random as rd\n",
        "\n",
        "def EscolhaMusica(SuaLista):\n",
        " Lista = SuaLista\n",
        " escolha = rd.randint(0,len(Lista)-1)\n",
        " return(Lista[escolha])\n",
        "\n",
        "# Defina sua lista preferida\n",
        "# a \\ indica uma quebra de linha na declaração e continuação \n",
        "# na linha seguinte ...\n",
        "\n",
        "playList = [\"Sina/Djavan\", \"Rolling in the Deep/Adele\", \\\n",
        "            \"Talking to the moon/Bruno Mars\", \\\n",
        "            \"Faded/Alan Walker\", \"The Scientist/ColdPlay\", \\\n",
        "            \"All of Me/Jonh Legend\", \"New Rules/Dua Lipa\"]\n",
        "  \n",
        "# Execute ordem aleatória\n",
        "print(len(playList))\n",
        "print(EscolhaMusica(playList))\n"
      ]
    },
    {
      "cell_type": "markdown",
      "id": "24779c28-8041-41c0-b2ce-006c23e072d0",
      "metadata": {
        "id": "24779c28-8041-41c0-b2ce-006c23e072d0"
      },
      "source": [
        "O algoritmo acima, recebe uma lista com uma playList bem curta, preferida de alguém por aí. O algoritmo\n",
        "chama a biblioteca random, para lhe ajudar a gerar números aleatórios que apontem para os índices da \n",
        "lista que possuem uma música, de seu respectivo compositor/intérprete, gerando escolhas diferentes\n",
        "sempre que é solicitado a fazer isso. A base disso é uma distribuição de probabilidades uniforme (ou seja, escolhas com mesma probabilidade) que é representada no algoritmo pela **função 'randint'**.\n",
        "\n",
        "Observe que chamamos randint no intervalo [0, N - 1], onde N é o tamanho da playlist. Ou seja, randint vai escolher qualquer música, com a mesma probabilidade sempre que for chamada.\n",
        "\n",
        "Para experimentar, tente executar várias vezes o código acima e observe o resultado obtido em seu experimento aleatório."
      ]
    },
    {
      "cell_type": "markdown",
      "id": "c91b0367-d053-4e08-ba5e-5d69fef8a137",
      "metadata": {
        "id": "c91b0367-d053-4e08-ba5e-5d69fef8a137"
      },
      "source": [
        "Mas, em que pese o experimento acima ter lhe dado uma boa ideia de utilização de números aleatórios, \n",
        "vamos apelar um pouco mais para o seu senso acadêmico. Quando estudamos probabilidades é comum falar\n",
        "sobre lançamentos de moedas como experimentos aleatórios que lhe ajudam a compreender probabilidades,\n",
        "suponha que seu professor de estatística solicite que você faça um experimento estatístico lançando\n",
        "10.000 vezes uma moeda honesta (isto é, não viciada) e observe a frequência a face de cima. Quais as\n",
        "frequências obtidas por cara e coroa?\n",
        "\n",
        "A questão para você é como realizar esse experimento. Talvez seja inviável para você e seus amigos\n",
        "passarem um dia inteiro lançando moedas ao acaso e anotando o resultado da face de cima, mas como\n",
        "você sabe programar em python, tudo fica mais simples e você vai propor ao seu professor uma simulação\n",
        "estatística, usando um modelo computacional. Vejamos como..."
      ]
    },
    {
      "cell_type": "code",
      "execution_count": 1,
      "id": "a981c122-e06f-4b8c-8b5b-78c86522119e",
      "metadata": {
        "id": "a981c122-e06f-4b8c-8b5b-78c86522119e",
        "outputId": "7e8b45e4-68f1-4737-93ce-163fb2f7ee0c",
        "colab": {
          "base_uri": "https://localhost:8080/"
        }
      },
      "outputs": [
        {
          "output_type": "stream",
          "name": "stdout",
          "text": [
            "Resultado do Experimento Aleatório\n",
            "\n",
            "Frequencia de cara:  5052 \n",
            "\n",
            "Frequencia de coroa:  4948 \n",
            "\n"
          ]
        }
      ],
      "source": [
        "# lançamento de moedas\n",
        "import random as rd\n",
        "moeda = ['cara', 'coroa']   # espaço amostral\n",
        "conteCara = 0               # frequencia de caras\n",
        "conteCoroa = 0              # frequência de coroas\n",
        "num_lanc = 10000\n",
        "for i in range(num_lanc):      # repetir o experimento 10 mil vezes\n",
        "    faceObservada = moeda[rd.randint(0,1)] # observar a face de cima\n",
        "    if faceObservada == 'cara':            # verificar se foi cara e contar\n",
        "       conteCara = conteCara + 1\n",
        "    else:                                  # se foi coroa, contar também\n",
        "        conteCoroa = conteCoroa + 1\n",
        "print(\"Resultado do Experimento Aleatório\\n\")  # publique os resultados encontrados\n",
        "print(\"Frequencia de cara: \", conteCara, \"\\n\")\n",
        "print(\"Frequencia de coroa: \", conteCoroa, \"\\n\")\n",
        "\n",
        "    "
      ]
    },
    {
      "cell_type": "markdown",
      "id": "12a03f91-9ca8-4de2-bb50-b67ccde40739",
      "metadata": {
        "id": "12a03f91-9ca8-4de2-bb50-b67ccde40739"
      },
      "source": [
        "Pois é, você acabou de realizar seu primeiro experimento de simulação computacional com o auxílio luxuoso\n",
        "da biblioteca **random**. Observe que usamos o método randint no exemplo acima, **randint(ini,fim)** é uma função que gera números aleatórios no intervalo dado por ini e fim. No exemplo acima, o valor devolvido por randint é 0 ou 1, ou seja é o índice que indica se a face da moeda é cara ou coroa, a cada lançamento."
      ]
    },
    {
      "cell_type": "markdown",
      "id": "7c71ddd7-2e90-4896-ada2-2beb0dc38775",
      "metadata": {
        "id": "7c71ddd7-2e90-4896-ada2-2beb0dc38775"
      },
      "source": [
        "Um outro comando bastante útil em simulações e geração de amostras aleatórias sem repetição é o comando\n",
        "'sample' da biblioteca random. Abaixo criamos uma faixa de 25 valores e em seguida sorteamos 15 desses \n",
        "números numa amostra"
      ]
    },
    {
      "cell_type": "code",
      "execution_count": null,
      "id": "27aa5dfe-9be1-4744-a1aa-ba1768703713",
      "metadata": {
        "id": "27aa5dfe-9be1-4744-a1aa-ba1768703713",
        "outputId": "7f4b8c3a-6ddb-42a1-d96c-b3a97358d42f"
      },
      "outputs": [
        {
          "name": "stdout",
          "output_type": "stream",
          "text": [
            "[24, 5, 2, 17, 14, 22, 3, 16, 13, 7, 4, 11, 1, 8, 10]\n"
          ]
        }
      ],
      "source": [
        "import random as rd\n",
        "sorteio=rd.sample(range(1,26),15)\n",
        "print(sorteio)"
      ]
    },
    {
      "cell_type": "markdown",
      "id": "3f66de96-49b0-4919-88cc-de013e7a34fc",
      "metadata": {
        "id": "3f66de96-49b0-4919-88cc-de013e7a34fc"
      },
      "source": [
        "No código a seguir geramos várias dessas amostras ao executarmos uma repetição na geração das amostras\n",
        "aleatórias..."
      ]
    },
    {
      "cell_type": "code",
      "execution_count": null,
      "id": "871ade85-d37f-4caa-867e-3e1f892e33ed",
      "metadata": {
        "id": "871ade85-d37f-4caa-867e-3e1f892e33ed",
        "outputId": "edf6e0cd-b19a-4608-a14f-8a0a7faa47b8"
      },
      "outputs": [
        {
          "name": "stdout",
          "output_type": "stream",
          "text": [
            "[24, 16, 1, 21, 22, 18, 2, 9, 25, 23, 4, 10, 20, 17, 7]\n",
            "\n",
            "\n",
            "[17, 22, 10, 20, 11, 18, 14, 23, 19, 12, 15, 3, 1, 16, 25]\n",
            "\n",
            "\n",
            "[21, 8, 7, 12, 15, 2, 13, 16, 14, 20, 25, 18, 23, 22, 3]\n",
            "\n",
            "\n",
            "[24, 5, 20, 7, 10, 8, 23, 22, 25, 16, 21, 12, 3, 19, 1]\n",
            "\n",
            "\n",
            "[15, 9, 21, 6, 10, 13, 24, 4, 1, 14, 7, 16, 5, 22, 8]\n",
            "\n",
            "\n",
            "[13, 25, 22, 7, 14, 21, 17, 15, 10, 1, 23, 11, 3, 24, 9]\n",
            "\n",
            "\n"
          ]
        }
      ],
      "source": [
        "import random as rd\n",
        "n=5\n",
        "for i in range(n+1):\n",
        " sorteio=rd.sample(range(1,26),15)\n",
        " print(sorteio)\n",
        " print('\\n')"
      ]
    },
    {
      "cell_type": "markdown",
      "id": "b9060db8-b784-42cc-8e40-790c7fa80ffc",
      "metadata": {
        "id": "b9060db8-b784-42cc-8e40-790c7fa80ffc"
      },
      "source": [
        "Vamos avançar um pouco mais. Suponha que por alguma necessidade (criação de vetores aleatórios, por exemplo) você tenha que inicializar um vetor de 10 dimensões com números no intervalo [0,1], mas \n",
        "definindo uma precisão de apenas 4 casas decimais. Como podemos fazer isso em Python, com os conhecimentos vistos até aqui?\n"
      ]
    },
    {
      "cell_type": "code",
      "execution_count": null,
      "id": "861c1de6-bacf-4862-b564-96eda38ea90e",
      "metadata": {
        "id": "861c1de6-bacf-4862-b564-96eda38ea90e",
        "outputId": "2983fe2e-02c8-4f9a-9193-155109a87d1e"
      },
      "outputs": [
        {
          "name": "stdout",
          "output_type": "stream",
          "text": [
            "[0.3348, 0.4121, 0.424, 0.8776, 0.8233, 0.6298, 0.4452, 0.9332, 0.3963, 0.6114]\n"
          ]
        }
      ],
      "source": [
        "# Vetor aleatório de dimensão 10\n",
        "import random as rd                           # importar random\n",
        "vt_alea = []                                  # uma lista vazia\n",
        "for nx in range(10):                          # repetindo 10 vezes o processo\n",
        "    vt_alea.append(round(rd.random(),4))      # gerar um aleatório em 0,1 e arrendondar 4 casas\n",
        "print(vt_alea)                                # imprimir lista gerada\n",
        "    "
      ]
    },
    {
      "cell_type": "markdown",
      "id": "6ed302f8-45f4-4510-9436-ed86b363188e",
      "metadata": {
        "id": "6ed302f8-45f4-4510-9436-ed86b363188e"
      },
      "source": [
        "Quando geramos números aleatórios outras funções presentes em 'random' podem ser importantes. Por exemplo,\n",
        "como os resultados gerados por random são (pretensamente) aleatórios, sempre que você repete aquele experimento vai obter resultados diferentes do anterior. É o que se espera, que 'jamais' se repitam.\n",
        "\n",
        "Pense num situação onde você quer replicar um experimento. Ou seja, apesar do experimento ser aleatório vc\n",
        "gostaria que seus colegas possam obter os mesmos resultados numa replicação daquele experimento. Felizmente,números aleatórios não são *totalmente aleatórios* quando gerados por computador, por isso chamamos esses números de pseudo-aleatórios, pois são gerados por alguma 'regra computacional' ou 'fórmula matemática' que seguem leis probabilísticas e portanto comportam-se como se fosse 'totalmente aleatórios'.\n",
        "\n",
        "Uma das propriedades dos pseudo-aleatórios é possuírem um *número-semente*, ou seja, uma raiz geradora \n",
        "desses números, de tal sorte que a partir da mesma 'semente' (seed em inglês). \n",
        "\n",
        "No código abaixo, vamos iniciar o nosso algoritmo com uma semente. Um número semente é um natural \n",
        "qualquer que você 'amarra' no início do seu experimento, para que outras pessoas que repitam seu\n",
        "experimento possam obter os mesmos resultados que você ao replicarem a sua simulação computacional.\n",
        "No caso abaixo escolhemos o número '1966' com semente do nosso experimento, poderíamos escolher\n",
        "qualquer outro número para 'amarrar' ao nosso experimento 'aleatório'. Esse número vai garantir\n",
        "que nas mesmas condições estatísticas e computacionais, o experimento aleatório realizado dará \n",
        "os mesmos resultados. Vejamos o código..."
      ]
    },
    {
      "cell_type": "code",
      "execution_count": null,
      "id": "9443cf0b-c393-47e4-816c-ae6866a2ea90",
      "metadata": {
        "id": "9443cf0b-c393-47e4-816c-ae6866a2ea90",
        "outputId": "95b4b7ea-65d6-4d6a-ced0-73476a57475d"
      },
      "outputs": [
        {
          "name": "stdout",
          "output_type": "stream",
          "text": [
            "0.531625749833213\n"
          ]
        }
      ],
      "source": [
        "# \n",
        "import random as rd  # chame a biblioteca random \n",
        "rd.seed(2022)         # inicia uma semente. \n",
        "print(rd.random())"
      ]
    },
    {
      "cell_type": "markdown",
      "id": "2b27aa03-c6fe-44e9-8f6e-662526fe34c2",
      "metadata": {
        "id": "2b27aa03-c6fe-44e9-8f6e-662526fe34c2"
      },
      "source": [
        "Tente executar o código acima várias vezes, com e sem o número semente. Tente outras vezes mudando o número\n",
        "semente e verifique o que acontece."
      ]
    },
    {
      "cell_type": "markdown",
      "id": "1d0df24c-3906-4e43-a56c-244e9a983985",
      "metadata": {
        "id": "1d0df24c-3906-4e43-a56c-244e9a983985"
      },
      "source": [
        "Para fechar momentaneamente nosso interesse em algumas funções do módulo random, vejamos algumas outras\n",
        "funções dessa lib que poderão ser úteis em exercícios ou trabalhos futuros.\n",
        "\n",
        "Uma das funções que usamos para escolher elementos de forma aleatória, num vetor, numa lista ou noutro \n",
        "objeto qualquer é a random.choice e o que ela faz é melhor explicada com o código a seguir..."
      ]
    },
    {
      "cell_type": "code",
      "execution_count": null,
      "id": "f8d86478-e45f-4b9a-b020-3328606fbad4",
      "metadata": {
        "id": "f8d86478-e45f-4b9a-b020-3328606fbad4",
        "outputId": "ff3270ec-6c93-476d-f3e9-993294816b59"
      },
      "outputs": [
        {
          "name": "stdout",
          "output_type": "stream",
          "text": [
            "normal\n"
          ]
        }
      ],
      "source": [
        "import random as rd\n",
        "estado = ['tracionado', 'tensionado', 'defletido', 'normal']\n",
        "rotação=rd.choice(estado)\n",
        "print(rotação)"
      ]
    },
    {
      "cell_type": "markdown",
      "id": "5a0e60ca-b2a1-4bae-953f-eb383fcfccda",
      "metadata": {
        "id": "5a0e60ca-b2a1-4bae-953f-eb383fcfccda"
      },
      "source": [
        "No código acima submetemos um corpo a um movimento rígido de rotação, mas sobre o corpo atuam outras\n",
        "forças, de tal forma que nosso 'sólido' pode assumir os quatro estados representados naquela lista.\n",
        "Supondo que os estados são aleatórios, queremos representar um experimento onde rotacionamos o corpo\n",
        "e observamos em que estado ele vai se encontrar após a rotação. Os estados são igualmente prováveis.\n",
        "\n",
        "Observe que no contexto do problema o que 'choice' nos dá é um processo de escolha aleatória dos\n",
        "estados em que o corpo poderá se encontrar. Um bom exercício é você verificar o que acontece \n",
        "quando esse experimento se repetir 1.000 vezes, tente checar a frequência de cada estado e faça\n",
        "cálculos sobre a probabilidade de o corpo se encontrar em um certo estado (digamos, normal)\n",
        "após 10.000 rotações. Observe que nesse instante você estará 'aprendendo a lidar' com situações\n",
        "de incerteza e a 'simular tais condições', através de modelos computacionais."
      ]
    },
    {
      "cell_type": "markdown",
      "id": "3743b14b-1427-414b-99d5-a6a0695cb52c",
      "metadata": {
        "id": "3743b14b-1427-414b-99d5-a6a0695cb52c"
      },
      "source": [
        "### 3.3. 'Randomness'. Conversando sobre aleatoriedade, engenharias e simulações computacionais ###\n",
        "\n",
        "'At random' em inglês, em livre tradução para o português, significa 'ao acaso'. Então estamos aprendendo\n",
        "a lidar com as 'leis do acaso', ou seja - entramos no mundos das probabilidades - onde cientistas e \n",
        "engenheiros procuram entender o comportamento de variáveis ditas aleatórias. Variáveis cujos comportamentos\n",
        "estão longe de serem determinísticos. Na verdade esse é um mundo onde o indeterminismo governa os processos.\n",
        "\n",
        "Para entender o acaso é preciso entender probabilidades e para simular o acaso é preciso entender o \n",
        "comportamento dos processos aleatórios, compreendendo a relação entre suas variáveis. Felizmente isso\n",
        "é possível graças a teoria das probabilidades e também a inferência estatística. Mas aqui estamos\n",
        "apenas interessados como podemos usar computação para experimentar, simular e fazer 'contas' com esses\n",
        "processos.\n",
        "\n",
        "Quando prédios desabam, pontes caem ou produtos defeituosos são entregues ao consumidor - algo de errado \n",
        "com os processos de engenharia, ocorreu - invarialmente riscos deixaram de ser calculados ou foram \n",
        "abordados de forma errada. Muito provavelmente análises estatísticas e computacionais deixaram de ser\n",
        "realizadas, além de prováveis falhas humanas. De uma forma ou de outra - a aleatoriedade está envolvida.\n",
        "\n",
        "Na estatística básica, estudantes de engenharia, tecnologias e de ciências aprenderão a lidar com situações de incerteza\n",
        "conhencendo algumas das principais variáveis aleatórias, ensinadas como 'distribuições de probabilidade'.\n",
        "\n",
        "Elas serão conhecidas por definirem um comportamento governado pelo acaso, mas as chances de ocorrência\n",
        "dos valores dessas variáveis serão conhecidos, uma vez conhecida como as chances de ocorrência de cada\n",
        "valor de variável (ou característica) estão definidas por sua função de probabilidades. A grosso modo, saberemos as chances de uma determinada variável\n",
        "assumir um certo valor e com base nisso poderemos fazer previsões (ou projeções) sobre o comportamento\n",
        "futuro de um determinado processo ou de um material. \n",
        "\n",
        "Por exemplo poderemos prever quando e se uma máquina recém adquirida para uma fábrica poderá produzir lotes\n",
        "defeituosos ou se em determinadas regiões de venda qual o percentual de consumidores satisfeitos, qual a \n",
        "chance de uma certa estrutura predial sofrer rápida fadiga e depreciação, em função de vibrações esporádicas\n",
        "causadas pela presença de uma linha férrea nas proximidades, ou por mudanças na porosidade do solo\n",
        "após sucessivas enchentes. Enfim, processos aleatórios acontecem o tempo todo alterando as condições\n",
        "iniciais, introduzindo erros e variâncias, exigindo pelo menos uma 'análise de sensibilidade' em nossas\n",
        "contas ou uma completa revisão do nosso 'modelo' matemático sobre 'estruturas' ou 'processos'."
      ]
    },
    {
      "cell_type": "markdown",
      "id": "e055b18e-8d4b-4332-b3b7-b3b272aba031",
      "metadata": {
        "tags": [],
        "id": "e055b18e-8d4b-4332-b3b7-b3b272aba031"
      },
      "source": [
        "#### 3.3.1 Introdução básica à computação de variáveis aleatórias  ####"
      ]
    },
    {
      "cell_type": "markdown",
      "id": "f1b4283c-7fac-4136-8dfe-44cd31e6c341",
      "metadata": {
        "id": "f1b4283c-7fac-4136-8dfe-44cd31e6c341"
      },
      "source": [
        "Começamos essas seção como um 'longo papo' sobre aleatoriedade e como ela está presente em nossas\n",
        "vidas, principalmente no comando do 'acaso'. Nas engenharias, como nas ciências, sabemos que ela\n",
        "(lady randomness, ou lady Alea - para os íntimos) atua bastante e é responsável pela complexidade\n",
        "de muitos modelos naturais ou artificiais. \n",
        "\n",
        "Nesta seção veremos alguns modelos computacionais de variáveis aleatórias que aparecem nos livros\n",
        "de estatística e probabilidade para engenheiros e cientistas, principalmente por sua importância\n",
        "na compreensão e experimentação dos fenômenos com os quais lidamos."
      ]
    },
    {
      "cell_type": "markdown",
      "id": "59597acc-924c-484f-8707-9fff25510354",
      "metadata": {
        "id": "59597acc-924c-484f-8707-9fff25510354"
      },
      "source": [
        "#### 3.3.2 A distribuição uniforme ####\n",
        "\n",
        "Em linguagem matemática, dado um intervalo $(a,b)$ - se $f$ é uma distribuição de probabilidade naquela intervalo\n",
        "então $f$ é dita distribuição uniforme de probabilidade se e só se:\n",
        "\n",
        "\\begin{align}\n",
        "\t\\textbf{Distribuição Uniforme f} \\\\\n",
        "\t\\textbf{f(x) = } \n",
        "\t\\begin{cases} \n",
        "\t  \\frac{1}{b - a}, & a\\leq x\\leq b\\\\\n",
        "      0, &  x \\notin [a,b]\n",
        "    \\end{cases}\n",
        "\\end{align}\n",
        "    "
      ]
    },
    {
      "cell_type": "markdown",
      "id": "610b49be-9bff-42bc-95f0-b12b087a7ca8",
      "metadata": {
        "id": "610b49be-9bff-42bc-95f0-b12b087a7ca8"
      },
      "source": [
        "Observe que sendo $f(x)$ uma probabilidade, ela está definida no intervalo $[0,1]$, todavia a probabilidade \n",
        "de ocorrer (ou de sortearmos) qualquer ponto num intervalo $[a,b]$ é proporcional ao tamanho desse intervalo\n",
        "e, obviamente, qualquer ponto fora desse intervalo é 'sorteado' com probabilidade zero. A média para essa \n",
        "distribuição é dada por $\\frac{b+a}{2}$.\n",
        "\n",
        "Em python, podemos gerar números aleatórios que seguem uma probabilidade uniforme (ou seja, se comportam de acordo\n",
        "de acordo com essa função) da seguinte forma..."
      ]
    },
    {
      "cell_type": "code",
      "execution_count": 2,
      "id": "0f723699-aba2-4e28-9b81-a95a13f4a4e5",
      "metadata": {
        "id": "0f723699-aba2-4e28-9b81-a95a13f4a4e5",
        "outputId": "0a8164a8-63d8-43e4-bfd9-217c5777845c",
        "colab": {
          "base_uri": "https://localhost:8080/"
        }
      },
      "outputs": [
        {
          "output_type": "execute_result",
          "data": {
            "text/plain": [
              "2.1179252517367986"
            ]
          },
          "metadata": {},
          "execution_count": 2
        }
      ],
      "source": [
        "# gerando números aleatórios conforme a distribuição uniforme\n",
        "import random as rd\n",
        "pA = 1\n",
        "pB = 5\n",
        "rd.uniform(pA, pB)"
      ]
    },
    {
      "cell_type": "markdown",
      "id": "f7aba5f3-2a06-4572-acf6-bb827bae0e3e",
      "metadata": {
        "id": "f7aba5f3-2a06-4572-acf6-bb827bae0e3e"
      },
      "source": [
        "Exercício resolvido. Aplicação de números aleatórios a geração de amostras. Distribuição uniforme.\n",
        "\n",
        "Verificou-se que num determinado equipamento de precisão os erros medidos na faixa de valores entre **10.50mm e 10.90mm** ocorrem com a mesma probabilidade. Foram feitas 50 medidas ao acaso. Simule em computador as medidas e calcule a média dos resultados obtidos (na amostra gerada) e compare com a média teórica da distribuição. A precisão das medidas é fixada em 2 casas decimais."
      ]
    },
    {
      "cell_type": "code",
      "execution_count": 3,
      "id": "2bd613ee-9924-4c18-ba2f-e8a08aa7a7d0",
      "metadata": {
        "id": "2bd613ee-9924-4c18-ba2f-e8a08aa7a7d0",
        "outputId": "f21036ed-22ea-42b8-8299-916dc0234165",
        "colab": {
          "base_uri": "https://localhost:8080/"
        }
      },
      "outputs": [
        {
          "output_type": "stream",
          "name": "stdout",
          "text": [
            "A simulação das medidas (amostra gerada):\n",
            "-----------------------------------------\n",
            "[10.56, 10.51, 10.73, 10.55, 10.76, 10.57, 10.84, 10.85, 10.76, 10.78, 10.74, 10.8, 10.52, 10.51, 10.59, 10.66, 10.85, 10.53, 10.57, 10.6, 10.59, 10.6, 10.78, 10.76, 10.51, 10.54, 10.67, 10.69, 10.83, 10.61, 10.68, 10.8, 10.53, 10.71, 10.69, 10.71, 10.77, 10.6, 10.67, 10.72, 10.84, 10.75, 10.65, 10.68, 10.72, 10.55, 10.88, 10.68, 10.61, 10.57]\n",
            "------------------------\n",
            "A média calculada foi:\n",
            "------------------------\n",
            "média obtida na amostra:  10.67\n",
            "média teórica:  10.7\n"
          ]
        }
      ],
      "source": [
        "# o modelo segue uma distribuição uniforme, mas precisamos gerar 50 números aleatórios \n",
        "# com a característica seguindo a distribuição 'uniforme' ...\n",
        "import random as rd\n",
        "# se quiser amarra a simulação e replicar o resultado, descomente abaixo\n",
        "# rd.seed(1010)\n",
        "## condições iniciais do experimento e definições - preprocessamento -> entrada# \n",
        "quant_medidas = 50\n",
        "lista_med = []\n",
        "limite_a=10.50\n",
        "limite_b=10.90\n",
        "## neste bloco, fazemos a simulação das medições conforme o problema enuncia - processamento\n",
        "for medições in range(quant_medidas):\n",
        "    lista_med.append(round(rd.uniform(limite_a,limite_b),2))\n",
        "\n",
        "## ora de organizar os resultados - pós-processamento -> saída\n",
        "print(\"A simulação das medidas (amostra gerada):\")\n",
        "print(\"-----------------------------------------\")\n",
        "print(lista_med)\n",
        "print(\"------------------------\")\n",
        "print(\"A média calculada foi:\")\n",
        "print(\"------------------------\")\n",
        "media=round(sum(lista_med)/len(lista_med),2)\n",
        "print(\"média obtida na amostra: \", media)\n",
        "med_teorica = round((limite_b + limite_a)/2,3)\n",
        "print(\"média teórica: \", med_teorica)\n"
      ]
    },
    {
      "cell_type": "markdown",
      "id": "d6bcd0ac-9141-4e43-897b-01927f7b1369",
      "metadata": {
        "id": "d6bcd0ac-9141-4e43-897b-01927f7b1369"
      },
      "source": [
        "Outra importante distribuição (de probabilidades) é a gaussiana, popularmente conhecida como curva normal \n",
        "de Gauss. Talvez a mais importante distribuição de toda estatística (pela quantidade de aplicações e pela\n",
        "presença no comportamento de fenômenos naturais) seja a gaussiana. Os alunos de engenharia e ciÊncias que\n",
        "estudam estatística certamente terão o prazer de estudá-la e perceber sua grande utilidade dentro de \n",
        "inúmeras áreas na engenharia, nas ciências e na computação.\n",
        "\n",
        "Variáveis aleatórias aparecem em muitas bibliotecas em Python, mas na lib 'random' aparecem de maneira\n",
        "bastante sutil e com apelo para geração de números aleatórios de forma rápida e prática.\n",
        "\n",
        "A função random.gauss toma dois parâmetros a média $\\mu$ e o desvio padrão $\\rho$. Assim, para chamá-la\n",
        "precisamos ter uma média 'med' definida e o desvio padrão 'std' dado, logo random.gauss(med, std) computa\n",
        "um número aleatório que segue a distribuição gaussiana com esses parâmetros. Vejamos um exemplo."
      ]
    },
    {
      "cell_type": "markdown",
      "id": "4a343aa6-0b53-469c-94e0-3d3ec776d725",
      "metadata": {
        "id": "4a343aa6-0b53-469c-94e0-3d3ec776d725"
      },
      "source": [
        "Numa determinada população, a altura de adultos, homens e mulheres, seguem a distriuição de Gauss. Sabe-se que a\n",
        "média das alturas é 175 cm com desvio-padrão de 25 cm. Gere 10 amostras aleatórias de 100 indivíduos, cada, nessa população e calcule suas alturas. Compare a média das amostras, com a média da população."
      ]
    },
    {
      "cell_type": "code",
      "execution_count": 4,
      "id": "00ffd57b-c419-461f-a497-52520cd77689",
      "metadata": {
        "id": "00ffd57b-c419-461f-a497-52520cd77689",
        "outputId": "ca9ea2bb-1954-41e6-c960-40394b36570a",
        "colab": {
          "base_uri": "https://localhost:8080/"
        }
      },
      "outputs": [
        {
          "output_type": "stream",
          "name": "stdout",
          "text": [
            "------------------------\n",
            "A amostra 1 gerada, foi:\n",
            "------------------------\n",
            "[197.0, 209.0, 166.0, 202.0, 174.0, 192.0, 127.0, 219.0, 174.0, 175.0] \n",
            "\n",
            ">> a média da amostra 1 foi:  183.5 e a média da população é:  175 <<\n",
            "\n",
            "------------------------\n",
            "A amostra 2 gerada, foi:\n",
            "------------------------\n",
            "[136.0, 189.0, 192.0, 208.0, 148.0, 160.0, 97.0, 192.0, 116.0, 152.0] \n",
            "\n",
            ">> a média da amostra 2 foi:  159.0 e a média da população é:  175 <<\n",
            "\n"
          ]
        }
      ],
      "source": [
        "import random as rd\n",
        "# parâmetros da curva de Gauss\n",
        "media = 175\n",
        "desvio = 25\n",
        "# parâmetros do experimento de amostragem\n",
        "num_levantamentos = 2\n",
        "num_indivíduos = 10\n",
        "# execução da simulação\n",
        "for i in range(num_levantamentos):\n",
        "    amostra = []\n",
        "    for j in range(num_indivíduos):\n",
        "      amostra.append(round(rd.gauss(media, desvio),0))\n",
        "    medx = sum(amostra)/len(amostra)\n",
        "    ## pós-processamento  a cada levantamento índice i\n",
        "    print(\"------------------------\")\n",
        "    print(\"A amostra\",i+1,\"gerada, foi:\")\n",
        "    print(\"------------------------\")\n",
        "    print(amostra,\"\\n\")\n",
        "    print(\">> a média da amostra\", i+1, \"foi: \", medx, \"e a média da população é: \", media, \"<<\\n\")"
      ]
    },
    {
      "cell_type": "markdown",
      "id": "aa114628-afa6-4c78-a46b-72f9bb723edf",
      "metadata": {
        "id": "aa114628-afa6-4c78-a46b-72f9bb723edf"
      },
      "source": [
        "Sugiro que você melhore alguns aspectos da simulação acima e observe o que acontece. Mesmo que você ainda não\n",
        "tenha feito um curso de estatística, procure descobrir o que está acontecendo, em termos das leis das\n",
        "probabilidade. Por exemplo, experimente um pouco e aumente o **num_levantamentos para 10** e o **num_indivíduos\n",
        "por amostra para 100**, experimente outros números maiores e veja o que acontece, quando você compara a\n",
        "média das amostras com a da população."
      ]
    },
    {
      "cell_type": "markdown",
      "id": "44f6e769-cd6c-4239-81c6-2afd28a7499c",
      "metadata": {
        "id": "44f6e769-cd6c-4239-81c6-2afd28a7499c"
      },
      "source": [
        "## 4. A Biblioteca de Processamento Numérico 'NumPy' ##"
      ]
    },
    {
      "cell_type": "markdown",
      "id": "f123238d-6d50-4ecb-968d-ea4e20f6792c",
      "metadata": {
        "id": "f123238d-6d50-4ecb-968d-ea4e20f6792c"
      },
      "source": [
        "Indubitalvemente, precisamos lidar com matrizes e vetores em qualquer área da ciência e das engenharias. \n",
        "Vetores, matrizes e até suas generalizações - os tensores, são objetos fundamentais na computação, na astronomia,\n",
        "na física ou na construção civil. Lidamos o tempo inteiro com abstrações numéricas conhecidas como\n",
        "espaços vetoriais e seus objetos, os vetores. \n",
        "\n",
        "Na maioria das vezes nossos problemas são expressos como operações sobre vetores, usando cálculo diferencial e integral para medir grandezas físicas descritas como vetores. Indo pouco mais além, a própria álgebra linear\n",
        "é o fundamento matemático para muitas das aplicações modernas na computação e nas engenharias, como por exemplo\n",
        "os modelos de computação e expressão gráfica e a própria inteligência artificial (I.A.), por exemplo, as redes de neurônios artificiais (ou redes neurais, como chamamos na I.A.). \n",
        "\n",
        "O cálculo numérico é uma disciplina de apoio às engenharias. É o estudo de métodos matemáticos analíticos, com\n",
        "ênfase em técnicas de solução numérica para permitir soluções computacionais ou seja, algoritmos, que auxiliem\n",
        "na solução de problemas complexos - como soluções de sistemas de equações, aproximações de séries e sequências\n",
        "numéricas, busca de soluções de equações diferenciais ordinárias ou parciais, otimização de funções e também\n",
        "ajuda. Em Python, a biblioteca 'NumPy', nos fornece um conjunto de objetos que auxiliam no processamento\n",
        "numérico de vetores e matrizes, além de outras funções matemáticas úteis em nossos cálculos."
      ]
    },
    {
      "cell_type": "markdown",
      "id": "db30b903-9b13-4f3c-84db-673eb1c45d83",
      "metadata": {
        "id": "db30b903-9b13-4f3c-84db-673eb1c45d83"
      },
      "source": [
        "### Introdução a biblioteca (ou módulo) 'NumPy' ###\n",
        "\n"
      ]
    },
    {
      "cell_type": "code",
      "execution_count": null,
      "id": "a538fbd8-650b-4b2d-87af-f536280da712",
      "metadata": {
        "id": "a538fbd8-650b-4b2d-87af-f536280da712"
      },
      "outputs": [],
      "source": [
        "import numpy as np"
      ]
    },
    {
      "cell_type": "markdown",
      "id": "304a6a38-c5e1-408a-b531-9c3478b13ac7",
      "metadata": {
        "id": "304a6a38-c5e1-408a-b531-9c3478b13ac7"
      },
      "source": [
        "O código acima refer-se a maneira como costumamos chamar o módulo numpy antes de escrevermos nossos algoritmos,\n",
        "programas ou pacotes inteiros com soluções para os nossos problemas - ou simplesmente um pedaço de código (snippet) que executa alguma tarefa que precisamos resolver usando Python.\n",
        "\n",
        "Por exemplo, veja o sistema de equações lineares descrito abaixo:"
      ]
    },
    {
      "cell_type": "markdown",
      "id": "20e0fde3-dad5-42e3-9417-063a096626db",
      "metadata": {
        "id": "20e0fde3-dad5-42e3-9417-063a096626db"
      },
      "source": [
        "\n",
        "\\begin{align} \\label{eq:sistema01}\n",
        "\t\\text{Sistema de Equações:}\n",
        "\t\\begin{cases} \n",
        "\t\t3x_1 - 2x_2 + 1x_3 = 11\\\\\n",
        "\t\t-2x_1 + 3x_2 -3x_3 = -19\\\\\n",
        "\t\t-x_1 - 3x_2 - 4x_4 = -15\n",
        "\t\\end{cases}\t\n",
        "\\end{align}"
      ]
    },
    {
      "cell_type": "markdown",
      "id": "5a26ed96-72f0-41a0-8056-f42a13f89bdc",
      "metadata": {
        "id": "5a26ed96-72f0-41a0-8056-f42a13f89bdc"
      },
      "source": [
        "Como podemos usar o Python para resolvê-lo e como a biblioteca 'NumPy' pode nos ajudar nessa missão? Temos então\n",
        "duas importantes questões: (a) Como representar matrizes e vetores com 'NumPy' e (b) se temos algum 'método numérico' disponível em 'NumPy' que possamos aplicar para resolver o sistema de equações lineares, sem precisar fazer isso 'na mão', já que dispomos de computador e eles são feitos para isso mesmo: computar, enquanto pensamos."
      ]
    },
    {
      "cell_type": "markdown",
      "id": "8de0a135-78ea-48e3-8474-aff2032e3359",
      "metadata": {
        "id": "8de0a135-78ea-48e3-8474-aff2032e3359"
      },
      "source": [
        "Vamos começar respondendo a perguntar (a) ou seja: Como representar matrizes e vetores com NumPy? Um aluno atento\n",
        "poderia sugerir que as listas do Python poderiam servir como uma boa estrutura de dados para 'acomodar' um vetor\n",
        "ou, por assim dizer, n linhas de uma matriz de m colunas e, claro, considerando apenas o aspecto de 'representação' ou 'descrição' da matriz, sem dúvida seria uma boa ideia, todavia do ponto de vista de operações\n",
        "ou métodos associados a uma matriz, pode-se demonstrar que não é muito eficiente computacionalmente.\n",
        "\n",
        "A saída oferecida por NumPy é um objeto matemático que generaliza matrizes e vetores, chamado 'Array'. Na língua inglesa o termo 'array' pode designar muitas coisas, mas nesse contexto matemático ele está relacionado a coleções de tabelas ou simplesmente a ideia de agrupamento. Então ao tentar entender um 'array' como estrutura\n",
        "simplesmente enxergue-o como um 'organizador' onde você possa guardar, organizar e agrupar objetos matemáticos\n",
        "que se assemelhem a vetores ou matrizes, ou ainda múltiplas coleções desses tipos de dados. Entendida a noção\n",
        "de 'array' vamos começar a fazer uso deles."
      ]
    },
    {
      "cell_type": "code",
      "execution_count": null,
      "id": "a3437305-132d-4be4-bba0-58260711a4ee",
      "metadata": {
        "id": "a3437305-132d-4be4-bba0-58260711a4ee",
        "outputId": "e7014da0-8811-44c2-f05c-ac13577af145"
      },
      "outputs": [
        {
          "name": "stdout",
          "output_type": "stream",
          "text": [
            "1.20.3\n"
          ]
        }
      ],
      "source": [
        "import numpy as np\n",
        "print(np.__version__)"
      ]
    },
    {
      "cell_type": "markdown",
      "id": "3c12045d-420e-4b94-ba94-a955e20220ec",
      "metadata": {
        "id": "3c12045d-420e-4b94-ba94-a955e20220ec"
      },
      "source": [
        "Acima chamamos a biblioteca numpy e verificamos sua versão. A última versão de dezembro de 2021 é a 1.21. Sempre\n",
        "é bom trabalhar com 'releases' ou versões de bibliotecas atualizadas ou bem próximas da atual. Neste caso estamos\n",
        "contemplados. Vamos prosseguir"
      ]
    },
    {
      "cell_type": "code",
      "execution_count": null,
      "id": "d533c426-4f07-47b9-b34f-245bd507347b",
      "metadata": {
        "id": "d533c426-4f07-47b9-b34f-245bd507347b",
        "outputId": "785c25be-6605-482a-fcb4-81f442884c9b"
      },
      "outputs": [
        {
          "name": "stdout",
          "output_type": "stream",
          "text": [
            "[ 0 -2  1  1]\n"
          ]
        }
      ],
      "source": [
        "# criando um vetor de 4 dimensões, numa estrutura de array da np (apelido da numpy) \n",
        "vetA = np.array([0,-2,1,1])\n",
        "print(vetA)"
      ]
    },
    {
      "cell_type": "code",
      "execution_count": null,
      "id": "359a9600-5f53-450c-96b8-cae563433c86",
      "metadata": {
        "id": "359a9600-5f53-450c-96b8-cae563433c86",
        "outputId": "38a76a1f-b0c1-4e98-90af-93a6987dd66e"
      },
      "outputs": [
        {
          "data": {
            "text/plain": [
              "numpy.ndarray"
            ]
          },
          "execution_count": 26,
          "metadata": {},
          "output_type": "execute_result"
        }
      ],
      "source": [
        "# vamos checar qual é o tipo de dado da estrutura criada\n",
        "type(vetA)"
      ]
    },
    {
      "cell_type": "markdown",
      "id": "7dd649c1-4c1e-475a-b670-a6b8f3d95bc5",
      "metadata": {
        "id": "7dd649c1-4c1e-475a-b670-a6b8f3d95bc5"
      },
      "source": [
        "Observe que o Python retorna o tipo 'ndarray'. É assim que o Python reconhece internamente as estruturas de array\n",
        "criadas em NumPy."
      ]
    },
    {
      "cell_type": "code",
      "execution_count": null,
      "id": "fc319484-ea7b-4aa8-acb5-b2f5efbc1df5",
      "metadata": {
        "id": "fc319484-ea7b-4aa8-acb5-b2f5efbc1df5"
      },
      "outputs": [],
      "source": [
        "Arrays também possuem dimensões, assim como vetores e matrizes. Podemos ter arrays com dimensões 0,1,2,3 e assim \n",
        "por diante. Uma forma de se obter a dimensão de um 'array' é:"
      ]
    },
    {
      "cell_type": "code",
      "execution_count": null,
      "id": "a40dc097-3e0d-4329-a683-4f92c424f47a",
      "metadata": {
        "id": "a40dc097-3e0d-4329-a683-4f92c424f47a",
        "outputId": "de5ff942-e6b7-4337-c05f-6e35b449bb30"
      },
      "outputs": [
        {
          "data": {
            "text/plain": [
              "1"
            ]
          },
          "execution_count": 271,
          "metadata": {},
          "output_type": "execute_result"
        }
      ],
      "source": [
        "# o método ndim é aplicado num array para saber sua dimensão n.\n",
        "# no caso vetores são linhas ou colunas, sendo vistas como variedades de dimensão 1, pelos arrays.\n",
        "vetA.ndim"
      ]
    },
    {
      "cell_type": "code",
      "execution_count": null,
      "id": "e37f130c-5e71-4de0-a27b-5aa779e54ff3",
      "metadata": {
        "id": "e37f130c-5e71-4de0-a27b-5aa779e54ff3",
        "outputId": "da0714ea-96e8-4b2b-dcd3-dfe024469cde"
      },
      "outputs": [
        {
          "name": "stdout",
          "output_type": "stream",
          "text": [
            "0\n"
          ]
        }
      ],
      "source": [
        "# criando um ponto numa reta, ou seja, um escalar (real qualquer).\n",
        "escalarX = np.array(0)\n",
        "print(escalarX)"
      ]
    },
    {
      "cell_type": "code",
      "execution_count": null,
      "id": "8753c09a-dd19-44c5-a385-7a858fd4b2b0",
      "metadata": {
        "id": "8753c09a-dd19-44c5-a385-7a858fd4b2b0",
        "outputId": "2ad048e4-7e1c-46be-d9d5-5ec8703fc062"
      },
      "outputs": [
        {
          "data": {
            "text/plain": [
              "0"
            ]
          },
          "execution_count": 273,
          "metadata": {},
          "output_type": "execute_result"
        }
      ],
      "source": [
        "# um ponto tem dimensão zero, logo ndim aplicado ao array é: \n",
        "escalarX.ndim"
      ]
    },
    {
      "cell_type": "code",
      "execution_count": null,
      "id": "025aa1d4-517e-4895-8739-c1853f3a5e76",
      "metadata": {
        "id": "025aa1d4-517e-4895-8739-c1853f3a5e76"
      },
      "outputs": [],
      "source": [
        "E o que conterá os arrays de dimensões dois? Hora de descobrir essas estruturas no código abaixo:"
      ]
    },
    {
      "cell_type": "code",
      "execution_count": null,
      "id": "7923a108-664c-48df-8b17-54bd75db623d",
      "metadata": {
        "id": "7923a108-664c-48df-8b17-54bd75db623d",
        "outputId": "8789f703-be93-4517-fa5c-f5c228cb8ac6"
      },
      "outputs": [
        {
          "name": "stdout",
          "output_type": "stream",
          "text": [
            "[[ 1 -2 -1  0]\n",
            " [ 2  1 -1  5]\n",
            " [ 1  1  0 -1]]\n"
          ]
        },
        {
          "data": {
            "text/plain": [
              "2"
            ]
          },
          "execution_count": 27,
          "metadata": {},
          "output_type": "execute_result"
        }
      ],
      "source": [
        "# criando matrizes, organizadas em arrays\n",
        "matrizMA = np.array([[1,-2,-1,0], [2,1,-1,5], [1,1,0,-1]])\n",
        "print(matrizMA)\n",
        "# matrizes são tabelas, variedades planares, logo sua dimensão de objeto (planar) é um array de ordem dois.\n",
        "matrizMA.ndim\n",
        "###\n"
      ]
    },
    {
      "cell_type": "markdown",
      "id": "476d355d-6992-4aca-960e-30ef892b58ae",
      "metadata": {
        "id": "476d355d-6992-4aca-960e-30ef892b58ae"
      },
      "source": [
        "Não confunda a dimensão do array, com a dimensão do objeto que ele criou. No código acima temos uma matriz de \n",
        "ordem 3 x 4, criada como um array de dimensão 2 (variedade matricial)."
      ]
    },
    {
      "cell_type": "code",
      "execution_count": null,
      "id": "56294599-bb10-46d9-a07c-6ceba814aa44",
      "metadata": {
        "id": "56294599-bb10-46d9-a07c-6ceba814aa44"
      },
      "outputs": [],
      "source": [
        "Adiante começaremos a fazer operações com arrays, mas por hora ainda precisamos saber como 'acessar' objetos num \n",
        "array...por exemplo criamos o vetA e queremos acessar o segundo elemento naquele vetor, como faremos?"
      ]
    },
    {
      "cell_type": "code",
      "execution_count": null,
      "id": "ec8b6f80-83db-420a-979c-087d51893df6",
      "metadata": {
        "id": "ec8b6f80-83db-420a-979c-087d51893df6",
        "outputId": "ab3eb1fe-3293-40af-feb5-2f2db35020b8"
      },
      "outputs": [
        {
          "data": {
            "text/plain": [
              "-2"
            ]
          },
          "execution_count": 28,
          "metadata": {},
          "output_type": "execute_result"
        }
      ],
      "source": [
        "#lembrando que o python começa a indexar objetos a partir de n = 0, logo o segundo elemento é o n = 1\n",
        "vetA[1]"
      ]
    },
    {
      "cell_type": "code",
      "execution_count": null,
      "id": "d22176da-93d4-4299-a5b7-2fc77f7c53b1",
      "metadata": {
        "id": "d22176da-93d4-4299-a5b7-2fc77f7c53b1"
      },
      "outputs": [],
      "source": [
        "E como acessar em matrizMA o elemento na terceira linha e terceira coluna?"
      ]
    },
    {
      "cell_type": "code",
      "execution_count": null,
      "id": "390bea09-62b5-4f41-93d7-0abf002487c5",
      "metadata": {
        "id": "390bea09-62b5-4f41-93d7-0abf002487c5",
        "outputId": "f48b6638-9c16-40b3-e761-7678899edec5"
      },
      "outputs": [
        {
          "data": {
            "text/plain": [
              "0"
            ]
          },
          "execution_count": 281,
          "metadata": {},
          "output_type": "execute_result"
        }
      ],
      "source": [
        "#  i,j será  3 - 1, 3 - 1 = 2,2  --> não esquecer que o python indexa a partir do 0 e não do 1!\n",
        "matrizMA[2,2]"
      ]
    },
    {
      "cell_type": "markdown",
      "id": "9765589b-cf6e-44e8-a8f2-1e35495cce17",
      "metadata": {
        "id": "9765589b-cf6e-44e8-a8f2-1e35495cce17"
      },
      "source": [
        "Como vimos os arrays podem ser usados para definir objetos matemáticos como vetores e matrizes, ou objetos mais\n",
        "gerais chamados de 'tensores' (por exemplo, objetos que tenham linhas, colunas e profundidades - uma 'matriz' \n",
        "espacial, por assim dizer)"
      ]
    },
    {
      "cell_type": "code",
      "execution_count": null,
      "id": "ad6215d5",
      "metadata": {
        "id": "ad6215d5",
        "outputId": "5f8a03e8-962c-4c22-a39f-22c17c3cb9dd"
      },
      "outputs": [
        {
          "name": "stdout",
          "output_type": "stream",
          "text": [
            "[ 1 -1  0  1]\n"
          ]
        },
        {
          "data": {
            "text/plain": [
              "numpy.ndarray"
            ]
          },
          "execution_count": 267,
          "metadata": {},
          "output_type": "execute_result"
        }
      ],
      "source": [
        "# criando um vetor de 4 dimensões, numa estrutura de array da np (apelido da numpy) \n",
        "vetA = np.array([1,-1,0,1])\n",
        "print(vetA)"
      ]
    },
    {
      "cell_type": "markdown",
      "id": "010db0be-ea6a-4340-8a01-4ae7586ded7b",
      "metadata": {
        "id": "010db0be-ea6a-4340-8a01-4ae7586ded7b"
      },
      "source": [
        "Passamos agora a responder a pergunta em (b): existe alguma forma de resolver o sistema de equações lineares dado, com o apoio da biblioteca NumPy? Vamos inicialmente reescrever o nosso sistema representando o sistema na forma matricial: $ A.X = B $, onde $A$ é matriz de coeficientes, $X$ é o vetor de incógnitas e $B$ é o vetor dos\n",
        "termos independentes de $X$.\n",
        "    "
      ]
    },
    {
      "cell_type": "markdown",
      "id": "4546864b-6952-478d-bcda-8f0fea9ce6eb",
      "metadata": {
        "id": "4546864b-6952-478d-bcda-8f0fea9ce6eb"
      },
      "source": [
        "Antes de passarmos os nossos dados do problema acima para o formato matricial usando arrays, comentaremos\n",
        "algo mais sobre NumPy. Essa biblioteca é baseada nos métodos e rotinas de álgebra linear (LA) das famosas\n",
        "bibliotecas numéricas conhecidas pelos nomes em inglês de LAPACK e BLAS. \n",
        "\n",
        "Portanto, NumPy possuem funções específicas para se resolver problemas ligados à álgebra, tais como sistemas lineares, determinantes,\n",
        "auto-vetores, auto-valores, etc. Provavelmente num curso de cálculo numérico seu professor vai explorar\n",
        "algumas técnicas, como, por exemplo, o método da eliminação de Gauss-Jordan, dentre outros.\n",
        "\n",
        "A referência para a biblioteca NumPy, pode ser encontrada aqui: https://bit.ly/3qx1kwv e especificamente a \n",
        "discussão da biblioteca com funções de álgebra linear está em: https://bit.ly/3mJUKlh. Para relembrar ou\n",
        "simplesmente rever o básico da teoria de sistemas lineares acesse: https://bit.ly/3ePqKQR."
      ]
    },
    {
      "cell_type": "markdown",
      "id": "6c9193e3-1255-420f-bd49-ea20c8f07e59",
      "metadata": {
        "id": "6c9193e3-1255-420f-bd49-ea20c8f07e59"
      },
      "source": [
        "### Usando NumPy para resolver sistemas lineares ###"
      ]
    },
    {
      "cell_type": "markdown",
      "id": "27764787-c39c-4714-9f2b-fea65ef46941",
      "metadata": {
        "id": "27764787-c39c-4714-9f2b-fea65ef46941"
      },
      "source": [
        "No nosso sistema de exemplo, temos três incógnitas e três equações. Vamos organizar nossos dados em arrays, ou\n",
        "seja vamos formatar $ X = A^{-1} * B $. Para ter certeza da solubilidade de A (pois A deve possuir inversa), vamos checar seu determinante e em seguida (sendo A inversível) obter a solução do sistema."
      ]
    },
    {
      "cell_type": "code",
      "execution_count": null,
      "id": "a503f922-4ea5-42b8-87d2-8b07602b9f10",
      "metadata": {
        "id": "a503f922-4ea5-42b8-87d2-8b07602b9f10"
      },
      "outputs": [],
      "source": [
        "# resolvendo o sistema do exemplo dado\n",
        "import numpy as np\n",
        "mtA = np.array([[3,2,1],[-2,3,3],[-1,2,-4]])\n",
        "mtB = np.array([11, -19, -15])"
      ]
    },
    {
      "cell_type": "code",
      "execution_count": null,
      "id": "84badf3f-bc61-41b4-aff6-d9ca513ecef2",
      "metadata": {
        "id": "84badf3f-bc61-41b4-aff6-d9ca513ecef2",
        "outputId": "3e8c9e50-0179-4699-8e0e-c279c8d323bb"
      },
      "outputs": [
        {
          "name": "stdout",
          "output_type": "stream",
          "text": [
            "[[ 3  2  1]\n",
            " [-2  3  3]\n",
            " [-1 -3 -4]]\n"
          ]
        }
      ],
      "source": [
        "# Checando a matriz de coeficientes\n",
        "print(mtA)\n"
      ]
    },
    {
      "cell_type": "code",
      "execution_count": null,
      "id": "d7a2d4dc-831a-4510-8711-e9b7a8776c63",
      "metadata": {
        "id": "d7a2d4dc-831a-4510-8711-e9b7a8776c63",
        "outputId": "4ead70d3-45d0-43f0-8246-8e895ac45567"
      },
      "outputs": [
        {
          "name": "stdout",
          "output_type": "stream",
          "text": [
            "[ 11 -19 -15]\n"
          ]
        }
      ],
      "source": [
        "# Checando o vetor coluna com os termos independentes das variáveis x\n",
        "print(mtB)"
      ]
    },
    {
      "cell_type": "code",
      "execution_count": null,
      "id": "c595693b-facf-4902-a106-665a83053375",
      "metadata": {
        "id": "c595693b-facf-4902-a106-665a83053375",
        "outputId": "8b31ccea-139f-4399-c1f0-a9780ba87507"
      },
      "outputs": [
        {
          "name": "stdout",
          "output_type": "stream",
          "text": [
            "-77.00000000000001\n"
          ]
        }
      ],
      "source": [
        "# chamando os métodos em linalg, para verificar o determinate de mtA\n",
        "print(np.linalg.det(mtA))"
      ]
    },
    {
      "cell_type": "code",
      "execution_count": null,
      "id": "0225f0aa-410b-45d1-a878-bdaab7692991",
      "metadata": {
        "id": "0225f0aa-410b-45d1-a878-bdaab7692991",
        "outputId": "0ab3cc95-83e2-4325-ca7c-a8ca1967993c"
      },
      "outputs": [
        {
          "name": "stdout",
          "output_type": "stream",
          "text": [
            "[ 5.62 -3.29  0.7 ]\n"
          ]
        }
      ],
      "source": [
        "# logo, vamos obter a solução do sistema com\n",
        "print(np.round(np.linalg.solve(mtA,mtB),2))"
      ]
    },
    {
      "cell_type": "markdown",
      "id": "efc35e3d-ef69-471d-92e2-e79e9d6d003c",
      "metadata": {
        "id": "efc35e3d-ef69-471d-92e2-e79e9d6d003c"
      },
      "source": [
        "Observe que na solução acima chamamos o método de cálculo do determinante dado por 'np.linalg.det()' aplicado \n",
        "na matriz mtA. Em seguida usamos outro método numérico para resolver o sistema dado por np.linalg.solve() que\n",
        "tomou como argumentos as matrizes mtA e mtB. \n",
        "\n",
        "Uma novidade é o método de arrendodamento que não foi o 'round' puro do Python, mas o 'np.round' próprio para\n",
        "os arrays de NumPy, porque os objetos de NumPy são do tipo 'ndrarray' como já vimos, não suportados pelo \n",
        "método 'round' nativo do Python."
      ]
    },
    {
      "cell_type": "markdown",
      "id": "ecaac8de-a906-4842-a4f1-28a7e95bf220",
      "metadata": {
        "id": "ecaac8de-a906-4842-a4f1-28a7e95bf220"
      },
      "source": [
        "### Descobrindo mais sobre a NumPy ###\n",
        "E por falar em matrizes inversas, determinantes e objetos matemáticos associados que tal avançar um pouco mais\n",
        "na biblioteca de álgebra linear do NumPy. Vejamos os códigos a seguir..."
      ]
    },
    {
      "cell_type": "code",
      "execution_count": null,
      "id": "5f15abad-19dc-43f9-a2d9-9c13a37c9d65",
      "metadata": {
        "id": "5f15abad-19dc-43f9-a2d9-9c13a37c9d65",
        "outputId": "e2b31772-30e7-4b8b-b003-56398a6d2b33"
      },
      "outputs": [
        {
          "name": "stdout",
          "output_type": "stream",
          "text": [
            "[[1. 0. 0. 0. 0.]\n",
            " [0. 1. 0. 0. 0.]\n",
            " [0. 0. 1. 0. 0.]\n",
            " [0. 0. 0. 1. 0.]\n",
            " [0. 0. 0. 0. 1.]]\n"
          ]
        }
      ],
      "source": [
        "# Como criar matrizes identidades? veja o código abaixo...\n",
        "MI =np.identity(5)   # matriz identidade de ordem 3\n",
        "print(MI)"
      ]
    },
    {
      "cell_type": "code",
      "execution_count": null,
      "id": "b7b424c4-474a-401a-96e0-5bc444bb251c",
      "metadata": {
        "id": "b7b424c4-474a-401a-96e0-5bc444bb251c",
        "outputId": "3e8ab042-0b5e-444d-ddf9-e8a1b918c5eb"
      },
      "outputs": [
        {
          "name": "stdout",
          "output_type": "stream",
          "text": [
            "[[ 0.23376623 -0.12987013 -0.03896104]\n",
            " [ 0.14285714  0.14285714  0.14285714]\n",
            " [ 0.01298701  0.1038961  -0.16883117]]\n"
          ]
        }
      ],
      "source": [
        "# se mtA possui uma inversa qual é essa matriz?\n",
        "inv_mtA = np.linalg.inv(mtA)\n",
        "print(inv_mtA)"
      ]
    },
    {
      "cell_type": "code",
      "execution_count": null,
      "id": "1ddd9d0b-edc0-4fde-8634-88365c01646d",
      "metadata": {
        "id": "1ddd9d0b-edc0-4fde-8634-88365c01646d",
        "outputId": "684a5b25-76b1-4ff9-83dc-32d4d4161eb6"
      },
      "outputs": [
        {
          "data": {
            "text/plain": [
              "array([[ 0.14, -0.23, -0.14],\n",
              "       [ 0.5 ,  0.5 ,  0.5 ],\n",
              "       [-0.41, -0.32, -0.59]])"
            ]
          },
          "execution_count": 19,
          "metadata": {},
          "output_type": "execute_result"
        }
      ],
      "source": [
        "# arrendondando, temos ...\n",
        "np.round(inv_mtA,2)"
      ]
    },
    {
      "cell_type": "code",
      "execution_count": null,
      "id": "156ca6be-212b-456b-9ddf-912d3322bc2d",
      "metadata": {
        "id": "156ca6be-212b-456b-9ddf-912d3322bc2d",
        "outputId": "75e525a7-e127-4d2d-a848-aabf38e8c8c6"
      },
      "outputs": [
        {
          "name": "stdout",
          "output_type": "stream",
          "text": [
            "(3, 3)\n"
          ]
        }
      ],
      "source": [
        "# quero conferir as dimensões da matriz mtA, como faço\n",
        "print(mtA.shape)"
      ]
    },
    {
      "cell_type": "code",
      "execution_count": null,
      "id": "129e510e-7191-4619-9844-b5c8a552c941",
      "metadata": {
        "id": "129e510e-7191-4619-9844-b5c8a552c941",
        "outputId": "c60c6cba-a74d-4b44-b4ca-fd71dcb6af33"
      },
      "outputs": [
        {
          "name": "stdout",
          "output_type": "stream",
          "text": [
            "(3,)\n"
          ]
        }
      ],
      "source": [
        "# e para mtB?\n",
        "print(mtB.shape)"
      ]
    },
    {
      "cell_type": "code",
      "execution_count": null,
      "id": "c2d91edf-5238-4890-917d-c0b7e65ff0d7",
      "metadata": {
        "id": "c2d91edf-5238-4890-917d-c0b7e65ff0d7",
        "outputId": "bd93b2d0-1ed8-48e3-92e4-9be3d2bb36c8"
      },
      "outputs": [
        {
          "name": "stdout",
          "output_type": "stream",
          "text": [
            "[[2 4]\n",
            " [1 1]]\n",
            "[1 0]\n",
            "(2, 2)\n",
            "(2,)\n"
          ]
        }
      ],
      "source": [
        "# Como fazer o produto de duas matrizes?\n",
        "\n",
        "mt1 = np.array([[2,4],[1,1]])\n",
        "mt2 = np.array([1,0])\n",
        "# visualizando as matrizes definidas\n",
        "print(mt1)\n",
        "print(mt2)\n",
        "# números de linhas e colunas\n",
        "print(mt1.shape)\n",
        "print(mt2.shape)\n",
        "# fazendo o produto de ambas ...\n"
      ]
    },
    {
      "cell_type": "code",
      "execution_count": null,
      "id": "59c4922e-762b-4b75-bc61-03d4ad187635",
      "metadata": {
        "id": "59c4922e-762b-4b75-bc61-03d4ad187635",
        "outputId": "a2adccd4-23e4-430c-87a6-4211798fba94"
      },
      "outputs": [
        {
          "name": "stdout",
          "output_type": "stream",
          "text": [
            "[2 1]\n"
          ]
        }
      ],
      "source": [
        "# o produto com o método matmul do numpy...\n",
        "res=np.matmul(mt1,mt2)\n",
        "print(res)"
      ]
    },
    {
      "cell_type": "markdown",
      "id": "13dacfa6-311f-4633-84f9-c87806dca9d2",
      "metadata": {
        "id": "13dacfa6-311f-4633-84f9-c87806dca9d2"
      },
      "source": [
        "Tanto em álgebra linear como em geometria analítica calcular o produto interno entre vetores é uma aplicação\n",
        "bastante frequente. Vejamos como podemos resolver isso com 'numpy'..."
      ]
    },
    {
      "cell_type": "code",
      "execution_count": null,
      "id": "4e5c5b96-8073-4747-977a-7dbf64be2c18",
      "metadata": {
        "id": "4e5c5b96-8073-4747-977a-7dbf64be2c18",
        "outputId": "b46e36af-d433-425e-d9e4-77e31242b5ce"
      },
      "outputs": [
        {
          "name": "stdout",
          "output_type": "stream",
          "text": [
            "0\n"
          ]
        }
      ],
      "source": [
        "# produto interno entre vetores uv1 e uv2 ...\n",
        "uv1 = [1,1,-1]\n",
        "uv2 = [1,0,1]\n",
        "prodUV = np.dot(uv1,uv2)\n",
        "print(prodUV)"
      ]
    },
    {
      "cell_type": "code",
      "execution_count": null,
      "id": "3deeb985-1433-4879-88d2-6e7eb51464b9",
      "metadata": {
        "id": "3deeb985-1433-4879-88d2-6e7eb51464b9",
        "outputId": "c4e32f71-b90a-4af9-b09e-1f228bcfc061"
      },
      "outputs": [
        {
          "name": "stdout",
          "output_type": "stream",
          "text": [
            "[-1.57079633 -1.07079633 -0.57079633 -0.07079633  0.42920367  0.92920367\n",
            "  1.42920367]\n"
          ]
        }
      ],
      "source": [
        "dx = np.pi\n",
        "xvar = np.arange(-dx/2, dx/2, 0.5)\n",
        "print(xvar)"
      ]
    },
    {
      "cell_type": "markdown",
      "id": "ad60dae3-ae09-477b-a2b1-1fbc338c9394",
      "metadata": {
        "id": "ad60dae3-ae09-477b-a2b1-1fbc338c9394"
      },
      "source": [
        "Da mesma forma, também podemos utilizar uma função do numpy para calcular o produto vetorial entre dois vetores\n",
        "dados, vejamos como:"
      ]
    },
    {
      "cell_type": "code",
      "execution_count": null,
      "id": "5f5dfdfc-102e-4baf-966d-715ab3964ffe",
      "metadata": {
        "id": "5f5dfdfc-102e-4baf-966d-715ab3964ffe",
        "outputId": "290e4f1f-8d47-4c94-995c-df7809b076d3"
      },
      "outputs": [
        {
          "name": "stdout",
          "output_type": "stream",
          "text": [
            "[ 1 -2 -1]\n"
          ]
        }
      ],
      "source": [
        "xUVvetor = np.cross(uv1,uv2)\n",
        "print(xUVvetor)"
      ]
    },
    {
      "cell_type": "markdown",
      "id": "18587d0b-fcb7-41c1-ba82-a47a61340a4a",
      "metadata": {
        "id": "18587d0b-fcb7-41c1-ba82-a47a61340a4a"
      },
      "source": [
        "A biblioteca de álgebra linear é vasta de métodos para calcular propriedades de matrizes e vetores, a referência\n",
        "da biblioteca pode ser encontrada em: https://numpy.org/doc/stable/reference/routines.linalg.html, outra referência complementar para o assunto estudado é a https://numpy.org/doc/stable/reference/routines.matlib.html\n",
        "que discute matrizes dentro da biblioteca numpy, especificamente."
      ]
    }
  ],
  "metadata": {
    "kernelspec": {
      "display_name": "Python 3 (ipykernel)",
      "language": "python",
      "name": "python3"
    },
    "language_info": {
      "codemirror_mode": {
        "name": "ipython",
        "version": 3
      },
      "file_extension": ".py",
      "mimetype": "text/x-python",
      "name": "python",
      "nbconvert_exporter": "python",
      "pygments_lexer": "ipython3",
      "version": "3.8.12"
    },
    "colab": {
      "name": "LibsPy01.ipynb",
      "provenance": [],
      "include_colab_link": true
    }
  },
  "nbformat": 4,
  "nbformat_minor": 5
}