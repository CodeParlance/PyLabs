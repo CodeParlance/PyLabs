{
  "nbformat": 4,
  "nbformat_minor": 0,
  "metadata": {
    "colab": {
      "name": "Intro02PY.ipynb",
      "provenance": [],
      "collapsed_sections": [],
      "include_colab_link": true
    },
    "kernelspec": {
      "name": "python3",
      "display_name": "Python 3"
    },
    "language_info": {
      "name": "python"
    }
  },
  "cells": [
    {
      "cell_type": "markdown",
      "metadata": {
        "id": "view-in-github",
        "colab_type": "text"
      },
      "source": [
        "<a href=\"https://colab.research.google.com/github/CodeParlance/PyLabs/blob/main/Intro02PY.ipynb\" target=\"_parent\"><img src=\"https://colab.research.google.com/assets/colab-badge.svg\" alt=\"Open In Colab\"/></a>"
      ]
    },
    {
      "cell_type": "markdown",
      "metadata": {
        "id": "1v1VZ5rGJ8Bj"
      },
      "source": [
        "## Operadores e operações elementares em Python\n",
        "\n",
        "### Operadores Aritméticos: \n",
        "\n",
        "Os operadores ariméticos básicos de soma, subtração, multiplicação e divisão estão disponíveis em python através dos símbolos, respectivamente '+', '-', '*' e '/'. Além desses ainda temos algumas outras operações complementares que são a divisão inteira '//', o resto da divisão '%' e a potenciação pelo duplo asterisco. Vejamos alguns exemplos abaixo:"
      ]
    },
    {
      "cell_type": "code",
      "metadata": {
        "id": "cHD-jLUiH6US"
      },
      "source": [
        "expr1 = 3 + 2\n",
        "expr2 = 4 * 3\n",
        "expr3 = 6 - 4\n",
        "expr4 = 10/2"
      ],
      "execution_count": null,
      "outputs": []
    },
    {
      "cell_type": "code",
      "metadata": {
        "id": "X71cmC1iMblz"
      },
      "source": [
        "print(expr1)\n",
        "print(expr2)\n",
        "print(expr3)\n",
        "print(expr4)"
      ],
      "execution_count": null,
      "outputs": []
    },
    {
      "cell_type": "markdown",
      "metadata": {
        "id": "ha46ddnCM0vd"
      },
      "source": [
        ""
      ]
    },
    {
      "cell_type": "markdown",
      "metadata": {
        "id": "5dQ7TQONM20J"
      },
      "source": [
        "Além das básicas acima, alguma operações complementares que serão úteis:"
      ]
    },
    {
      "cell_type": "code",
      "metadata": {
        "colab": {
          "base_uri": "https://localhost:8080/"
        },
        "id": "fzhlckx8M0cD",
        "outputId": "287b294c-dcbb-4ee0-b50b-a89711f0d8f3"
      },
      "source": [
        "## Calculando a divisão inteira entre dois números:\n",
        "a1 = 12\n",
        "a2 = 5\n",
        "dvd = a1//a2\n",
        "print (dvd)"
      ],
      "execution_count": null,
      "outputs": [
        {
          "output_type": "stream",
          "name": "stdout",
          "text": [
            "2\n"
          ]
        }
      ]
    },
    {
      "cell_type": "code",
      "metadata": {
        "colab": {
          "base_uri": "https://localhost:8080/"
        },
        "id": "BtdoF5AbNXHe",
        "outputId": "87b5c302-0998-4335-cbdf-c75aaf00f132"
      },
      "source": [
        "## Calculando o resto da divisão entre os números acima:\n",
        "restou01 = a1%a2\n",
        "print(restou01)"
      ],
      "execution_count": null,
      "outputs": [
        {
          "output_type": "stream",
          "name": "stdout",
          "text": [
            "2\n"
          ]
        }
      ]
    },
    {
      "cell_type": "code",
      "metadata": {
        "colab": {
          "base_uri": "https://localhost:8080/"
        },
        "id": "oufUHCMZNpHA",
        "outputId": "14a7ff15-00b8-483d-cdea-9fd91c3ae673"
      },
      "source": [
        "## Calculando uma potenciação entre base1 e expo1 dados\n",
        "base1 = 2\n",
        "expo1 = 3\n",
        "pot1 = base1 ** expo1\n",
        "print(pot1)"
      ],
      "execution_count": null,
      "outputs": [
        {
          "output_type": "stream",
          "name": "stdout",
          "text": [
            "8\n"
          ]
        }
      ]
    },
    {
      "cell_type": "markdown",
      "metadata": {
        "id": "jf5o9byZN9Dg"
      },
      "source": [
        "### Operadores relacionais - comparando variáveis\n",
        "\n",
        "Os operadores relacionais permitem que possamos fazer a comparação entre as variáveis. O resultado dessa comparação é sempre 'True' ou 'False', ou seja, o resultado é um valor lógico.\n",
        "\n",
        "Os operadores clássicos relacionais de maior '>' e '<' estão disponíveis em Python, além dos operadoes de maior ou igual '>=', menor ou igual '<=, igual '==' ou diferente '!='.\n",
        "\n",
        "O código abaixo ilustra o uso desses operadores:"
      ]
    },
    {
      "cell_type": "code",
      "metadata": {
        "id": "IW_wZMrjPAZ7"
      },
      "source": [
        "### Atribuindo valores\n",
        "x1 = 15\n",
        "x2 = 9\n",
        "x3 = 9\n",
        "x4 = -1\n"
      ],
      "execution_count": null,
      "outputs": []
    },
    {
      "cell_type": "code",
      "metadata": {
        "colab": {
          "base_uri": "https://localhost:8080/"
        },
        "id": "u9_L3M_CPUk6",
        "outputId": "d051d7c6-a476-4f6f-d38b-c66d7f0ede46"
      },
      "source": [
        "### Comparação 1\n",
        "\n",
        "x1 > x3"
      ],
      "execution_count": null,
      "outputs": [
        {
          "output_type": "execute_result",
          "data": {
            "text/plain": [
              "True"
            ]
          },
          "metadata": {},
          "execution_count": 9
        }
      ]
    },
    {
      "cell_type": "code",
      "metadata": {
        "colab": {
          "base_uri": "https://localhost:8080/"
        },
        "id": "r1MjA-t4PZd1",
        "outputId": "5b79ec9b-4f5b-4732-f543-55778f44a873"
      },
      "source": [
        "### Comparação 2\n",
        "\n",
        "x2 < x4"
      ],
      "execution_count": null,
      "outputs": [
        {
          "output_type": "execute_result",
          "data": {
            "text/plain": [
              "False"
            ]
          },
          "metadata": {},
          "execution_count": 10
        }
      ]
    },
    {
      "cell_type": "code",
      "metadata": {
        "colab": {
          "base_uri": "https://localhost:8080/"
        },
        "id": "7vub8NBtPkSP",
        "outputId": "ade9594b-a4e9-406b-cb9a-9ede78c1150a"
      },
      "source": [
        "### Comparação 3\n",
        "\n",
        "x2 == x3"
      ],
      "execution_count": null,
      "outputs": [
        {
          "output_type": "execute_result",
          "data": {
            "text/plain": [
              "True"
            ]
          },
          "metadata": {},
          "execution_count": 11
        }
      ]
    },
    {
      "cell_type": "code",
      "metadata": {
        "colab": {
          "base_uri": "https://localhost:8080/"
        },
        "id": "zTDGRYNzPrVy",
        "outputId": "fb8f6f4c-387c-44a8-9c27-9077d9ab9eed"
      },
      "source": [
        "x3 != x1"
      ],
      "execution_count": null,
      "outputs": [
        {
          "output_type": "execute_result",
          "data": {
            "text/plain": [
              "True"
            ]
          },
          "metadata": {},
          "execution_count": 12
        }
      ]
    },
    {
      "cell_type": "markdown",
      "metadata": {
        "id": "b6Ksa25vPybr"
      },
      "source": [
        "### Operadores Lógicos ou Booleanos\n",
        "\n",
        "Operações lógicas são usadas para conduzir testes ou verificar se uma condição é verdadeira ou falsa. Os operadores lógicos E, OU, NÃO - representandos pelos termos em inglês 'and', 'or', e 'not' respectivamente são usados e aplicados em sentenças ou expressões lógicas e aritméticas quando for necessários representar um certa condição lógica e avaliá-la em 'True' ou 'False'. Veja o exemplo abaixo:"
      ]
    },
    {
      "cell_type": "code",
      "metadata": {
        "id": "0fgMTvHAQt-G"
      },
      "source": [
        "ax1 = True\n",
        "ax2 = False\n",
        "ax3 = True"
      ],
      "execution_count": null,
      "outputs": []
    },
    {
      "cell_type": "code",
      "metadata": {
        "colab": {
          "base_uri": "https://localhost:8080/"
        },
        "id": "1lDw1Z_lQ4YQ",
        "outputId": "7bd629f5-dff4-478d-8b1a-f111c514e04a"
      },
      "source": [
        "### Avaliando expressões lógicas\n",
        "\n",
        "L1 = ax1 and ax2\n",
        "L1"
      ],
      "execution_count": null,
      "outputs": [
        {
          "output_type": "execute_result",
          "data": {
            "text/plain": [
              "False"
            ]
          },
          "metadata": {},
          "execution_count": 20
        }
      ]
    },
    {
      "cell_type": "code",
      "metadata": {
        "colab": {
          "base_uri": "https://localhost:8080/"
        },
        "id": "y4TjJaCxRCck",
        "outputId": "ab847556-9ef3-4464-b48d-dfda89f15c38"
      },
      "source": [
        "### Avaliando expressões lógicas\n",
        "L2 = ax1 or ax3\n",
        "L2\n",
        "not L2"
      ],
      "execution_count": null,
      "outputs": [
        {
          "output_type": "execute_result",
          "data": {
            "text/plain": [
              "False"
            ]
          },
          "metadata": {},
          "execution_count": 21
        }
      ]
    },
    {
      "cell_type": "code",
      "metadata": {
        "colab": {
          "base_uri": "https://localhost:8080/"
        },
        "id": "WpY1azs9j2c6",
        "outputId": "741db51a-b942-4f61-f6d5-1333362ed556"
      },
      "source": [
        "var1 = 12\n",
        "var2 = 5\n",
        "partINT = 12//5\n",
        "print(partINT)\n",
        "resto = 12%5\n",
        "print(resto)"
      ],
      "execution_count": null,
      "outputs": [
        {
          "output_type": "stream",
          "name": "stdout",
          "text": [
            "2\n",
            "2\n"
          ]
        }
      ]
    },
    {
      "cell_type": "code",
      "metadata": {
        "colab": {
          "base_uri": "https://localhost:8080/"
        },
        "id": "vG36xB92joLy",
        "outputId": "acb5362a-31e1-41b8-e4cc-6b67fd3e6713"
      },
      "source": [
        "base1 = 2\n",
        "expo1 = 3\n",
        "res01 = base1 ** expo1\n",
        "print(res01)"
      ],
      "execution_count": null,
      "outputs": [
        {
          "output_type": "stream",
          "name": "stdout",
          "text": [
            "8\n"
          ]
        }
      ]
    },
    {
      "cell_type": "markdown",
      "source": [
        "Agora que você iniciou com o básico, sugiro que acesse [essa referência](https://docs.python.org/pt-br/3/tutorial/introduction.html#numbers), além dessa [outra](https://docs.python.org/pt-br/3/library/stdtypes.html#boolean-operations-and-or-not) para ganhar um pouco mais de conhecimento sobre essas operações da [biblioteca padrão](https://docs.python.org/pt-br/3/library/index.html#library-index) de python. Tenha um bom estudo e comece a praticar. "
      ],
      "metadata": {
        "id": "7cJRTqlEXWMz"
      }
    }
  ]
}