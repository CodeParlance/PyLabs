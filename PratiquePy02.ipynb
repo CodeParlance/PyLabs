{
  "nbformat": 4,
  "nbformat_minor": 0,
  "metadata": {
    "colab": {
      "name": "PratiquePy02",
      "provenance": [],
      "collapsed_sections": [],
      "include_colab_link": true
    },
    "kernelspec": {
      "name": "python3",
      "display_name": "Python 3"
    },
    "language_info": {
      "name": "python"
    }
  },
  "cells": [
    {
      "cell_type": "markdown",
      "metadata": {
        "id": "view-in-github",
        "colab_type": "text"
      },
      "source": [
        "<a href=\"https://colab.research.google.com/github/CodeParlance/PyLabs/blob/main/PratiquePy02.ipynb\" target=\"_parent\"><img src=\"https://colab.research.google.com/assets/colab-badge.svg\" alt=\"Open In Colab\"/></a>"
      ]
    },
    {
      "cell_type": "code",
      "execution_count": null,
      "metadata": {
        "id": "NfBkDwUO6nhY"
      },
      "outputs": [],
      "source": [
        ""
      ]
    },
    {
      "cell_type": "markdown",
      "source": [
        "# Praticando um pouco mais com Python\n",
        "\n",
        "<h2> Algoritmos com Python </h2>\n",
        "\n",
        "\n",
        "Uma das formas mais rápidas de se desenvolver programas de computador seja qual for a linguagem alvo (python, R, javascript, C/C++, java ou C#, etc) é sobretudo estruturar tanto o problema quanto a solução numa visão lógica com um fluxo de operações que manipulam os dados (do problema) de maneira sequencial, um passo de cada vez.\n",
        "\n",
        "Dizemos na maioria das vezes que a solução algorítmica de um problema envolve a concepção de que algoritmo = procedimentos + dados. Ou seja, todo problema se reduz a um conjunto de procedimentos que você quer solucionar sobre um conjunto de dados (entrada/saída). \n",
        "\n",
        "Se você considerar que qualquer função matemática faz exatamente isso - ou seja, ela atua sobre uma variável X = (x1, x2, ..., xN) através de um funcional f (ou seja uma transformação ou operação) que atua sobre a entrada X e a transforma numa saída Y, você vê nessa 'analogia' que um algoritmo, nada mais é do que um conjunto de transformações sobre uma entrada de dados que resulta numa saída. E é exatamente isso.\n",
        "\n",
        "Vejamos um exemplo, vamos raciocionar de forma algorítmica mas sem usar uma linguagem de programação (python) inicialmente.\n",
        "\n",
        "Considere o problema: <i> Leia um inteiro qualquer maior que 7 e informe qual é o resto da divisão desse número lido, por 2,3,5 e 7. Imprima esses restos. </i>\n",
        "\n",
        "Como pensar e resolver tal problema, de forma sequencial (passo a passo) explorando a lógica envolvida (manipulação de inteiros) e os dados envolvidos (um conjunto de números inteiros). Então já temos o universo de discurso sobre o qual o problema se assenta: operações aritméticas que envolvam inteiros.\n",
        "\n",
        "\n",
        "Então:\n",
        "\n",
        "<ol>\n",
        "<li> Iniciar nosso procedimento: CalcularRestos </li>\n",
        "<li> Ler um inteiro N qualquer, N > 7 </li>\n",
        "<li> Calcular sucessivamente o resto da divisão de N por x em {2,3,5,7} </li>\n",
        "<li> Imprimir os restos obtidos nas divisões obtidas de N por x </li>\n",
        "<li> Finalizar esse procedimento </li>\n",
        "</ol>\n",
        "\n",
        "Observe que fica bastante claro, quando você descreve passo a passo como o problema será resolvido. Você chama isso de um procedimento, ou seja um conjunto de operações realizadas sobre uma entrada, que resulta numa saída.\n",
        "\n",
        "<ul>\n",
        "<li> Qual é nossa entrada: Um número inteiro qualquer, maior que 7, que deve ser lido (informado). </li>\n",
        "\n",
        "<li> Qual é nosso objetivo: Encontrar os restos da divisão de N por {2,3,5,7}.</li>\n",
        "\n",
        "<li> Qual é o resultado: Imprimir os restos calculados. </li>\n",
        "</ul>\n",
        "\n",
        "\n",
        "Na prática, pensamos assim todos os dias até de forma automática, para resolver problemas corriqueiros. Nosso cérebro já age sem que percebamos os detalhes, simplesmente fazemos - outras vezes, quando os problemas são mais complexos - paramos para refletir e ter maior clareza sobre o que precisamos fazer, ou seja, quais são os procedimentos necessários para cumprir um objetivo. E em geral nos perguntamos: O que preciso saber? O que precisor fazer? Onde quero chegar? Ou seja, precisamos definir quais são as 'entradas', o 'processamento' e a 'saída' para o(s) nosso(s) problema(s). \n",
        "\n",
        "Essa é a forma de pensar algorítmica. É a forma que está na base de qualquer software ou programa de computador, mesmo aqueles sistemas que usam inteligência artificial ou aprendizado de máquina, na base deles estão reduzidos a um comportamento guiado por objetivos que necessita conhecer os dados, identificar ou preparar procedimentos e informar um resultado esperado.\n",
        "\n",
        "A codificação da solução (e consequentemente do problema) em uma linguagem de programação (como python, por exemplo) é uma necessidade técnica de automação dessa tarefa. Ou seja, queremos pensar sobre os problemas e resolvê-los, mas queremos fazer isso de forma \"automática\" e por isso precisamos de computadores e linguagens de programação para que essa tarefa seja feita como muito mais velocidade e de uma vez só (observe que ao resolver um problema, ou ao definir um procedimento para ele - você conseguiu automatizá-lo para sempre).\n",
        "\n",
        "Fazendo a releitura do procedimento acima e codificando a solução em Python teremos um exemplo de como podemos automatizar nossa tarefa de resolver aquele problema. Vejamos:"
      ],
      "metadata": {
        "id": "whzvRg386oZY"
      }
    },
    {
      "cell_type": "code",
      "source": [
        "# definir o procedimento e os dados de entrada\n",
        "def CalcularRestosN (numero):    # Criar um procedimento ou função que informa\n",
        "                                 # um número inteiro\n",
        "  num=int(numero)                # Guarda o inteiro em num\n",
        "  if num > 7:                    # Verifica se num é maior que 7\n",
        "   listaDiv=[2,3,5,7]            # Conjunto de divisores a testar\n",
        "   listaResto=[]                 # Onde vamos guardar nossos restos - listaResto\n",
        "   for divN in listaDiv:         # Vamos testar sucessivamente em listaDiv\n",
        "     resto=num%divN              # Calculamos o resto de N informado pelos divN\n",
        "     listaResto.append(resto)    # Guardamos o resto calculado numa listaResto\n",
        "  else:                          # Oops num não é maior que 7 ...\n",
        "    print(\"Informe um número maior que 7\") # Diga que algo está errado...\n",
        "  return(listaResto)             # Finalmente, informe o resultado calculado\n",
        "\n",
        "# executar o procedimento e imprimir o resultado sobre N = 19, por exemplo\n",
        "print(CalcularRestosN(19))\n",
        "\n"
      ],
      "metadata": {
        "colab": {
          "base_uri": "https://localhost:8080/"
        },
        "id": "dx5VgpTY9Zoj",
        "outputId": "c0e95909-b35d-41df-f508-03b0a6535c32"
      },
      "execution_count": null,
      "outputs": [
        {
          "output_type": "stream",
          "name": "stdout",
          "text": [
            "[1, 1, 4, 5]\n"
          ]
        }
      ]
    },
    {
      "cell_type": "markdown",
      "source": [
        "Observe que o procedimento acima é universal. Você criou uma automação dessa tarefa. Isso lhe permite que 'nunca mais' você tenha de repetir esses cálculos ou ter que resolver outro problema igual (mas é claro que você pode aperfeiçoa-lo a qualquer tempo, com outras versões de solução ou adaptações quando for necessário). É assim que funciona qualquer programa, qualquer software, qualquer sistema. Uma vez resolvido, ele só mudará para introduzir melhorias, com base na necessidade (aumento de abrangência da solução, revisão de falhas, novas características, etc)."
      ],
      "metadata": {
        "id": "3Is1wjDRHnGB"
      }
    },
    {
      "cell_type": "markdown",
      "source": [
        "Eu gostaria agora que em vez de testar num único N, o problema acima fosse executado para qualquer N natural no intervalo entre um dado A e um dado B, pode ser feito? O que vai mudar? Vamos verificar...\n",
        "\n",
        "\n",
        "Eu poderia, por exemplo - revisar o meu procedimento porque a minha entrada agora vai mudar e, um caminho, seria:\n",
        "\n",
        "\n",
        "<ol>\n",
        "<li> Iniciar novo procedimento: CalcularRestosAB </li>\n",
        "<li> Ler dois inteiros A e B qualquer, B > A, tal que  B - A = 2 </li>\n",
        "<li> Calcular sucessivamente o resto da divisão de cada N em [A,B] por x em {2,3,5,7} </li>\n",
        "<li> Imprimir os restos obtidos nas divisões acima </li>\n",
        "<li> Finalizar esse procedimento </li>\n",
        "</ol>\n",
        "\n",
        "\n",
        "outro caminho seria:\n",
        "\n",
        "<ol>\n",
        "<li> Iniciar novo procedimento: CalcularRestosAB </li>\n",
        "<li> Informar extremos do intervalo [A,B] </li>\n",
        "<li> Repetir o procedimento CalcularRestos para cada NumX em [A,B] </li>\n",
        "<li> Imprimir o resultado </li>\n",
        "<li> Finalizar esse procedimento </li>\n",
        "</ol>\n",
        "\n",
        "A diferença entre os dois procedimentos é que, no primeiro caso, você modificou o procedimento anterior introduzindo as novas características do problema (calcular os restos de um N que varia num intervalo). No segundo caso, você percebeu que pode usar o seu 'procedimento anterior', criando um novo procedimento, mais simples, que incorpora o 'trabalho' que você já fez ou resolveu. Engenheiros de software, chamam essa condição de 'reusabilidade de código' ou de procedmento. Ou seja, você não perde tempo criando algo novo, apenas se concentra na mudança, mas usa o que já tem, para resolver 'a mudança'.\n",
        "Vejamos como fica em Python, as duas soluções dadas...\n",
        "\n"
      ],
      "metadata": {
        "id": "9FfrAm3TIc-d"
      }
    },
    {
      "cell_type": "code",
      "source": [
        "# Novo Procedimento - Caminho 1\n",
        "def CalculaRestosAB (a,b):\n",
        "  difInterval = b - a\n",
        "  listaNum = []\n",
        "  listaRestos = []\n",
        "  listaDiv = [2,3,5,7]\n",
        "  if (difInterval >= 2) and (a > 7) :\n",
        "    # Criar a lista de números no intervalo dado\n",
        "    for num in range (a, b+1):\n",
        "      listaNum.append(num)\n",
        "    # Lista restos para números no intervalo de A até B\n",
        "    for LisNum in listaNum:\n",
        "      for numDIV in listaDiv:\n",
        "        resto = LisNum%numDIV\n",
        "        listaRestos.append(resto)\n",
        "    return(listaRestos)\n",
        "    # Retorna a Lista com os restos\n",
        "  else:\n",
        "    print(\"Intervalo inválido - Veja o que pede o problema!\")\n"
      ],
      "metadata": {
        "id": "DD_XdInZMGM8"
      },
      "execution_count": null,
      "outputs": []
    },
    {
      "cell_type": "code",
      "source": [
        "print(CalculaRestosAB(8,11))"
      ],
      "metadata": {
        "colab": {
          "base_uri": "https://localhost:8080/"
        },
        "id": "LbZrCcl0Owfd",
        "outputId": "f0a276be-fe76-41cf-99d0-634167444756"
      },
      "execution_count": null,
      "outputs": [
        {
          "output_type": "stream",
          "name": "stdout",
          "text": [
            "[0, 2, 3, 1, 1, 0, 4, 2, 0, 1, 0, 3, 1, 2, 1, 4]\n"
          ]
        }
      ]
    },
    {
      "cell_type": "code",
      "source": [
        "# Novo Procedimento - Caminho 2 (Chamamos de Versão 2 - v2)\n",
        "def CalculaRestosABv2 (a,b):             \n",
        "  difInterval = b - a\n",
        "  listaNum = []\n",
        "  listaRestos = []\n",
        "  listaDiv = [2,3,5,7]\n",
        "  if (difInterval >= 2) and (a > 7) :\n",
        "    for num in range (a, b+1):\n",
        "      listaNum.append(num)\n",
        "    for LisNum in listaNum:\n",
        "      resto = CalcularRestosN(LisNum)  # Chamando o procedimento antigo \n",
        "                                       # CalcularRestosN, sem mudá-lo\n",
        "      listaRestos.append(resto)\n",
        "    return(listaRestos)\n",
        " # Retorna a Lista com os restos\n",
        "  else:\n",
        "    print(\"Intervalo inválido - Veja o que pede o problema!\")\n",
        "  \n"
      ],
      "metadata": {
        "id": "CFf9gWdjQIfJ"
      },
      "execution_count": null,
      "outputs": []
    },
    {
      "cell_type": "code",
      "source": [
        "print(CalculaRestosAB(8,11))"
      ],
      "metadata": {
        "colab": {
          "base_uri": "https://localhost:8080/"
        },
        "id": "19H1sMCjRV9e",
        "outputId": "43eb1b7a-449a-4fb8-bd27-f03f8159cbde"
      },
      "execution_count": null,
      "outputs": [
        {
          "output_type": "stream",
          "name": "stdout",
          "text": [
            "[0, 2, 3, 1, 1, 0, 4, 2, 0, 1, 0, 3, 1, 2, 1, 4]\n"
          ]
        }
      ]
    },
    {
      "cell_type": "markdown",
      "source": [
        ""
      ],
      "metadata": {
        "id": "j-stGslWRViZ"
      }
    },
    {
      "cell_type": "markdown",
      "source": [
        "Nesse tutorial, vimos a importância de pensar de maneira sequencial sobre os procedimentos e dados de um problema, antes de implementá-lo usando uma linguagem de programação. Sobretudo aprendemos que podemos reusar parte de problemas já resolvidos, observando apenas as circunstâncias da mudança do problema, quer tenham sido mudanças no escopo dos dados ou no escopo dos procedimentos ou operações que devam ser realizadas. \n",
        "\n",
        "O 'pensamento algorítmico' define então uma forma de automatizar nossas \"rotinas\", ou seja, nossa forma de realizar tarefas que resolvem problemas e isso resulta numa 'codificação' do conhecimento sobre o processo de resolução de problemas. Dessa forma algoritmos definem automação de processos, ou procedimentos efetivos, principalmente os processos de resolução de problemas matemáticos e/ou físicos do mundo que nos cerca. Transferir nosso conhecimento para as máquinas ou ensiná-las a fazer o que fazemos (e não necessariamente como fazemos) é o primeiro passo para compreender a chamada inteligência artificial."
      ],
      "metadata": {
        "id": "5zv1UpZcR_A6"
      }
    },
    {
      "cell_type": "code",
      "source": [
        ""
      ],
      "metadata": {
        "id": "1-fDDz9ATZlj"
      },
      "execution_count": null,
      "outputs": []
    }
  ]
}