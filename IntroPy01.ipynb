{
  "nbformat": 4,
  "nbformat_minor": 0,
  "metadata": {
    "colab": {
      "name": "IntroPy01.ipynb",
      "provenance": [],
      "include_colab_link": true
    },
    "kernelspec": {
      "name": "python3",
      "display_name": "Python 3"
    },
    "language_info": {
      "name": "python"
    }
  },
  "cells": [
    {
      "cell_type": "markdown",
      "metadata": {
        "id": "view-in-github",
        "colab_type": "text"
      },
      "source": [
        "<a href=\"https://colab.research.google.com/github/CodeParlance/PyLabs/blob/main/IntroPy01.ipynb\" target=\"_parent\"><img src=\"https://colab.research.google.com/assets/colab-badge.svg\" alt=\"Open In Colab\"/></a>"
      ]
    },
    {
      "cell_type": "code",
      "source": [
        ""
      ],
      "metadata": {
        "id": "GainUUHGbfkL"
      },
      "execution_count": null,
      "outputs": []
    },
    {
      "cell_type": "markdown",
      "metadata": {
        "id": "a6yPTtES11nl"
      },
      "source": [
        "## Uma introdução à linguagem Python 3"
      ]
    },
    {
      "cell_type": "markdown",
      "metadata": {
        "id": "vVSxEt6n2CYw"
      },
      "source": [
        "### Variáveis em Python\n",
        "\n",
        "Variáveis são grandezas que representam valores em um determinado domínio ou conjunto. As variáveis em python são nomeadas de acordo com as seguintes regras:\n",
        "\n",
        "\n",
        "> \n",
        "\n",
        "*   Nome de variáveis **sempre** começam com **letra** ou símbolo de '*underscore*' (**_**);\n",
        "*   Prosseguem com **letra OU número**;\n",
        "*   Maiúsculuas e minúsculas são **distintas**;\n",
        "*   Variáveis só podem ter como símbolos: A-Z, a-z, 0-9, ou '_';\n",
        "\n",
        "O computador **interpreta as variáveis** como sendo espaços ou **regiões de sua memória** onde são armazenados valores durante a execução de um programa.\n",
        "\n",
        "\n",
        "Variáveis guardam valores de diferentes **tipos ou domínios**. Em python temos os seguintes tipos (ou classe) de valores:\n",
        "\n",
        ">\n",
        "\n",
        "\n",
        "*   **Numérico**: **inteiro (int)** ou **real (float)** ou **complexo (complex)**;\n",
        "*   **Lógico** (ou Booleano): verdadeiro (True) ou falso (False);\n",
        "*   **Texto**: caractere ou cadeia de caracteres (str);\n",
        "**negrito**\n",
        "\n",
        "\n"
      ]
    },
    {
      "cell_type": "code",
      "metadata": {
        "id": "CTgvIkPr1Lp4"
      },
      "source": [
        "## Exemplos de variáveis válidas em Python\n",
        "varX = -3\n",
        "Media_Geral = 3.5\n",
        "msg1 = \"Erro de divisão por zero!\"\n",
        "Part_Img = 2j"
      ],
      "execution_count": null,
      "outputs": []
    },
    {
      "cell_type": "markdown",
      "metadata": {
        "id": "8uvPBRvs1rjy"
      },
      "source": [
        "As variáveis acima foram declaradas conforme as regras de Python. Mas abaixo temos um bloco de código onde as variáveis são inválidas! Observe e comente sobre os erros."
      ]
    },
    {
      "cell_type": "code",
      "metadata": {
        "id": "5X__Dv318ZL2"
      },
      "source": [
        "## Exemplo de variável *inválida* em Python:\n",
        "1a_ext = 2"
      ],
      "execution_count": null,
      "outputs": []
    },
    {
      "cell_type": "markdown",
      "metadata": {
        "id": "GzdFWQ8s9hPW"
      },
      "source": [
        "Quando declaramos (nomeamos) uma variável estamos interessados em atribuir valores a ela. Em geral atribuições são feitas da 'direita para esquerda'. Ou seja, o valor recebido por uma variável é computado nessa ordem. Veja o exemplo abaixo:"
      ]
    },
    {
      "cell_type": "code",
      "metadata": {
        "id": "nAffnJ10-JAh",
        "colab": {
          "base_uri": "https://localhost:8080/"
        },
        "outputId": "691c5f88-d4de-4b95-de32-b7e7091072d5"
      },
      "source": [
        "Xvar = 2.5\n",
        "Xvar = Xvar + 1\n",
        "print(Xvar)"
      ],
      "execution_count": null,
      "outputs": [
        {
          "output_type": "stream",
          "name": "stdout",
          "text": [
            "3.5\n"
          ]
        }
      ]
    },
    {
      "cell_type": "markdown",
      "metadata": {
        "id": "AS7R0H0k-or7"
      },
      "source": [
        "Duas observações sobre o código acima. A **primeira** é que o **símbolo de \"=\" não denota a \"igualdade\"** entre o \"lado direito\" e o \"lado esquerdo\" da expressão. O símbolo denota uma **\"atribuição\"** do valor à direita do \"=\" para a variável que está à esquerda. Veremos em exemplos adiante, como poderemos fazer \"comparações\", incluindo como checar \"equivalências\" entre variáveis.\n",
        "\n",
        "A **segunda observação** diz respeito ao comando <print> que exibe (ou imprime) o valor da variável Xvar. Na verdade dizem que <print()> é uma função de saída, ou seja, ele recebe variáveis como entrada (argumentos da função) e como resultado exibe ou imprime o valor que a variável guarda. \n",
        "\n",
        "Abaixo, ilustramos um pouco mais o uso do comando <print>, com os exemplos a seguir:"
      ]
    },
    {
      "cell_type": "code",
      "metadata": {
        "colab": {
          "base_uri": "https://localhost:8080/"
        },
        "id": "TVaFg7DPAqDE",
        "outputId": "bda30b96-633d-4b81-c7a6-49071b07066d"
      },
      "source": [
        "media01 = 3.55\n",
        "print(media01)\n",
        "valor_calculado = 0.01\n",
        "print(\"O valor calculado foi de:\", valor_calculado)"
      ],
      "execution_count": null,
      "outputs": [
        {
          "output_type": "stream",
          "name": "stdout",
          "text": [
            "3.55\n",
            "O valor calculado foi de: 0.01\n"
          ]
        }
      ]
    },
    {
      "cell_type": "markdown",
      "metadata": {
        "id": "SoDHLRFGBGby"
      },
      "source": [
        "Falamos também que as variáveis são classificadas de acordo com seu tipo. Em python, o tipo da variável é reconhecido de acordo com os valores que são atribuídos a cada uma delas. Noutras linguagens de programação, muitas vezes, procura-se declarar explicitamente o tipo, indicando qual é a classe de valores que uma variável faz parte. Para reconhecer ou identificar um tipo de variável em python, nós usamos a função <type> aplicada à variável. Veja os exemplos:"
      ]
    },
    {
      "cell_type": "code",
      "metadata": {
        "id": "AXrGYfcyCZ5k"
      },
      "source": [
        "MeuValor_1 = 2.3\n",
        "MeuValor_2 = 2\n",
        "EssaMsg01 = \"Todos os recursos de Python\"\n",
        "imgJ = 4j"
      ],
      "execution_count": null,
      "outputs": []
    },
    {
      "cell_type": "code",
      "source": [
        "type(MeuValor_1)"
      ],
      "metadata": {
        "colab": {
          "base_uri": "https://localhost:8080/"
        },
        "id": "LKHHypEXrOGx",
        "outputId": "ab76bc60-0fd5-4497-9b48-e36708dee5c2"
      },
      "execution_count": null,
      "outputs": [
        {
          "output_type": "execute_result",
          "data": {
            "text/plain": [
              "float"
            ]
          },
          "metadata": {},
          "execution_count": 5
        }
      ]
    },
    {
      "cell_type": "code",
      "metadata": {
        "id": "DxMWfGO1DBz5"
      },
      "source": [
        "# Identificando seus tipos:\n",
        "print(type(MeuValor_1))\n",
        "print(type(MeuValor_2))\n",
        "print(type(EssaMsg01))\n",
        "print(type(imgJ))"
      ],
      "execution_count": null,
      "outputs": []
    },
    {
      "cell_type": "markdown",
      "metadata": {
        "id": "b3nhngJzED9M"
      },
      "source": [
        "Por último, mas não menos importante, convém apresentar um função que ler valores de variáveis, ou seja, a função recebe diretamente entradas de valores que correspondem a uma determinada variável. Essa função é traduzida pelo comando <input>, da forma como veremos a seguir:"
      ]
    },
    {
      "cell_type": "code",
      "metadata": {
        "colab": {
          "base_uri": "https://localhost:8080/"
        },
        "id": "HzETQ6W7Eurn",
        "outputId": "0dcd282b-9797-4782-acd4-aa2e90553af2"
      },
      "source": [
        "#minhaMSG = input(\"Digite um texto: \")\n",
        "meuNum = (input(\"Digite um número: \"))"
      ],
      "execution_count": null,
      "outputs": [
        {
          "name": "stdout",
          "output_type": "stream",
          "text": [
            "Digite um número: 13\n"
          ]
        }
      ]
    },
    {
      "cell_type": "markdown",
      "metadata": {
        "id": "qUPV6WvgFL2H"
      },
      "source": [
        "Agora veremos os resultados exibidos com o comando <print>, a seguir:"
      ]
    },
    {
      "cell_type": "code",
      "metadata": {
        "colab": {
          "base_uri": "https://localhost:8080/"
        },
        "id": "hnLyAmboFWcv",
        "outputId": "f8153b94-afa6-4728-e843-11f34bcef806"
      },
      "source": [
        "# print(minhaMSG)\n",
        "print(meuNum)"
      ],
      "execution_count": null,
      "outputs": [
        {
          "output_type": "stream",
          "name": "stdout",
          "text": [
            "13.0\n"
          ]
        }
      ]
    },
    {
      "cell_type": "markdown",
      "metadata": {
        "id": "Hz1V9H1gFk7V"
      },
      "source": [
        "Por curiosidade vamos checar os tipo de variáveis que foram lidas com o comando \"input\" e veremos que:"
      ]
    },
    {
      "cell_type": "code",
      "metadata": {
        "id": "8eSScv5mFvqN",
        "colab": {
          "base_uri": "https://localhost:8080/"
        },
        "outputId": "bf466e0f-8f17-4df6-c0c8-19506df74b1e"
      },
      "source": [
        "#print(type(minhaMSG))\n",
        "print(type(meuNum))"
      ],
      "execution_count": null,
      "outputs": [
        {
          "output_type": "stream",
          "name": "stdout",
          "text": [
            "<class 'float'>\n"
          ]
        }
      ]
    },
    {
      "cell_type": "markdown",
      "metadata": {
        "id": "FGfKpDh_GDyt"
      },
      "source": [
        "A saída de \"meuNum\" não é um número, mas um texto - parecendo contrário ao que queríamos ler (ou seja, queríamos informar um tipo numérico. Na verdade a função 'input()' sempre vai retornar um tipo 'string' (leia-se texto) e para mudar isso temos que fazer o que chamamos de 'conversão de tipos' ou 'casting' em inglês, que nada mais é do que aplicar o 'tipo de variável que se deseja' ao valor lido pela função 'input', tomamos como exemplo a leitura acima de meuNum,aplicando o 'casting' de tipos na entrada 'input'..."
      ]
    },
    {
      "cell_type": "code",
      "metadata": {
        "id": "r-QdGbaYG-jI"
      },
      "source": [
        "meuNum = float(input(\"Digite um número: \"))\n",
        "print(meuNum)\n",
        "print(type(meuNum))"
      ],
      "execution_count": null,
      "outputs": []
    },
    {
      "cell_type": "markdown",
      "metadata": {
        "id": "xfuGIFQTHbMc"
      },
      "source": [
        "Com isso fechamos esse primeiro módulo de aprender a nomear, atribuir, ler e escrever variáveis e tipos básicos na linguagem python."
      ]
    }
  ]
}