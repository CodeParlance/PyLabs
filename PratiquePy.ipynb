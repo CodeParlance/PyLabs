{
  "nbformat": 4,
  "nbformat_minor": 0,
  "metadata": {
    "colab": {
      "name": "PratiquePy.ipynb",
      "provenance": [],
      "collapsed_sections": [],
      "include_colab_link": true
    },
    "kernelspec": {
      "name": "python3",
      "display_name": "Python 3"
    },
    "language_info": {
      "name": "python"
    }
  },
  "cells": [
    {
      "cell_type": "markdown",
      "metadata": {
        "id": "view-in-github",
        "colab_type": "text"
      },
      "source": [
        "<a href=\"https://colab.research.google.com/github/CodeParlance/PyLabs/blob/main/PratiquePy.ipynb\" target=\"_parent\"><img src=\"https://colab.research.google.com/assets/colab-badge.svg\" alt=\"Open In Colab\"/></a>"
      ]
    },
    {
      "cell_type": "markdown",
      "source": [
        "##Exercícios Resolvidos - Projetando Algoritmos com Python##\n",
        "\n",
        "### Tutorial inclui: Estruturas de Repetição e Seleção em Python ###\n"
      ],
      "metadata": {
        "id": "LVxa0_BxRDM2"
      }
    },
    {
      "cell_type": "markdown",
      "source": [
        "**Apresentação e resolução algorítmica de problemas - passo a passo**\n",
        "\n",
        "*O resultado é filho da experiência. Pratique e aperfeiçoe!*"
      ],
      "metadata": {
        "id": "mBTDvqrGRrGM"
      }
    },
    {
      "cell_type": "markdown",
      "metadata": {
        "id": "STi-Hz6RcuJD"
      },
      "source": [
        "## Python e o 'pensamento' algorítmico como forma de resolver problemas ##\n",
        "\n",
        "Observe os dois problemas a seguir que necessitam de uma resolução computacional:\n",
        "\n",
        "P1. *Gere e imprima os números naturais entre 0 e 10.\n",
        "0,1,2,3,4,5,6,7,8,9,10*\n",
        "\n",
        "\n",
        "P2. *Dada uma lista de números l={2,3,-1,0,9,10} selecione o maior e o menor número*\n",
        "\n",
        "\n",
        "Na questão P1, poderemos imaginar a seguinte solução passo a passo, de instruções, que nos\n",
        "diz como construir uma solução a partir da definição de uma variável inicial NUM, testar uma condição parada (verificar se NUM já atingiu 10), e incrementar a variável NUM de uma vez, a cada repetição desse processo.\n",
        "\n",
        "``` Algoritmo Gera Número de 0 a 10\n",
        "# Algoritmo da Solução\n",
        "1. Inicie uma variável NUM = 0\n",
        "2. Enquanto NUM <= 10 faça\n",
        "   Imprimir NUM\n",
        "   NUM = NUM + 1\n",
        "3. Fim-do-Enquanto\n",
        "```\n",
        "\n",
        "\n",
        "\n",
        "\n",
        "\n"
      ]
    },
    {
      "cell_type": "markdown",
      "source": [
        ""
      ],
      "metadata": {
        "id": "Xb9HLcvBRBkF"
      }
    },
    {
      "cell_type": "code",
      "metadata": {
        "id": "ObeFUqPZd9YR"
      },
      "source": [
        "# Traduzindo o nosso passo a passo para a Linguagem Python temos:"
      ],
      "execution_count": null,
      "outputs": []
    },
    {
      "cell_type": "code",
      "metadata": {
        "id": "i6xKGQDdhgWR"
      },
      "source": [
        "# Nesse exercício introduzimos o uso do comando de repetição 'while'\n",
        "# while <cond>:\n",
        "#  bloco de comandos\n",
        "\n",
        "num = 0               # Iniciar a variável num com zero\n",
        "while num <= 10:      # Enquanto num não atingir o valor 10 faça\n",
        "  print(num)          #     imprimir num\n",
        "  num = num + 1       #     incremente num de 1 (num = num + 1)\n",
        "                      #     voltar para o início do 'enquanto'.\n",
        "#\n",
        "\n",
        "\n"
      ],
      "execution_count": null,
      "outputs": []
    },
    {
      "cell_type": "markdown",
      "metadata": {
        "id": "ycQhy5UQfp38"
      },
      "source": [
        "Vimos na questão anterior o que chamamos de uma **solução algorítmica**. Ou seja, uma **solução passo a passo**, a partir de **um conjunto de instruções bem definidas, que são executadas de acordo com um fluxo**, sempre de cima para baixo e da direita para esquerda, na ordem em que se lê o código fonte, ou seja, as instruções que formam o algoritmo.\n",
        "\n",
        "As linguagens de programação são usadas para 'darem vida' ao seu algoritmo. Cada *linguagem de programação tem sua sintaxe própria*, ou seja, seu conjunto instruções, que chamamos de *palavras reservadas*, ou simplemente identificadores da linguagem.\n",
        "\n",
        "Na figura abaixo mostramos as 30 palavras reservadas de Python. Não podemos usá-las como nomes de variáveis ou funções, pois esses são comandos da linguagem Python. Exploraremos a maioria deles.\n",
        "\n",
        "\n",
        "---\n",
        "\n",
        "\n",
        "![WordsPy.PNG](data:image/png;base64,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)\n",
        "\n",
        "\n",
        "---\n",
        "\n"
      ]
    },
    {
      "cell_type": "markdown",
      "metadata": {
        "id": "qAQ0rjhCipTk"
      },
      "source": [
        "No problema P2, pedimos que dada uma lista de números possamos selecionar o MAIOR e o MENOR dentre eles. \n",
        "\n",
        "Obviamente para iniciar a resolução desse tipo de problema, precisamos saber ONDE LER TAL LISTA ou pelo menos COMO PODEMOS OBTÊ-LA?\n",
        "\n",
        "Como ainda não fomos apresentados ao tipo 'lista' do Python, que tal usarmos o comando (ou função) 'input' do python, para ler sucessivamente números no intuito de compará-los e classificá-los (como MAIOR ou MENOR) na medida em que lemos esses números?\n",
        "\n",
        "Ora, mais ler sucessivamente, significa que vamos REPETIR o processo de leitura, até esgotarmos a lista de números OU atingirmos uma 'condição de parada' que possamos 'TESTAR' a cada vez que repetirmos o processo de comparação entre os números lidos. Isso é pensar, de forma algorítmica!\n",
        "\n"
      ]
    },
    {
      "cell_type": "markdown",
      "metadata": {
        "id": "oc5vPatkk0HP"
      },
      "source": [
        "Vamos então 'pensar num algorítmo' que trará uma solução para o problema...\n",
        "\n",
        "```\n",
        "# Algoritmo 'Ler N números e escolher o maior e o menor entre os números lidos'\n",
        "1. Informar tamanho N da lista\n",
        "2. Atribuir o MAIOR número como -999999999999\n",
        "3. Atribuir o MENOR número como 999999999999\n",
        "4. Iniciar CONT = 0\n",
        "5. Enquanto CONT < N FAÇA\n",
        "     LER NUM\n",
        "     Incrementar Contador (CONT + 1)\n",
        "     SE NUM > MAIOR FAÇA\n",
        "       MAIOR = NUM\n",
        "     SE NUM < MENOR FAÇA\n",
        "       MENOR = NUM\n",
        "6. Imprimir Maior e Menor\n",
        "```\n"
      ]
    },
    {
      "cell_type": "code",
      "metadata": {
        "id": "YFkibL9qnbPC"
      },
      "source": [
        "# Vamos representar o algoritmo acima com a linguagem Python\n",
        "\n",
        "# Nesse exercício, introduzimos o uso do comando de SELEÇÃO/DECISÃO 'if'\n",
        "# if <condição lógica>:\n",
        "     # bloco de comandos\n",
        "\n",
        "# Iniciar Valores do Algoritmo\n",
        "TAMANHO = int(input(\"Quantos números serão lidos: \")) # Tamanho máximo da lista\n",
        "MAIOR = -999999999999                         # Iniciar com um 'falso' maior\n",
        "MENOR = 999999999999                          # Iniciar com um 'falso' menor\n",
        "CONT = 0                                      # Iniciar a CONTAGEM do ZERO\n",
        "\n",
        "# Ler N números e compara com MAIOR e MENOR corrente\n",
        "while (CONT < TAMANHO):                       # Testar se há números para ler\n",
        "  NUM = float(input(\"Informe um número: \"))    # Ler um número real \n",
        "  CONT = CONT + 1                              # Incrementar o contador\n",
        "  if NUM > MAIOR:                              # O número lido é maior que MAIOR\n",
        "    MAIOR=NUM                                      # NUM é o 'novo' MAIOR\n",
        "  if NUM < MENOR:                              # O número lido é menor que MENOR\n",
        "    MENOR=NUM                                      # NUM é o 'novo' MENOR\n",
        "                                               # Voltar para o início do 'while'\n",
        "# Imprimir o maior e o menor entre eles\n",
        "print(\"O maior é: \", MAIOR)              # Imprimir o MAIOR entre todos lidos\n",
        "print(\"O menor é: \", MENOR)              # Imprimir o MENOR entre todos lidos\n",
        "\n",
        "# Problema resolvido!\n",
        "  \n",
        "\n"
      ],
      "execution_count": null,
      "outputs": []
    },
    {
      "cell_type": "markdown",
      "metadata": {
        "id": "pPIV4_A7_0Kf"
      },
      "source": [
        "Veja que os dois problemas acima são enunciados de forma muito simples. Todavia para que computadores possam resolver problemas, precisamos trabalhar 'scripts' de tal forma que possamos ensinar uma 'receita' que resolve o problema, passo a passo. Nós chamamos isso acima de ALGORITMO, ou seja um fluxo lógico de instruções que, uma vez executado, LER ENTRADAS, PROCESSA A 'RECEITA' e EXIBE SAÍDAS, ou seja as soluções desejadas para o problema.\n",
        "\n",
        "Independente da complexidade do problema a resolver, das entradas, dos procedimentos que devemos executar, ou da resposta que procuramos, algoritmos sempre têm TRÊS INGREDIENTES BÁSICOS...\n",
        "\n",
        "Um conjunto de variáveis que precisam ser manipuladas: ENTRADAS\n",
        "\n",
        "Um FLUXO DE CONTROLE que incorpora:\n",
        "Declarações - Um ou mais comandos em sequência\n",
        "Repetições - Comandos que permitem repetir um certo procedimento lógico\n",
        "Seleções - Comandos que permitem testar e decidir o que fazer em certa situação\n",
        "\n",
        "um conjunto de respostas que representam os resultados: SAÍDAS."
      ]
    },
    {
      "cell_type": "code",
      "metadata": {
        "id": "6uGzmq-eDcfD"
      },
      "source": [
        "# Forma Geral de um Algoritmo\n",
        "\n",
        "# Início do Algoritmo - Leituras de variáveis, definições, constantes, etc.\n",
        "\n",
        "# Declarações - Início do fluxo, definição de funções de apoio, etc\n",
        "\n",
        "# Fluxo de Controle - Testes lógicos, repetições e seleções\n",
        "\n",
        "# Saídas - Exibição de resultados, formatações e gráficos\n",
        "\n",
        "# Fim do Algoritmo"
      ],
      "execution_count": null,
      "outputs": []
    },
    {
      "cell_type": "markdown",
      "metadata": {
        "id": "6dSQdt87mgUx"
      },
      "source": [
        "\n",
        "Exercícios propostos\n",
        "\n",
        "Q1. Gere todos os números X num intervalo [a,b], tal que a<=X<=b. Imprima esses números.\n",
        "\n",
        "\n",
        "Q2. Some todos os números num intervalo qualquer informado pelo teclado (informe os limites do intervalo). Imprima os números pares gerados e o resultado da soma no intervalo dado.\n",
        "\n",
        "\n",
        "Q3. Leia uma lista de números naturais, imprima o maior e o menor, tomando como\n",
        "condição de parada a leitura de uma número negativo.\n",
        "\n",
        "Enviar correta, recebe 0.2 na média da AB1\n",
        "\n",
        "\n",
        "\n",
        "\n",
        "\n",
        "\n",
        "\n",
        "\n"
      ]
    },
    {
      "cell_type": "code",
      "metadata": {
        "id": "KDg9n5l7Ejcp"
      },
      "source": [
        "# Resolvendo Q1\n",
        "\n",
        "# Pensando no algoritmo ...\n",
        "# Ler os extremos A e B de um intervalo inteiro qualquer\n",
        "# Enquanto A <= B Faça\n",
        "#   Imprimir A\n",
        "#   A = A + 1\n",
        "\n",
        "# Em Python\n",
        "\n",
        "A = int(input(\"Informe o limite inferior A: \"))\n",
        "B = int(input(\"Informe o limite superior B: \"))\n",
        "while A <= B:\n",
        "  print(A)\n",
        "  A = A + 1\n",
        "print(\"Fim do Intervalo!\")\n",
        "\n"
      ],
      "execution_count": null,
      "outputs": []
    },
    {
      "cell_type": "code",
      "metadata": {
        "id": "zyOWGXnHGgBY"
      },
      "source": [
        "# Resolvendo Q2\n",
        "\n",
        "A = int(input(\"Informe o limite inferior A: \")) # Ler o extremo A\n",
        "B = int(input(\"Informe o limite superior B: \")) # Ler o extremo B\n",
        "# Gerando os números no Intervalo Dados\n",
        "SOMA = 0 # Iniciando a soma\n",
        "CONT = 0 # Iniciando contagem de pares\n",
        "while A <= B:                                       # Enquanto A corrente <= B\n",
        "  SOMA = SOMA + A                                   # Acumule A\n",
        "  if (A%2 == 0):                                    # Verifique se A é Par\n",
        "     print(A, \"é par!\")                               # Caso sim, imprima A\n",
        "     CONT = CONT + 1                                  # Conte os pares\n",
        "  A = A + 1                                         # Incremente A\n",
        "print(\"O somatório do intervalo é: \", SOMA)         # Imprimir a SOMA total\n",
        "print(\"Foram lidos \", CONT, \"pares no intervalo!\" ) # Imprimir pares lidos\n",
        "\n",
        "# Fim do Algoritmo"
      ],
      "execution_count": null,
      "outputs": []
    },
    {
      "cell_type": "code",
      "metadata": {
        "id": "H0tA83HvKO7i"
      },
      "source": [
        "# Resolvedo o Q3\n",
        "\n",
        "# Para entender o código abaixo, veja o que já falei no problema P2 acima\n",
        "\n",
        "num = 0\n",
        "M = -99999999\n",
        "m = 99999999\n",
        "while num >= 0:\n",
        " num = int(input(\"Informe um número: \"))\n",
        " if num > M:                              \n",
        "    M = num                                    \n",
        " if num < m:                              \n",
        "    m = num     \n",
        "print(\"O maior é: \", M)\n",
        "print(\"O menor é: \", m)"
      ],
      "execution_count": null,
      "outputs": []
    },
    {
      "cell_type": "markdown",
      "metadata": {
        "id": "sB9spEWhMOLq"
      },
      "source": [
        "Alguns detalhes adicionais sobre o que discutimos acima. Além de palavras reservadas, o python conta com inúmeras bibliotecas que estendem suas funções básicas e permitem resolver vários tipos de problemas. \n",
        "\n",
        "Aprendemos essas bibliotecas e funções, na medida da necessidade para resolver problemas e questões mais específicas, como, por exemplo, funções matemáticas avançadas, manipulação de vetores e matrizes, manipulação de arquivos e planilhas, acesso a bases e bancos de dados, manipulação de textos, gráficos 2D e 3D, animação, jogos, simulação, resolução de sistemas de equações, otimização matemática, derivadas e integrais, aprendizagem de máquina e inteligência artificial, dentre outras mais específicas de estatística, física e métodos numéricos para engenharias. Veremos alguns usos de bibliotecas no decorrer desse curso.\n",
        "\n",
        "Por exemplo, para gerar intervalos numéricos precisamos de uma função da biblioteca básica do python, chamada 'range'. 'range' nos fornece intervalos numéricos. Veja os exemplos abaixo:\n",
        "\n"
      ]
    },
    {
      "cell_type": "code",
      "metadata": {
        "id": "TLuXOf7VM5bb"
      },
      "source": [
        "# O comando 'for' é um comando de repetição. Seu uso é bastante conveniente quando sabemos\n",
        "# quantas repetições iremos executar, por exemplo num certo intervalo.\n",
        "tamanho=10\n",
        "for num in range(tamanho):\n",
        "  print(num)\n",
        "\n",
        "# Note que range varia de 0 a tamanho, com o intervalo aberto em tamanho.\n",
        "\n",
        "# 'range' nos fornece ainda uma forma de estabelecer o 'passo' num certo\n",
        "# intervalo. Vejamos:\n",
        "print(\"---\")\n",
        "for x in range(1,21,2):\n",
        "  print(x)"
      ],
      "execution_count": null,
      "outputs": []
    },
    {
      "cell_type": "code",
      "metadata": {
        "id": "6ZpP42rdOt1P"
      },
      "source": [
        "# Entre as variações do comando if, está o if/else e o if/elif\n",
        "\n",
        "a=3\n",
        "b=4\n",
        "\n",
        "if a<b:\n",
        "  print(\"aqui está o: \", a)\n",
        "else:\n",
        "  print(\"aqui está o: \", b)\n",
        "\n",
        "chance1 = True\n",
        "chance2 = True\n",
        "if chance1 == True:\n",
        "   print(chance1)\n",
        "elif chance2 == True:\n",
        "   print(chance2)\n",
        "\n"
      ],
      "execution_count": null,
      "outputs": []
    },
    {
      "cell_type": "markdown",
      "source": [
        "Nesse tutorial, você aprendeu a usar o que chamamos de 'lógica de progamação' ou 'fluxo de controle lógico' para resolver problemas de natureza computacional. Observe que um algoritmos, na prática, representa uma forma de codificar um ou mais processos ou procedimentos operacionais padronizados por uma lógica (fluxo de controle) e um protocolo (linguagem bem definida) de comunicação que define como uma determina operação é executada, passo a passo.\n",
        "\n",
        "Observe que tudo o que você precisa conhecer para construir os 'procedimentos operacionais' (algoritmos) que realizam as 'tarefas' (operação a executar) é descrever o processo usando uma linguagem de programação (python nesse caso) e os seus diversos recursos.\n",
        "\n",
        "É dessa maneira que um engenheiro de produção consegue codificar processos e o conhecimento sobre ele por meio da engenharia de software ou (de maneira mais simples) do projeto e desenvolvimento de uma sistema (que portanto é visto como um conjunto de entidades [estruturas de dados]\n",
        "e processos [algoritmos])"
      ],
      "metadata": {
        "id": "JarLDmb9R7GN"
      }
    }
  ]
}