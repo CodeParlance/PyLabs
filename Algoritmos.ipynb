{
  "nbformat": 4,
  "nbformat_minor": 0,
  "metadata": {
    "colab": {
      "name": "Algoritmos.ipynb",
      "provenance": [],
      "include_colab_link": true
    },
    "kernelspec": {
      "name": "python3",
      "display_name": "Python 3"
    },
    "language_info": {
      "name": "python"
    }
  },
  "cells": [
    {
      "cell_type": "markdown",
      "metadata": {
        "id": "view-in-github",
        "colab_type": "text"
      },
      "source": [
        "<a href=\"https://colab.research.google.com/github/CodeParlance/PyLabs/blob/main/Algoritmos.ipynb\" target=\"_parent\"><img src=\"https://colab.research.google.com/assets/colab-badge.svg\" alt=\"Open In Colab\"/></a>"
      ]
    },
    {
      "cell_type": "code",
      "execution_count": null,
      "metadata": {
        "id": "CABPqeXjc1OB"
      },
      "outputs": [],
      "source": [
        ""
      ]
    },
    {
      "cell_type": "markdown",
      "source": [
        "##Resolvendo problemas através de algoritmos##\n",
        "\n",
        "1. Algoritmos e Programas\n",
        "\n",
        "De maneira informal, um algoritmo é uma descrição finita e não ambígua de um conjunto de instruções executadas num tempo finito. Já um programa é um algoritmo definido numa linguagem formal que recebe uma entrada, processa e devolve uma saída.\n",
        "\n",
        "Observe que para programar qualquer tarefa, processo ou atividade é necessário representá-la como um algoritmo. A codificação numa determinada linguagem de programação é apenas o passo que concretiza sua 'visão lógica' da solução, numa linguagem passível de execução em qualquer computador.\n",
        "\n",
        "Veja o seguinte problema simples de matemática: *Faça a soma de todos os naturais de 1 até N, onde N é um natural qualquer.*\n",
        "\n",
        "Naturalmente sua visão aritmética tenderá a fazer a operação da seguinte forma: \n",
        "\n",
        "Dado N = 10, a SOMA será dada por:\n",
        "SOMA = 1 + 2 + 3 + 4 + 5 + 6 + 7 + 8 + 9 + 10,\n",
        "donde se calcula que\n",
        "SOMA = 55\n",
        "\n",
        "```\n",
        "Dado N = 10, a SOMA será dada por:\n",
        "SOMA = 1 + 2 + 3 + 4 + 5 + 6 + 7 + 8 + 9 + 10,\n",
        "donde se calcula que\n",
        "SOMA = 55\n",
        "\n",
        "```\n",
        "\n"
      ],
      "metadata": {
        "id": "uhTwX4Zjc25k"
      }
    },
    {
      "cell_type": "markdown",
      "source": [
        "2. Pseudo Código\n",
        "\n",
        "Embora saibamos que a solução acima está correta do ponto de vista aritmético, do ponto de vista algoritmo temos que fazê-la através de instruções precisas\n",
        "e não ambíguas que envolvam uma 'lógica própria de descrição' do processo através do qual possamos resolver tal problema numa sequência de passos, que executam de forma ordenada.\n",
        "\n",
        "A razão disso é que computadores fazem operações manipulando símbolos e realizam operações bem definidas chamadas 'instruções' que são executadas\n",
        "num fluxo próprio e que pode se valer de:\n",
        "\n",
        "1. definição de variáveis e constantes\n",
        "2. atribuição de valores a variáveis\n",
        "3. leitura de variáveis\n",
        "4. escrita de variáveis\n",
        "5. definição de blocos de comandos\n",
        "6. definição de blocos de decisão (se ISSO então ASSIM senão AQUILO)\n",
        "7. definição de repetições de blocos de comandos\n",
        "8. definição de funções e procedimentos\n",
        "\n",
        "Então no problema anterior de somar os naturais de 1 a N, precisamos estruturar a solução de uma maneira diferente, preferencialmente usando um código ou pseudocódigo que represente uma linguagem.\n",
        "\n",
        "Por exemplo, veja a descrição abaixo:\n",
        "\n",
        "```\n",
        "Leia N\n",
        "somaNaturais <- 0\n",
        "PARA num no intervalo [1, N] FAÇA\n",
        "  Início\n",
        "    somaNaturais <- somaNaturais + num\n",
        "  Fim\n",
        "Imprima (somaNaturais)\n",
        "```\n",
        "\n",
        "\n",
        "O código acima descreve como se realizar a soma dos N naturais através de instruções numa 'linguagem abstrata' parecida com a nossa língua natural.\n",
        "\n",
        "Como não é uma linguagem de programação, vamos chamá-lo de pseudocódigo, ou seja apenas uma forma de representar a solução usando algo semelhante a uma linguagem de programação.\n",
        "\n",
        "\n"
      ],
      "metadata": {
        "id": "5T7zMsgFhxj0"
      }
    },
    {
      "cell_type": "markdown",
      "source": [
        "Observe que a tradução para python seria imediata e feita assim:\n",
        "\n",
        "\n",
        "\n",
        "```\n",
        "N = int(input(N))\n",
        "somaNaturais = 0\n",
        "for num in range(1,n+1):\n",
        "  somaNaturais = somaNaturais + num\n",
        "print(somaNaturais)\n",
        "```\n"
      ],
      "metadata": {
        "id": "XdvgNQl9oa--"
      }
    },
    {
      "cell_type": "markdown",
      "source": [
        "3. Solução Algorítmica\n",
        "\n",
        "A principal dificuldade que muitos alunos apresentam ao tentar aprender uma linguagem de programação não tem relação direta como 'programação de computadores', mas com a forma algorítmica de resolver problemas. E a razão é simples: nossos alunos passaram muito tempo aprendendo a resolver questões de forma algébrica ou de forma aritmética, e poucas vezes praticaram soluções algorítmicas. \n",
        "\n",
        "Algoritmos exigem a construção de forma sistemática e passo a passo de soluções que sigam um 'certo fluxo de controle', ou seja, exige um sequência de operações, que na maioria das vezes implica em definir variáveis, atribuir valores, tomar decisões para desviar o fluxo das operações, ou repetir operações quando determinadas situações ocorrem.\n",
        "\n",
        "Além disso, dependendo da complexidade do problema a resolver - talvez seja boa estratégia dividir um problema maior em problemas menores, resolvendo primeiro as partes mais simples e depois relacionando essas partes através de entradas e saídas entre as partes do problema. Ou seja, exige o que chamamos de visão da lógica de programação da tarefa a resolver.\n",
        "\n",
        "Na questão acima de somar inteiros, poderíamos pensar da seguinte forma.\n",
        "\n",
        "```\n",
        "Somar Naturais Até N\n",
        " Ler o número N\n",
        " Definir uma variável SOMA e iniciá-la com 0\n",
        " Para cada NUM no intervalo dado por [1,N]\n",
        "   Fazer\n",
        "     A Variável SOMA acumular o seu último valor com NUM\n",
        "   Fim da Repetição\n",
        " Imprimir a SOMA final\n",
        "```\n",
        "\n",
        "Observe que a solução exigiu que a nossa descrição do processo envolvesse\n",
        "a leitura de uma variável desconhecida, a iniciação de uma variável necessária com um valor zero e a repetição da operação que faz uma soma acumulada dos números a cada vez que a variável NUM assume um valor no intervalod e 1 a N. Quando essa repetição termina, a soma total dos valores (acumulados) é impressa ao final do processo. Seguimos um fluxo bem definido para descrever a solução com uma 'lógica apropriada'. Você pode perguntar: apropriada para o quê?! E eu respondo: para ensinar as máquinas a executar essa tarefa quantas vezes você necessitar, sem precisar pensar nesse processo de novo, pois você agora tem um algoritmo do processo e pode codificá-lo numa linguagem de programação (em qualquer uma delas).\n",
        "\n"
      ],
      "metadata": {
        "id": "Cyntu1cjpNsz"
      }
    },
    {
      "cell_type": "markdown",
      "source": [
        "4. Era dos Algoritmos\n",
        "\n",
        "Vivemos na era dos algoritmos. Ou seja, a era da quarta revolução industrial. Uma era em que a sociedade como um todo e seus setores produtivos se beneficiam da automação de processos em todas as áreas do saber, incluindo aí os processos que envolvem expertise e inteligência humana. \n",
        "\n",
        "Algoritmos de inteligência artificial são aqueles que fazem uso de técnicas da lógica-matemática, de modelos estatísticos ou de métodos bioinspirados para reconhecerem padrões (situações) e a partir de alguns casos (base de conhecimento ou amostra) poderem fazer algum tipo de inferência (raciocínio) que se assemelha ao raciocínio humano. \n",
        "\n",
        "Hoje em dia, quase tudo que fazemos tem a ação direta ou indireta dos algoritmos. Isso vai desde os relacionamentos que mantemos com amigos ou parentes, com a sua relação de empregabilidade com o mercado e até mesmo com a necessidade de comunicação ou uso de ferramentas de trabalho. Pare e pense um pouco. Tente imaginar algo que você tenha feito ultimamente que NÃO sofreu a ação de algoritmos. Pense outra vez, pois os algoritmos controlam desde o fluxo de dinheiro, de logística de produtos e serviços sobre a terra, às comunicações em todo planeta. \n",
        "\n",
        "O seu dia a dia e tudo o que você faz de mais simples ao mais complexo, passou, passa, ou passará em algum momento, pelo crivo de algum algoritmo. Então aprenda a dominá-los antes que eles dominem você. "
      ],
      "metadata": {
        "id": "mhi_sPdrxeGR"
      }
    },
    {
      "cell_type": "code",
      "source": [
        ""
      ],
      "metadata": {
        "id": "MfJc4JImn5z1"
      },
      "execution_count": null,
      "outputs": []
    }
  ]
}